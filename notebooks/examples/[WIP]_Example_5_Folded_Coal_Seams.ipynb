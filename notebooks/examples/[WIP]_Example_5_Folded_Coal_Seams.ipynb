{
 "cells": [
  {
   "cell_type": "markdown",
   "metadata": {},
   "source": [
    "# Example 5 - Inclined Layers cut by Fault\n",
    "\n",
    "This example will show how to convert the geological map below to a `GemPy` model. This example is based on digitized data. The area is 2978 m wide (W-E extent) and 3728 m high (N-S extent). \n",
    "\n",
    "The table below shows the result of a drilling campaign carried out at 5 different points (A-F). For Coal1, the base of the layer is noted. For a sand layer the whole segment is noted. A second coal seam was only encountered at locations B, C and D. The numbers in meter indicate where layer boundaries where encountered below the surface. \n",
    "\n",
    "|      | A    | B    | C    | D    | E    | F    |\n",
    "|------|------|------|------|------|------|------|\n",
    "|Coal1 |100 m | 50 m | 50 m | 50 m | 150 m| 250 m|\n",
    "| Sand |100-130 m | 50-100 m | 50-100 m | 50-100 m | 150-220 m| 250-300 m| \n",
    "|Coal2 |?     | 100 m| 100 m| 100 m|     ?|     ?|\n",
    "\n",
    "\n",
    "Coal seam 1 is already outcropping in the area and partial layer boundaries and orientation measurements are provided. Coal seam 2 was not found at locations E and F nor at the surface. The indicated line marks custom section number 1. \n",
    "\n",
    "\n",
    "<img src=\"../../../gemgis/data/examples/example5/task5.png\" width=\"300\">"
   ]
  },
  {
   "cell_type": "markdown",
   "metadata": {},
   "source": [
    "# Importing Libraries"
   ]
  },
  {
   "cell_type": "code",
   "execution_count": null,
   "metadata": {
    "ExecuteTime": {
     "end_time": "2020-07-29T19:53:31.275810Z",
     "start_time": "2020-07-29T19:53:29.369823Z"
    }
   },
   "outputs": [],
   "source": [
    "import sys\n",
    "sys.path.append('../../../gemgis')\n",
    "import gemgis as gg\n",
    "import geopandas as gpd\n",
    "import rasterio\n",
    "import numpy as np\n",
    "import pandas as pd\n",
    "import matplotlib.pyplot as plt\n",
    "from matplotlib.colors import ListedColormap\n",
    "from mpl_toolkits.axes_grid1 import make_axes_locatable"
   ]
  },
  {
   "cell_type": "markdown",
   "metadata": {},
   "source": [
    "# Load Data\n",
    "\n",
    "The data is loaded as for the previous example. However, orientations are not loaded as these will be calculated by available strike lines as shown in the tutorials. "
   ]
  },
  {
   "cell_type": "code",
   "execution_count": null,
   "metadata": {
    "ExecuteTime": {
     "end_time": "2020-07-29T19:59:56.509504Z",
     "start_time": "2020-07-29T19:59:56.495506Z"
    }
   },
   "outputs": [],
   "source": [
    "base_map = rasterio.open('../../../gemgis/data/examples/example5/task5.tif')\n",
    "interfaces = gpd.read_file('../../../gemgis/data/examples/example5/interfaces5_lines.shp')\n",
    "# orientations = gpd.read_file('../../../gemgis/data/examples/example5/orientations5.shp')\n",
    "extent = gpd.read_file('../../../gemgis/data/examples/example5/extent5.shp')\n",
    "# geological_map = gpd.read_file('../../../gemgis/data/examples/example5/geolmap5.shp')\n",
    "topo = gpd.read_file('../../../gemgis/data/examples/example5/topo5.shp')\n",
    "custom_section = gpd.read_file('../../../gemgis/data/examples/example5/customsections5.shp')"
   ]
  },
  {
   "cell_type": "markdown",
   "metadata": {},
   "source": [
    "# Inspect Data"
   ]
  },
  {
   "cell_type": "code",
   "execution_count": null,
   "metadata": {
    "ExecuteTime": {
     "end_time": "2020-07-29T19:59:57.407918Z",
     "start_time": "2020-07-29T19:59:57.401916Z"
    }
   },
   "outputs": [],
   "source": [
    "interfaces.head()"
   ]
  },
  {
   "cell_type": "code",
   "execution_count": null,
   "metadata": {
    "ExecuteTime": {
     "end_time": "2020-07-29T19:59:57.547917Z",
     "start_time": "2020-07-29T19:59:57.540916Z"
    }
   },
   "outputs": [],
   "source": [
    "extent.head()"
   ]
  },
  {
   "cell_type": "code",
   "execution_count": null,
   "metadata": {
    "ExecuteTime": {
     "end_time": "2020-07-29T19:59:57.685917Z",
     "start_time": "2020-07-29T19:59:57.675917Z"
    }
   },
   "outputs": [],
   "source": [
    "topo.head()"
   ]
  },
  {
   "cell_type": "markdown",
   "metadata": {},
   "source": [
    "# Create GemPy Data Class"
   ]
  },
  {
   "cell_type": "code",
   "execution_count": null,
   "metadata": {
    "ExecuteTime": {
     "end_time": "2020-07-29T19:59:57.938918Z",
     "start_time": "2020-07-29T19:59:57.936916Z"
    }
   },
   "outputs": [],
   "source": [
    "geo_data = gg.GemPyData(model_name='Model5', \n",
    "                        crs='EPSG:4326')"
   ]
  },
  {
   "cell_type": "code",
   "execution_count": null,
   "metadata": {
    "ExecuteTime": {
     "end_time": "2020-07-29T19:59:58.085917Z",
     "start_time": "2020-07-29T19:59:58.082917Z"
    }
   },
   "outputs": [],
   "source": [
    "vars(geo_data)"
   ]
  },
  {
   "cell_type": "markdown",
   "metadata": {},
   "source": [
    "# Set Extent"
   ]
  },
  {
   "cell_type": "code",
   "execution_count": null,
   "metadata": {
    "ExecuteTime": {
     "end_time": "2020-07-29T19:59:58.755354Z",
     "start_time": "2020-07-29T19:59:58.748355Z"
    }
   },
   "outputs": [],
   "source": [
    "geo_data.set_extent(gdf=extent, minz=-200, maxz=500)\n",
    "geo_data.extent"
   ]
  },
  {
   "cell_type": "markdown",
   "metadata": {},
   "source": [
    "# Set Resolution"
   ]
  },
  {
   "cell_type": "code",
   "execution_count": null,
   "metadata": {
    "ExecuteTime": {
     "end_time": "2020-07-29T19:59:59.425214Z",
     "start_time": "2020-07-29T19:59:59.422212Z"
    }
   },
   "outputs": [],
   "source": [
    "geo_data.set_resolution(50,50,50)\n",
    "geo_data.resolution"
   ]
  },
  {
   "cell_type": "markdown",
   "metadata": {},
   "source": [
    "# Loading Layer Style"
   ]
  },
  {
   "cell_type": "raw",
   "metadata": {
    "ExecuteTime": {
     "end_time": "2020-07-29T15:08:55.795637Z",
     "start_time": "2020-07-29T15:08:55.785636Z"
    }
   },
   "source": [
    "cols = gg.utils.load_surface_colors('../../../gemgis/data/examples/example4/style4.qml', geological_map)\n",
    "cols"
   ]
  },
  {
   "cell_type": "markdown",
   "metadata": {},
   "source": [
    "# Plot Data"
   ]
  },
  {
   "cell_type": "code",
   "execution_count": null,
   "metadata": {
    "ExecuteTime": {
     "end_time": "2020-07-29T20:00:47.177364Z",
     "start_time": "2020-07-29T20:00:46.765376Z"
    }
   },
   "outputs": [],
   "source": [
    "# Creating a figure with two subplots\n",
    "fig, (ax1, ax2) = plt.subplots(ncols=2, sharex=True, sharey=True,figsize=(20,10))\n",
    "# Plotting the geological map\n",
    "ax1.imshow(np.flipud(base_map.read(1)), origin = 'lower', cmap ='gray', extent=geo_data.extent[:4])\n",
    "ax1.set_xlabel('X')\n",
    "ax1.set_ylabel('Y')\n",
    "ax1.grid()\n",
    "ax1.set_ylim(geo_data.extent[2],geo_data.extent[3])\n",
    "ax1.set_xlim(geo_data.extent[0],geo_data.extent[1])\n",
    "\n",
    "# Plotting the geological map\n",
    "ax2.imshow(np.flipud(base_map.read(1)), origin = 'lower', cmap ='gray', extent=geo_data.extent[:4])\n",
    "# Plotting the different elements on the geological map\n",
    "# geological_map.plot(ax=ax2, column = 'formation', alpha=0.75, legend=True, cmap=ListedColormap(cols))\n",
    "topo.plot(ax=ax2, column = 'Z', legend = False, linewidth = 5)\n",
    "interfaces.plot(ax=ax2, column = 'formation', legend = True, linewidth = 10)\n",
    "# orientations.plot(ax=ax2, column = 'formation', legend = False, s = 300)\n",
    "\n",
    "ax2.set_xlabel('X')\n",
    "ax2.set_ylabel('Y')\n",
    "ax2.grid()\n",
    "ax1.set_ylim(geo_data.extent[2],geo_data.extent[3])\n",
    "ax1.set_xlim(geo_data.extent[0],geo_data.extent[1]);"
   ]
  },
  {
   "cell_type": "markdown",
   "metadata": {},
   "source": [
    "# Interpolate Topography"
   ]
  },
  {
   "cell_type": "code",
   "execution_count": null,
   "metadata": {
    "ExecuteTime": {
     "end_time": "2020-07-29T20:03:09.659840Z",
     "start_time": "2020-07-29T20:03:09.501844Z"
    }
   },
   "outputs": [],
   "source": [
    "dem = gg.vector.interpolate_raster(topo, method='rbf')\n",
    "dem"
   ]
  },
  {
   "cell_type": "code",
   "execution_count": null,
   "metadata": {
    "ExecuteTime": {
     "end_time": "2020-07-29T20:02:07.569272Z",
     "start_time": "2020-07-29T20:02:06.806271Z"
    }
   },
   "outputs": [],
   "source": [
    "plt.figure(figsize=(10, 10))\n",
    "plt.imshow(np.flipud(base_map.read(1)), origin='lower',\n",
    "           cmap='gray', extent=geo_data.extent[:4])\n",
    "im = plt.imshow(dem, origin='lower', alpha=0.75, cmap='gist_earth')\n",
    "cbar = plt.colorbar(im)\n",
    "cbar.set_label('m')"
   ]
  },
  {
   "cell_type": "markdown",
   "metadata": {},
   "source": [
    "# Save Topography as Raster"
   ]
  },
  {
   "cell_type": "code",
   "execution_count": null,
   "metadata": {
    "ExecuteTime": {
     "end_time": "2020-07-29T15:09:01.330635Z",
     "start_time": "2020-07-29T15:09:01.315636Z"
    }
   },
   "outputs": [],
   "source": [
    "gg.raster.save_as_tiff('../../../gemgis/data/examples/example5/topo.tif',dem, crs='EPSG:4326', extent=[0,765,0,1000])"
   ]
  },
  {
   "cell_type": "code",
   "execution_count": null,
   "metadata": {
    "ExecuteTime": {
     "end_time": "2020-07-29T15:09:01.340636Z",
     "start_time": "2020-07-29T15:09:01.332636Z"
    }
   },
   "outputs": [],
   "source": [
    "topography = rasterio.open('../../../gemgis/data/examples/example5/topo.tif')\n",
    "topography"
   ]
  },
  {
   "cell_type": "markdown",
   "metadata": {},
   "source": [
    "# Set Interfaces"
   ]
  },
  {
   "cell_type": "code",
   "execution_count": null,
   "metadata": {
    "ExecuteTime": {
     "end_time": "2020-07-29T15:09:01.418635Z",
     "start_time": "2020-07-29T15:09:01.342635Z"
    }
   },
   "outputs": [],
   "source": [
    "interfaces_coords = gg.vector.extract_coordinates(interfaces,np.flipud(dem), extent=geo_data.extent)\n",
    "interfaces_coords.head()"
   ]
  },
  {
   "cell_type": "code",
   "execution_count": null,
   "metadata": {
    "ExecuteTime": {
     "end_time": "2020-07-29T15:09:01.432635Z",
     "start_time": "2020-07-29T15:09:01.420636Z"
    }
   },
   "outputs": [],
   "source": [
    "geo_data.to_gempy_df(interfaces_coords.sample(n=85), 'interfaces')\n",
    "geo_data.interfaces"
   ]
  },
  {
   "cell_type": "markdown",
   "metadata": {},
   "source": [
    "# Set Orientations\n",
    "\n",
    "As orientations were not loaded, they have to be calculated based on strike lines provided for the lithological layers and the fault. "
   ]
  },
  {
   "cell_type": "markdown",
   "metadata": {},
   "source": [
    "## Load Fault Data and Calculate Orientations"
   ]
  },
  {
   "cell_type": "code",
   "execution_count": null,
   "metadata": {
    "ExecuteTime": {
     "end_time": "2020-07-29T15:09:01.444635Z",
     "start_time": "2020-07-29T15:09:01.434635Z"
    }
   },
   "outputs": [],
   "source": [
    "strike_fault = gpd.read_file('../../../gemgis/data/examples/example5/lines_strike_fault.shp')\n",
    "strike_fault"
   ]
  },
  {
   "cell_type": "code",
   "execution_count": null,
   "metadata": {
    "ExecuteTime": {
     "end_time": "2020-07-29T15:09:01.967636Z",
     "start_time": "2020-07-29T15:09:01.446636Z"
    }
   },
   "outputs": [],
   "source": [
    "# Creating a figure with two subplots\n",
    "fig, (ax1, ax2) = plt.subplots(ncols=2, sharex=True, sharey=True,figsize=(20,10))\n",
    "# Plotting the geological map\n",
    "ax1.imshow(np.flipud(base_map.read(1)), origin = 'lower', cmap ='gray')\n",
    "ax1.set_xlabel('X')\n",
    "ax1.set_ylabel('Y')\n",
    "ax1.grid()\n",
    "ax1.set_ylim(geo_data.extent[2],geo_data.extent[3])\n",
    "ax1.set_xlim(geo_data.extent[0],geo_data.extent[1])\n",
    "\n",
    "# Plotting the geological map\n",
    "ax2.imshow(np.flipud(base_map.read(1)), origin = 'lower', cmap ='gray')\n",
    "# Plotting the different elements on the geological map\n",
    "geological_map.plot(ax=ax2, column = 'formation', alpha=0.75, legend=True, cmap=ListedColormap(cols))\n",
    "# topo.plot(ax=ax2, column = 'Z', legend = False, linewidth = 5)\n",
    "# interfaces.plot(ax=ax2, column = 'formation', legend = True, linewidth = 10)\n",
    "# orientations.plot(ax=ax2, column = 'formation', legend = False, s = 300)\n",
    "strike_fault.plot(ax=ax2, column = 'formation', legend = False, linewidth = 5)\n",
    "ax2.set_xlabel('X')\n",
    "ax2.set_ylabel('Y')\n",
    "ax2.grid()\n",
    "ax1.set_ylim(geo_data.extent[2],geo_data.extent[3])\n",
    "ax1.set_xlim(geo_data.extent[0],geo_data.extent[1]);"
   ]
  },
  {
   "cell_type": "markdown",
   "metadata": {},
   "source": [
    "Based on the strike lines and the calculated angles, we can conclude that the fault is dipping towards the south. Please take into account that the map was not digitized to scale. So angles are usually higher than expected for certain types of faults!"
   ]
  },
  {
   "cell_type": "code",
   "execution_count": null,
   "metadata": {
    "ExecuteTime": {
     "end_time": "2020-07-29T15:09:01.988637Z",
     "start_time": "2020-07-29T15:09:01.969638Z"
    }
   },
   "outputs": [],
   "source": [
    "orientations_fault = gg.utils.calculate_orientations(strike_fault)\n",
    "orientations_fault "
   ]
  },
  {
   "cell_type": "markdown",
   "metadata": {},
   "source": [
    "## Load Layer Data \n",
    "For the strike of the different layers we have to distinguish between layer 1 and layer 2 and between the two fault blocks. "
   ]
  },
  {
   "cell_type": "code",
   "execution_count": null,
   "metadata": {
    "ExecuteTime": {
     "end_time": "2020-07-29T15:09:02.002637Z",
     "start_time": "2020-07-29T15:09:01.990638Z"
    }
   },
   "outputs": [],
   "source": [
    "strike_layers = gpd.read_file('../../../gemgis/data/examples/example5/lines_strike_layers.shp')\n",
    "strike_layers"
   ]
  },
  {
   "cell_type": "code",
   "execution_count": null,
   "metadata": {
    "ExecuteTime": {
     "end_time": "2020-07-29T15:09:02.523638Z",
     "start_time": "2020-07-29T15:09:02.004636Z"
    }
   },
   "outputs": [],
   "source": [
    "# Creating a figure with two subplots\n",
    "fig, (ax1, ax2) = plt.subplots(ncols=2, sharex=True, sharey=True,figsize=(20,10))\n",
    "# Plotting the geological map\n",
    "ax1.imshow(np.flipud(base_map.read(1)), origin = 'lower', cmap ='gray')\n",
    "ax1.set_xlabel('X')\n",
    "ax1.set_ylabel('Y')\n",
    "ax1.grid()\n",
    "ax1.set_ylim(geo_data.extent[2],geo_data.extent[3])\n",
    "ax1.set_xlim(geo_data.extent[0],geo_data.extent[1])\n",
    "\n",
    "# Plotting the geological map\n",
    "ax2.imshow(np.flipud(base_map.read(1)), origin = 'lower', cmap ='gray')\n",
    "# Plotting the different elements on the geological map\n",
    "geological_map.plot(ax=ax2, column = 'formation', alpha=0.75, legend=True, cmap=ListedColormap(cols))\n",
    "# topo.plot(ax=ax2, column = 'Z', legend = False, linewidth = 5)\n",
    "# interfaces.plot(ax=ax2, column = 'formation', legend = True, linewidth = 10)\n",
    "# orientations.plot(ax=ax2, column = 'formation', legend = False, s = 300)\n",
    "strike_layers.plot(ax=ax2, column = 'formation', legend = False, linewidth = 5)\n",
    "ax2.set_xlabel('X')\n",
    "ax2.set_ylabel('Y')\n",
    "ax2.grid()\n",
    "ax1.set_ylim(geo_data.extent[2],geo_data.extent[3])\n",
    "ax1.set_xlim(geo_data.extent[0],geo_data.extent[1]);"
   ]
  },
  {
   "cell_type": "markdown",
   "metadata": {},
   "source": [
    "## Separate Layers"
   ]
  },
  {
   "cell_type": "code",
   "execution_count": null,
   "metadata": {
    "ExecuteTime": {
     "end_time": "2020-07-29T15:09:02.535636Z",
     "start_time": "2020-07-29T15:09:02.525638Z"
    }
   },
   "outputs": [],
   "source": [
    "gdf1 = strike_layers[strike_layers['formation'] == 'Layer1']\n",
    "gdf1"
   ]
  },
  {
   "cell_type": "code",
   "execution_count": null,
   "metadata": {
    "ExecuteTime": {
     "end_time": "2020-07-29T15:09:02.546637Z",
     "start_time": "2020-07-29T15:09:02.537636Z"
    }
   },
   "outputs": [],
   "source": [
    "gdf2 = strike_layers[strike_layers['formation'] == 'Layer2']\n",
    "gdf2"
   ]
  },
  {
   "cell_type": "code",
   "execution_count": null,
   "metadata": {
    "ExecuteTime": {
     "end_time": "2020-07-29T15:09:02.555637Z",
     "start_time": "2020-07-29T15:09:02.548636Z"
    }
   },
   "outputs": [],
   "source": [
    "gdf1_south = gdf1[gdf1['id']<= 4]\n",
    "gdf1_south"
   ]
  },
  {
   "cell_type": "code",
   "execution_count": null,
   "metadata": {
    "ExecuteTime": {
     "end_time": "2020-07-29T15:09:02.568325Z",
     "start_time": "2020-07-29T15:09:02.560636Z"
    }
   },
   "outputs": [],
   "source": [
    "gdf1_north = gdf1[gdf1['id']> 4]\n",
    "gdf1_north"
   ]
  },
  {
   "cell_type": "code",
   "execution_count": null,
   "metadata": {
    "ExecuteTime": {
     "end_time": "2020-07-29T15:09:02.576637Z",
     "start_time": "2020-07-29T15:09:02.569636Z"
    }
   },
   "outputs": [],
   "source": [
    "gdf2_south = gdf2[gdf2['id']<= 5]\n",
    "gdf2_south"
   ]
  },
  {
   "cell_type": "code",
   "execution_count": null,
   "metadata": {
    "ExecuteTime": {
     "end_time": "2020-07-29T15:09:02.584638Z",
     "start_time": "2020-07-29T15:09:02.577637Z"
    }
   },
   "outputs": [],
   "source": [
    "gdf2_north = gdf2[gdf2['id']> 5]\n",
    "gdf2_north"
   ]
  },
  {
   "cell_type": "markdown",
   "metadata": {},
   "source": [
    "## Calculate Orientations"
   ]
  },
  {
   "cell_type": "code",
   "execution_count": null,
   "metadata": {
    "ExecuteTime": {
     "end_time": "2020-07-29T15:09:02.609636Z",
     "start_time": "2020-07-29T15:09:02.585636Z"
    }
   },
   "outputs": [],
   "source": [
    "orientations1_south = gg.utils.calculate_orientations(gdf1_south)\n",
    "orientations1_south"
   ]
  },
  {
   "cell_type": "code",
   "execution_count": null,
   "metadata": {
    "ExecuteTime": {
     "end_time": "2020-07-29T15:09:02.632637Z",
     "start_time": "2020-07-29T15:09:02.611637Z"
    }
   },
   "outputs": [],
   "source": [
    "orientations1_north = gg.utils.calculate_orientations(gdf1_north)\n",
    "orientations1_north"
   ]
  },
  {
   "cell_type": "code",
   "execution_count": null,
   "metadata": {
    "ExecuteTime": {
     "end_time": "2020-07-29T15:09:02.659636Z",
     "start_time": "2020-07-29T15:09:02.634637Z"
    }
   },
   "outputs": [],
   "source": [
    "orientations2_south = gg.utils.calculate_orientations(gdf2_south)\n",
    "orientations2_south"
   ]
  },
  {
   "cell_type": "code",
   "execution_count": null,
   "metadata": {
    "ExecuteTime": {
     "end_time": "2020-07-29T15:09:02.675637Z",
     "start_time": "2020-07-29T15:09:02.661637Z"
    }
   },
   "outputs": [],
   "source": [
    "orientations2_north = gg.utils.calculate_orientations(gdf2_north)\n",
    "orientations2_north"
   ]
  },
  {
   "cell_type": "markdown",
   "metadata": {},
   "source": [
    "## Merge DataFrames"
   ]
  },
  {
   "cell_type": "code",
   "execution_count": null,
   "metadata": {
    "ExecuteTime": {
     "end_time": "2020-07-29T15:09:02.687637Z",
     "start_time": "2020-07-29T15:09:02.677636Z"
    }
   },
   "outputs": [],
   "source": [
    "orientations_coords = pd.concat([orientations_fault, orientations1_south, orientations1_north, orientations2_south, orientations2_north]).reset_index()\n",
    "orientations_coords"
   ]
  },
  {
   "cell_type": "code",
   "execution_count": null,
   "metadata": {
    "ExecuteTime": {
     "end_time": "2020-07-29T15:09:03.210159Z",
     "start_time": "2020-07-29T15:09:02.689636Z"
    }
   },
   "outputs": [],
   "source": [
    "# Creating a figure with two subplots\n",
    "fig, (ax1, ax2) = plt.subplots(ncols=2, sharex=True, sharey=True,figsize=(20,10))\n",
    "# Plotting the geological map\n",
    "ax1.imshow(np.flipud(base_map.read(1)), origin = 'lower', cmap ='gray')\n",
    "ax1.set_xlabel('X')\n",
    "ax1.set_ylabel('Y')\n",
    "ax1.grid()\n",
    "ax1.set_ylim(geo_data.extent[2],geo_data.extent[3])\n",
    "ax1.set_xlim(geo_data.extent[0],geo_data.extent[1])\n",
    "\n",
    "# Plotting the geological map\n",
    "ax2.imshow(np.flipud(base_map.read(1)), origin = 'lower', cmap ='gray')\n",
    "# Plotting the different elements on the geological map\n",
    "geological_map.plot(ax=ax2, column = 'formation', alpha=0.75, legend=True, cmap=ListedColormap(cols))\n",
    "# topo.plot(ax=ax2, column = 'Z', legend = False, linewidth = 5)\n",
    "# interfaces.plot(ax=ax2, column = 'formation', legend = True, linewidth = 10)\n",
    "ax2.scatter(orientations_coords['X'], orientations_coords['Y'])\n",
    "strike_layers.plot(ax=ax2, column = 'formation', legend = False, linewidth = 5)\n",
    "ax2.set_xlabel('X')\n",
    "ax2.set_ylabel('Y')\n",
    "ax2.grid()\n",
    "ax1.set_ylim(geo_data.extent[2],geo_data.extent[3])\n",
    "ax1.set_xlim(geo_data.extent[0],geo_data.extent[1]);"
   ]
  },
  {
   "cell_type": "code",
   "execution_count": null,
   "metadata": {
    "ExecuteTime": {
     "end_time": "2020-07-29T15:09:03.221158Z",
     "start_time": "2020-07-29T15:09:03.212158Z"
    }
   },
   "outputs": [],
   "source": [
    "geo_data.orientations = orientations_coords\n",
    "geo_data.orientations"
   ]
  },
  {
   "cell_type": "markdown",
   "metadata": {},
   "source": [
    "# Check Data Class"
   ]
  },
  {
   "cell_type": "code",
   "execution_count": null,
   "metadata": {
    "ExecuteTime": {
     "end_time": "2020-07-29T15:09:03.231159Z",
     "start_time": "2020-07-29T15:09:03.223158Z"
    }
   },
   "outputs": [],
   "source": [
    "vars(geo_data)"
   ]
  },
  {
   "cell_type": "markdown",
   "metadata": {},
   "source": [
    "# Add Section Dict"
   ]
  },
  {
   "cell_type": "code",
   "execution_count": null,
   "metadata": {
    "ExecuteTime": {
     "end_time": "2020-07-29T15:09:03.246159Z",
     "start_time": "2020-07-29T15:09:03.233158Z"
    }
   },
   "outputs": [],
   "source": [
    "geo_data.to_section_dict(custom_section, 'section')\n",
    "geo_data.section_dict"
   ]
  },
  {
   "cell_type": "markdown",
   "metadata": {},
   "source": [
    "# Add Surface Colors"
   ]
  },
  {
   "cell_type": "code",
   "execution_count": null,
   "metadata": {
    "ExecuteTime": {
     "end_time": "2020-07-29T15:09:03.253159Z",
     "start_time": "2020-07-29T15:09:03.248159Z"
    }
   },
   "outputs": [],
   "source": [
    "geo_data.to_surface_color_dict('../../../gemgis/data/examples/example4/style4.qml')\n",
    "geo_data.surface_colors"
   ]
  },
  {
   "cell_type": "markdown",
   "metadata": {},
   "source": [
    "# Add Stack"
   ]
  },
  {
   "cell_type": "code",
   "execution_count": null,
   "metadata": {
    "ExecuteTime": {
     "end_time": "2020-07-29T15:10:25.747114Z",
     "start_time": "2020-07-29T15:10:25.743114Z"
    }
   },
   "outputs": [],
   "source": [
    "geo_data.stack = {  \"Fault1\": ('Fault1'),\n",
    "                    \"Strat_Series\": ('Layer2', 'Layer1'),\n",
    "                    \"basement\": ('basement')}\n",
    "geo_data.stack"
   ]
  },
  {
   "cell_type": "markdown",
   "metadata": {},
   "source": [
    "# Add DEM"
   ]
  },
  {
   "cell_type": "code",
   "execution_count": null,
   "metadata": {
    "ExecuteTime": {
     "end_time": "2020-07-29T15:10:26.076122Z",
     "start_time": "2020-07-29T15:10:26.072123Z"
    }
   },
   "outputs": [],
   "source": [
    "geo_data.dem = '../../../gemgis/data/examples/example4/raster4.tif'\n",
    "geo_data.dem"
   ]
  },
  {
   "cell_type": "markdown",
   "metadata": {},
   "source": [
    "# Visualize Data Set"
   ]
  },
  {
   "cell_type": "code",
   "execution_count": null,
   "metadata": {
    "ExecuteTime": {
     "end_time": "2020-07-29T15:10:27.965710Z",
     "start_time": "2020-07-29T15:10:26.390142Z"
    }
   },
   "outputs": [],
   "source": [
    "import pyvista as pv\n",
    "p = pv.Plotter(notebook =True)\n",
    "gg.visualization.plot_dem_3d(dem, p, cmap = 'gist_earth')\n",
    "gg.visualization.plot_contours_3d(topo, p, color = 'red', add_to_z = 10)\n",
    "gg.visualization.plot_points_3d(interfaces_coords, p, color = 'blue', add_to_z = 10)\n",
    "gg.visualization.plot_points_3d(orientations_coords, p, color = 'orange', add_to_z = 20)\n",
    "gg.visualization.plot_contours_3d(interfaces_coords, p, color = 'blue', add_to_z = 10)\n",
    "\n",
    "p.camera_position =[(-283.285811675846, -1597.1397046051004, 1155.542325449192), \n",
    "                    (577.9371599370799, 495.3480261506809, 381.7124055285182), \n",
    "                    (0.17313457304419916, 0.27814381639313923, 0.9448070898437746)]\n",
    "p.set_background('white')\n",
    "p.show_grid(color='black')\n",
    "p.show()"
   ]
  },
  {
   "cell_type": "markdown",
   "metadata": {},
   "source": [
    "# Create GemPy Model"
   ]
  },
  {
   "cell_type": "markdown",
   "metadata": {},
   "source": [
    "## Importing GemPy\n",
    "\n",
    "Please see https://docs.gempy.org/installation.html for more information on how to install GemPy."
   ]
  },
  {
   "cell_type": "code",
   "execution_count": null,
   "metadata": {
    "ExecuteTime": {
     "end_time": "2020-07-29T15:10:27.970711Z",
     "start_time": "2020-07-29T15:10:27.967710Z"
    }
   },
   "outputs": [],
   "source": [
    "import sys  \n",
    "sys.path.append('../../../gempy-master')\n",
    "import gempy as gp\n",
    "print(gp)\n",
    "print(gp.__version__)"
   ]
  },
  {
   "cell_type": "markdown",
   "metadata": {},
   "source": [
    "## Creating GemPy Model\n",
    "\n",
    "For more information on how to create a GemPy Model, please see the tutorials at: https://docs.gempy.org/tutorials/index.html. With the attributes of the GemPy Data Class, all necessary variables can be passed to the model."
   ]
  },
  {
   "cell_type": "code",
   "execution_count": null,
   "metadata": {
    "ExecuteTime": {
     "end_time": "2020-07-29T15:10:28.048843Z",
     "start_time": "2020-07-29T15:10:27.972711Z"
    }
   },
   "outputs": [],
   "source": [
    "geo_model = gp.create_model(geo_data.model_name)\n",
    "geo_model"
   ]
  },
  {
   "cell_type": "code",
   "execution_count": null,
   "metadata": {
    "ExecuteTime": {
     "end_time": "2020-07-29T15:10:28.159925Z",
     "start_time": "2020-07-29T15:10:28.050858Z"
    }
   },
   "outputs": [],
   "source": [
    "gp.init_data(geo_model, geo_data.extent, geo_data.resolution,\n",
    "             surface_points_df = geo_data.interfaces,\n",
    "             orientations_df = geo_data.orientations,\n",
    "             default_values=True)"
   ]
  },
  {
   "cell_type": "code",
   "execution_count": null,
   "metadata": {
    "ExecuteTime": {
     "end_time": "2020-07-29T15:10:28.170138Z",
     "start_time": "2020-07-29T15:10:28.161938Z"
    }
   },
   "outputs": [],
   "source": [
    "geo_model.surfaces"
   ]
  },
  {
   "cell_type": "code",
   "execution_count": null,
   "metadata": {
    "ExecuteTime": {
     "end_time": "2020-07-29T15:10:28.176138Z",
     "start_time": "2020-07-29T15:10:28.172138Z"
    }
   },
   "outputs": [],
   "source": [
    "geo_data.stack"
   ]
  },
  {
   "cell_type": "code",
   "execution_count": null,
   "metadata": {
    "ExecuteTime": {
     "end_time": "2020-07-29T15:10:28.268296Z",
     "start_time": "2020-07-29T15:10:28.178138Z"
    }
   },
   "outputs": [],
   "source": [
    "gp.map_stack_to_surfaces(geo_model,\n",
    "                         geo_data.stack,\n",
    "                         remove_unused_series=True)\n",
    "geo_model.add_surfaces('basement')"
   ]
  },
  {
   "cell_type": "code",
   "execution_count": null,
   "metadata": {
    "ExecuteTime": {
     "end_time": "2020-07-29T15:10:28.282327Z",
     "start_time": "2020-07-29T15:10:28.270296Z"
    }
   },
   "outputs": [],
   "source": [
    "geo_model.surfaces.colors.change_colors(geo_data.surface_colors)"
   ]
  },
  {
   "cell_type": "code",
   "execution_count": null,
   "metadata": {
    "ExecuteTime": {
     "end_time": "2020-07-29T15:10:28.562075Z",
     "start_time": "2020-07-29T15:10:28.422909Z"
    }
   },
   "outputs": [],
   "source": [
    "gp.plot_2d(geo_model, direction = 'z')\n",
    "plt.grid()"
   ]
  },
  {
   "cell_type": "markdown",
   "metadata": {},
   "source": [
    "A raster created with ArcGIS has to be loaded as the import of the created raster fails. This is due to a bug in `GemPy`described here: https://github.com/cgre-aachen/gempy/issues/492"
   ]
  },
  {
   "cell_type": "code",
   "execution_count": null,
   "metadata": {
    "ExecuteTime": {
     "end_time": "2020-07-29T15:10:30.708484Z",
     "start_time": "2020-07-29T15:10:28.990484Z"
    }
   },
   "outputs": [],
   "source": [
    "geo_model.set_topography(\n",
    "    source='gdal', filepath='../../../gemgis/data/examples/example4/topo.tif')"
   ]
  },
  {
   "cell_type": "code",
   "execution_count": null,
   "metadata": {
    "ExecuteTime": {
     "end_time": "2020-07-29T15:10:30.847485Z",
     "start_time": "2020-07-29T15:10:30.710485Z"
    }
   },
   "outputs": [],
   "source": [
    "geo_model.set_section_grid(geo_data.section_dict)"
   ]
  },
  {
   "cell_type": "code",
   "execution_count": null,
   "metadata": {
    "ExecuteTime": {
     "end_time": "2020-07-29T15:10:30.964486Z",
     "start_time": "2020-07-29T15:10:30.849487Z"
    }
   },
   "outputs": [],
   "source": [
    "gp.plot.plot_section_traces(geo_model)"
   ]
  },
  {
   "cell_type": "code",
   "execution_count": null,
   "metadata": {
    "ExecuteTime": {
     "end_time": "2020-07-29T15:10:31.036484Z",
     "start_time": "2020-07-29T15:10:30.967487Z"
    }
   },
   "outputs": [],
   "source": [
    "geo_model.set_is_fault(['Fault1'])"
   ]
  },
  {
   "cell_type": "code",
   "execution_count": null,
   "metadata": {
    "ExecuteTime": {
     "end_time": "2020-07-29T15:10:34.108576Z",
     "start_time": "2020-07-29T15:10:31.038487Z"
    }
   },
   "outputs": [],
   "source": [
    "gp.set_interpolator(geo_model,\n",
    "                    compile_theano=True,\n",
    "                    theano_optimizer='fast_compile',\n",
    "                    verbose=[],\n",
    "                    update_kriging = False\n",
    "                    )"
   ]
  },
  {
   "cell_type": "code",
   "execution_count": null,
   "metadata": {
    "ExecuteTime": {
     "end_time": "2020-07-29T15:10:50.157602Z",
     "start_time": "2020-07-29T15:10:34.110576Z"
    }
   },
   "outputs": [],
   "source": [
    "sol = gp.compute_model(geo_model)"
   ]
  },
  {
   "cell_type": "markdown",
   "metadata": {},
   "source": [
    "The geological map had to be created manually as there seems to be a bug when creating the geological map with `GemGIS`. This was reported already: https://github.com/cgre-aachen/gempy/issues/446"
   ]
  },
  {
   "cell_type": "raw",
   "metadata": {
    "ExecuteTime": {
     "end_time": "2020-07-29T15:05:31.270407Z",
     "start_time": "2020-07-29T15:05:31.071339Z"
    }
   },
   "source": [
    "gp.plot_2d(geo_model, section_names=['topography'], show_contours=False)"
   ]
  },
  {
   "cell_type": "code",
   "execution_count": null,
   "metadata": {
    "ExecuteTime": {
     "end_time": "2020-07-29T15:13:42.042109Z",
     "start_time": "2020-07-29T15:13:41.815112Z"
    }
   },
   "outputs": [],
   "source": [
    "shape = geo_model._grid.topography.values_2d[:, :, 2].shape\n",
    "geolmap = geo_model.solutions.geological_map[0].reshape(shape)\n",
    "cols = ['#069a2b', '#b35a2a','#525252', ]\n",
    "plt.figure(figsize=(10,10))\n",
    "plt.imshow(np.flipud(base_map.read(1)), origin = 'lower', cmap ='gray')\n",
    "gmap = np.rot90(geolmap,1)\n",
    "plt.imshow(gmap, extent=geo_data.extent[:4], alpha=0.75, cmap=ListedColormap(cols))"
   ]
  },
  {
   "cell_type": "code",
   "execution_count": null,
   "metadata": {
    "ExecuteTime": {
     "end_time": "2020-07-29T15:11:29.630598Z",
     "start_time": "2020-07-29T15:11:29.429599Z"
    }
   },
   "outputs": [],
   "source": [
    "gp.plot_2d(geo_model, section_names=['Section1'], show_topography=True, ve = 0.4)"
   ]
  },
  {
   "cell_type": "code",
   "execution_count": null,
   "metadata": {
    "ExecuteTime": {
     "end_time": "2020-07-29T15:10:50.817691Z",
     "start_time": "2020-07-29T15:10:50.612601Z"
    }
   },
   "outputs": [],
   "source": [
    "gp.plot_2d(geo_model, direction='x', show_topography=True, cell_number=10, ve=0.4)"
   ]
  },
  {
   "cell_type": "code",
   "execution_count": null,
   "metadata": {
    "ExecuteTime": {
     "end_time": "2020-07-29T15:10:51.045762Z",
     "start_time": "2020-07-29T15:10:50.819691Z"
    }
   },
   "outputs": [],
   "source": [
    "gp.plot_2d(geo_model, direction='y', show_topography=True, cell_number = 30)"
   ]
  },
  {
   "cell_type": "code",
   "execution_count": null,
   "metadata": {
    "ExecuteTime": {
     "end_time": "2020-07-29T15:44:24.147678Z",
     "start_time": "2020-07-29T15:43:58.876680Z"
    }
   },
   "outputs": [],
   "source": [
    "gpv = gp.plot_3d(geo_model, image=False, show_topography=True,\n",
    "                 plotter_type='basic', notebook=True, ve = 0.4)"
   ]
  },
  {
   "cell_type": "markdown",
   "metadata": {},
   "source": [
    "# Postprocessing - Converting Geological Map to Shape Files"
   ]
  },
  {
   "cell_type": "markdown",
   "metadata": {},
   "source": [
    "## Create GeoDataFrame with Polygons"
   ]
  },
  {
   "cell_type": "code",
   "execution_count": null,
   "metadata": {
    "ExecuteTime": {
     "end_time": "2020-07-29T15:10:04.095363Z",
     "start_time": "2020-07-29T15:10:03.979833Z"
    }
   },
   "outputs": [],
   "source": [
    "gdf = gg.post.extract_lithologies(geo_model, geo_data.extent[:4], geo_data.crs)\n",
    "gdf"
   ]
  },
  {
   "cell_type": "markdown",
   "metadata": {},
   "source": [
    "## Plot Polygons"
   ]
  },
  {
   "cell_type": "code",
   "execution_count": null,
   "metadata": {
    "ExecuteTime": {
     "end_time": "2020-07-29T15:13:45.257760Z",
     "start_time": "2020-07-29T15:13:45.166762Z"
    }
   },
   "outputs": [],
   "source": [
    "gdf.plot(column='formation', cmap=ListedColormap(cols), alpha=0.9)\n",
    "plt.grid()"
   ]
  },
  {
   "cell_type": "markdown",
   "metadata": {},
   "source": [
    "## Save Polygons as Shape Files\n",
    "\n",
    "These polygons can now be saved as shape files and displayed for example as in QGIS shown below. "
   ]
  },
  {
   "cell_type": "code",
   "execution_count": null,
   "metadata": {
    "ExecuteTime": {
     "end_time": "2020-07-29T15:13:52.490248Z",
     "start_time": "2020-07-29T15:13:52.454248Z"
    }
   },
   "outputs": [],
   "source": [
    "gdf.to_file('../../../gemgis/data/examples/example4/liths.shp')"
   ]
  },
  {
   "cell_type": "code",
   "execution_count": null,
   "metadata": {},
   "outputs": [],
   "source": []
  }
 ],
 "metadata": {
  "hide_input": false,
  "kernelspec": {
   "display_name": "Python 3",
   "language": "python",
   "name": "python3"
  },
  "language_info": {
   "codemirror_mode": {
    "name": "ipython",
    "version": 3
   },
   "file_extension": ".py",
   "mimetype": "text/x-python",
   "name": "python",
   "nbconvert_exporter": "python",
   "pygments_lexer": "ipython3",
   "version": "3.7.7"
  },
  "toc": {
   "base_numbering": 1,
   "nav_menu": {},
   "number_sections": true,
   "sideBar": true,
   "skip_h1_title": false,
   "title_cell": "Table of Contents",
   "title_sidebar": "Contents",
   "toc_cell": false,
   "toc_position": {},
   "toc_section_display": true,
   "toc_window_display": false
  }
 },
 "nbformat": 4,
 "nbformat_minor": 4
}
