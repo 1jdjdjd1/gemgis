{
 "cells": [
  {
   "cell_type": "markdown",
   "metadata": {},
   "source": [
    "# Geological Map of Baden-Württemberg\n",
    "\n",
    "Available as wms from the \"LGRB\"\n",
    "\n",
    "https://lgrb-bw.de/informationssysteme/geodatendienste\n"
   ]
  },
  {
   "cell_type": "code",
   "execution_count": 2,
   "metadata": {},
   "outputs": [],
   "source": [
    "# 1:350,000 overview map\n",
    "url = 'https://services.lgrb-bw.de/index.phtml?SERVICE_NAME=lgrb_uek350_geologie&REQUEST=GetCapabilities&VERSION=1.1.1&SERVICE=WMS'"
   ]
  },
  {
   "cell_type": "code",
   "execution_count": 3,
   "metadata": {},
   "outputs": [
    {
     "name": "stdout",
     "output_type": "stream",
     "text": [
      "<module 'gemgis' from '../../gemgis/gemgis/__init__.py'>\n"
     ]
    }
   ],
   "source": [
    "import sys\n",
    "sys.path.append('../../gemgis/')\n",
    "\n",
    "import gemgis as gg\n",
    "\n",
    "print(gg)"
   ]
  },
  {
   "cell_type": "code",
   "execution_count": 4,
   "metadata": {},
   "outputs": [],
   "source": [
    "wms = gg.data.WMS(url = url)"
   ]
  },
  {
   "cell_type": "code",
   "execution_count": 5,
   "metadata": {},
   "outputs": [
    {
     "data": {
      "text/plain": [
       "['lgrb_uek350_geologie', 'gu300af_m', 'gu300tl_m', 'lgrb_uek350_geologie_ov']"
      ]
     },
     "execution_count": 5,
     "metadata": {},
     "output_type": "execute_result"
    }
   ],
   "source": [
    "wms.contents"
   ]
  },
  {
   "cell_type": "code",
   "execution_count": 6,
   "metadata": {},
   "outputs": [],
   "source": [
    "loc_jettingen = (48.562707, 8.778022)"
   ]
  },
  {
   "cell_type": "code",
   "execution_count": 8,
   "metadata": {},
   "outputs": [
    {
     "data": {
      "application/vnd.jupyter.widget-view+json": {
       "model_id": "aae35835992f4dc0b5d6621c70ee99d9",
       "version_major": 2,
       "version_minor": 0
      },
      "text/plain": [
       "Map(center=[48.562707, 8.778022], controls=(ZoomControl(options=['position', 'zoom_in_text', 'zoom_in_title', …"
      ]
     },
     "metadata": {},
     "output_type": "display_data"
    }
   ],
   "source": [
    "from ipyleaflet import Map, Marker, WMSLayer\n",
    "\n",
    "# center = (52.204793, 360.121558)\n",
    "\n",
    "# center = (50.802471, 6.053411)\n",
    "\n",
    "m = Map(center=loc_jettingen, zoom=12)\n",
    "\n",
    "marker = Marker(location=loc_jettingen, draggable=True)\n",
    "m.add_layer(marker);\n",
    "\n",
    "display(m)"
   ]
  },
  {
   "cell_type": "code",
   "execution_count": 9,
   "metadata": {},
   "outputs": [
    {
     "data": {
      "application/vnd.jupyter.widget-view+json": {
       "model_id": "aae35835992f4dc0b5d6621c70ee99d9",
       "version_major": 2,
       "version_minor": 0
      },
      "text/plain": [
       "Map(center=[48.562707, 8.778022], controls=(ZoomControl(options=['position', 'zoom_in_text', 'zoom_in_title', …"
      ]
     },
     "metadata": {},
     "output_type": "display_data"
    }
   ],
   "source": [
    "from ipyleaflet import Map, WMSLayer, basemaps\n",
    "\n",
    "wms = WMSLayer(\n",
    "    url=url,\n",
    "    layers='lgrb_uek350_geologie',\n",
    "    format='image/png',\n",
    "    transparent=True,\n",
    "    attribution='Geo Bayern'\n",
    ")\n",
    "\n",
    "m.add_layer(wms)\n",
    "\n",
    "m"
   ]
  },
  {
   "cell_type": "code",
   "execution_count": null,
   "metadata": {},
   "outputs": [],
   "source": []
  }
 ],
 "metadata": {
  "kernelspec": {
   "display_name": "Python [conda env:gempy] *",
   "language": "python",
   "name": "conda-env-gempy-py"
  },
  "language_info": {
   "codemirror_mode": {
    "name": "ipython",
    "version": 3
   },
   "file_extension": ".py",
   "mimetype": "text/x-python",
   "name": "python",
   "nbconvert_exporter": "python",
   "pygments_lexer": "ipython3",
   "version": "3.7.0"
  }
 },
 "nbformat": 4,
 "nbformat_minor": 4
}
