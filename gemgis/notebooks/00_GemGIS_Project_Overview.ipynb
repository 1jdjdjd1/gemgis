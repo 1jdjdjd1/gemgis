{
 "cells": [
  {
   "cell_type": "markdown",
   "metadata": {},
   "source": [
    "# GemGIS Project Overview"
   ]
  },
  {
   "cell_type": "markdown",
   "metadata": {},
   "source": [
    "This Notebook provides an Overview of the Project Details of GemGIS, developed at the Department for Computational Geosciences and Reservoir Engineering at RWTH Aachen University, Germany. "
   ]
  },
  {
   "cell_type": "markdown",
   "metadata": {},
   "source": [
    "# Contents\n",
    "\n",
    "- Installing dependencies\n",
    "- Importing GemGIS\n",
    "- Project Details"
   ]
  },
  {
   "cell_type": "markdown",
   "metadata": {},
   "source": [
    "# Installing Dependencies\n",
    "\n",
    "Several dependencies need to be installed in order to use GemGIS. This can either be done through the Anaconda distribution via the Anaconda Environments or the Anaconda Prompt. "
   ]
  },
  {
   "cell_type": "code",
   "execution_count": 1,
   "metadata": {
    "ExecuteTime": {
     "end_time": "2020-06-04T11:37:05.597389Z",
     "start_time": "2020-06-04T11:37:00.625201Z"
    }
   },
   "outputs": [],
   "source": [
    "%%capture\n",
    "!pip install numpy "
   ]
  },
  {
   "cell_type": "code",
   "execution_count": 2,
   "metadata": {
    "ExecuteTime": {
     "end_time": "2020-06-04T11:37:09.361490Z",
     "start_time": "2020-06-04T11:37:05.600249Z"
    }
   },
   "outputs": [],
   "source": [
    "%%capture\n",
    "!pip install matplotlib"
   ]
  },
  {
   "cell_type": "code",
   "execution_count": 3,
   "metadata": {
    "ExecuteTime": {
     "end_time": "2020-06-04T11:37:13.213368Z",
     "start_time": "2020-06-04T11:37:09.364432Z"
    }
   },
   "outputs": [],
   "source": [
    "%%capture\n",
    "!pip install ipyleaflet"
   ]
  },
  {
   "cell_type": "code",
   "execution_count": 4,
   "metadata": {
    "ExecuteTime": {
     "end_time": "2020-06-04T11:37:17.088897Z",
     "start_time": "2020-06-04T11:37:13.220354Z"
    }
   },
   "outputs": [],
   "source": [
    "%%capture\n",
    "!pip install owslib"
   ]
  },
  {
   "cell_type": "code",
   "execution_count": 5,
   "metadata": {
    "ExecuteTime": {
     "end_time": "2020-06-04T11:37:20.975921Z",
     "start_time": "2020-06-04T11:37:17.091879Z"
    }
   },
   "outputs": [],
   "source": [
    "%%capture\n",
    "!pip install pyproj"
   ]
  },
  {
   "cell_type": "code",
   "execution_count": 6,
   "metadata": {
    "ExecuteTime": {
     "end_time": "2020-06-04T11:37:25.350175Z",
     "start_time": "2020-06-04T11:37:20.977792Z"
    }
   },
   "outputs": [],
   "source": [
    "%%capture\n",
    "!pip install ipywidgets"
   ]
  },
  {
   "cell_type": "code",
   "execution_count": 7,
   "metadata": {
    "ExecuteTime": {
     "end_time": "2020-06-04T11:37:29.007662Z",
     "start_time": "2020-06-04T11:37:25.351173Z"
    }
   },
   "outputs": [],
   "source": [
    "%%capture\n",
    "!pip install IPython"
   ]
  },
  {
   "cell_type": "code",
   "execution_count": 8,
   "metadata": {
    "ExecuteTime": {
     "end_time": "2020-06-04T11:37:33.859803Z",
     "start_time": "2020-06-04T11:37:29.016577Z"
    }
   },
   "outputs": [],
   "source": [
    "%%capture\n",
    "!pip install rasterio"
   ]
  },
  {
   "cell_type": "markdown",
   "metadata": {},
   "source": [
    "# Importing GemGIS"
   ]
  },
  {
   "cell_type": "code",
   "execution_count": 9,
   "metadata": {
    "ExecuteTime": {
     "end_time": "2020-06-04T11:37:36.368919Z",
     "start_time": "2020-06-04T11:37:33.862796Z"
    }
   },
   "outputs": [
    {
     "name": "stdout",
     "output_type": "stream",
     "text": [
      "<module 'gemgis' from '../../gemgis\\\\gemgis\\\\__init__.py'>\n"
     ]
    }
   ],
   "source": [
    "import sys\n",
    "sys.path.append('../../gemgis')\n",
    "\n",
    "import gemgis as gg\n",
    "\n",
    "print(gg)"
   ]
  },
  {
   "cell_type": "markdown",
   "metadata": {},
   "source": [
    "# Project Details\n",
    "\n",
    "In the following, the project details of GemGIS are being introduced. "
   ]
  },
  {
   "cell_type": "code",
   "execution_count": 10,
   "metadata": {
    "ExecuteTime": {
     "end_time": "2020-06-04T11:37:36.385873Z",
     "start_time": "2020-06-04T11:37:36.371941Z"
    }
   },
   "outputs": [
    {
     "data": {
      "text/plain": [
       "'GeoPyGeographic - GemGIS: Geographic information processing for geomodeling'"
      ]
     },
     "execution_count": 10,
     "metadata": {},
     "output_type": "execute_result"
    }
   ],
   "source": [
    "gg.__title__"
   ]
  },
  {
   "cell_type": "code",
   "execution_count": 11,
   "metadata": {
    "ExecuteTime": {
     "end_time": "2020-06-04T11:37:36.802967Z",
     "start_time": "2020-06-04T11:37:36.395849Z"
    }
   },
   "outputs": [
    {
     "data": {
      "text/plain": [
       "'GemGIS is providing joint methods for processing of GIS data sets for use in geological modeling packages such as GemPy. This includes inspection of data, visualization and manipulation such as adding or removing points. Further analysis such as dip calculation will also be available.'"
      ]
     },
     "execution_count": 11,
     "metadata": {},
     "output_type": "execute_result"
    }
   ],
   "source": [
    "gg.__abstract__"
   ]
  },
  {
   "cell_type": "code",
   "execution_count": 12,
   "metadata": {
    "ExecuteTime": {
     "end_time": "2020-06-04T11:37:37.305771Z",
     "start_time": "2020-06-04T11:37:36.812940Z"
    }
   },
   "outputs": [
    {
     "data": {
      "text/plain": [
       "'Florian Wellmann, Alexander Juestel'"
      ]
     },
     "execution_count": 12,
     "metadata": {},
     "output_type": "execute_result"
    }
   ],
   "source": [
    "gg.__authors__"
   ]
  },
  {
   "cell_type": "code",
   "execution_count": 13,
   "metadata": {
    "ExecuteTime": {
     "end_time": "2020-06-04T11:37:38.145068Z",
     "start_time": "2020-06-04T11:37:37.316274Z"
    }
   },
   "outputs": [
    {
     "data": {
      "text/plain": [
       "'alexander.juestel@rwth-aachen.de'"
      ]
     },
     "execution_count": 13,
     "metadata": {},
     "output_type": "execute_result"
    }
   ],
   "source": [
    "gg.__correspondence_email__"
   ]
  },
  {
   "cell_type": "code",
   "execution_count": 14,
   "metadata": {
    "ExecuteTime": {
     "end_time": "2020-06-04T11:37:38.666479Z",
     "start_time": "2020-06-04T11:37:38.151045Z"
    }
   },
   "outputs": [
    {
     "data": {
      "text/plain": [
       "'CGRE - RWTH Aachen University'"
      ]
     },
     "execution_count": 14,
     "metadata": {},
     "output_type": "execute_result"
    }
   ],
   "source": [
    "gg.__affiliations__"
   ]
  },
  {
   "cell_type": "code",
   "execution_count": 15,
   "metadata": {
    "ExecuteTime": {
     "end_time": "2020-06-04T11:37:39.163566Z",
     "start_time": "2020-06-04T11:37:38.668435Z"
    }
   },
   "outputs": [
    {
     "data": {
      "text/plain": [
       "'04.06.2020'"
      ]
     },
     "execution_count": 15,
     "metadata": {},
     "output_type": "execute_result"
    }
   ],
   "source": [
    "gg.__version_date__"
   ]
  },
  {
   "cell_type": "code",
   "execution_count": 16,
   "metadata": {
    "ExecuteTime": {
     "end_time": "2020-06-04T11:37:39.677645Z",
     "start_time": "2020-06-04T11:37:39.165560Z"
    }
   },
   "outputs": [
    {
     "data": {
      "text/plain": [
       "'0.0.1'"
      ]
     },
     "execution_count": 16,
     "metadata": {},
     "output_type": "execute_result"
    }
   ],
   "source": [
    "gg.__version__"
   ]
  },
  {
   "cell_type": "code",
   "execution_count": 17,
   "metadata": {
    "ExecuteTime": {
     "end_time": "2020-06-04T11:37:40.190857Z",
     "start_time": "2020-06-04T11:37:39.688615Z"
    }
   },
   "outputs": [
    {
     "name": "stdout",
     "output_type": "stream",
     "text": [
      "What is new in version 0.0.1: \n",
      "- Added a class Map() to display spatial data \n",
      "- Added a class WMS() to manipulate WMS data \n",
      "- Added a class Raster() to manipulate raster data \n",
      "- Added a class Raster() to manipulate Raster data \n",
      "Functionality for Web Map Services: \n",
      "- Added a function load_wms() to load WMS Layers into map \n",
      "- Added a function getmap() to extract and display a WMS extent in the map \n",
      "- Added a function getmap_object() to request a map from a WMS Service \n",
      "- Added a function convert_map_to_array() to convert an obtained map to an array for future use\n",
      "- Added a function convert_array_to_image_overlay() to convert array to an image overlay which can be displayed on the map \n",
      "- Added a function save_as_raster() to save an array obtained from an WMS Service as raster file \n",
      "- Added secondary functions to support functionality \n",
      "Functionality for Raster Data: \n",
      "- Added a function load_band_as_raster() to load a raster band from a raster file\n",
      "- Added a function load_raster_as_array() to load a raster as array \n",
      "- Added a function plot_raster() to plot a loaded raster \n",
      "- Added functions to calculate hillshade, slope and aspect of a raster \n",
      "- Added a function save_array_as_tiff() to save an array as a raster file \n",
      "Outlook for next Versions: \n",
      "More Raster Data Manipulation functionality, Vector Data Manipulation functionality, bug fixes, code improvements\n"
     ]
    }
   ],
   "source": [
    "print(gg.__changelog__)"
   ]
  },
  {
   "cell_type": "code",
   "execution_count": 18,
   "metadata": {
    "ExecuteTime": {
     "end_time": "2020-06-04T11:37:40.722438Z",
     "start_time": "2020-06-04T11:37:40.197807Z"
    }
   },
   "outputs": [
    {
     "data": {
      "text/plain": [
       "'0.0.1'"
      ]
     },
     "execution_count": 18,
     "metadata": {},
     "output_type": "execute_result"
    }
   ],
   "source": [
    "gg.__previous_versions__"
   ]
  },
  {
   "cell_type": "code",
   "execution_count": null,
   "metadata": {},
   "outputs": [],
   "source": []
  }
 ],
 "metadata": {
  "hide_input": false,
  "kernelspec": {
   "display_name": "Python 3",
   "language": "python",
   "name": "python3"
  },
  "language_info": {
   "codemirror_mode": {
    "name": "ipython",
    "version": 3
   },
   "file_extension": ".py",
   "mimetype": "text/x-python",
   "name": "python",
   "nbconvert_exporter": "python",
   "pygments_lexer": "ipython3",
   "version": "3.7.7"
  },
  "latex_envs": {
   "LaTeX_envs_menu_present": true,
   "autoclose": false,
   "autocomplete": true,
   "bibliofile": "biblio.bib",
   "cite_by": "apalike",
   "current_citInitial": 1,
   "eqLabelWithNumbers": true,
   "eqNumInitial": 1,
   "hotkeys": {
    "equation": "Ctrl-E",
    "itemize": "Ctrl-I"
   },
   "labels_anchors": false,
   "latex_user_defs": false,
   "report_style_numbering": false,
   "user_envs_cfg": false
  },
  "toc": {
   "base_numbering": 1,
   "nav_menu": {},
   "number_sections": true,
   "sideBar": true,
   "skip_h1_title": false,
   "title_cell": "Table of Contents",
   "title_sidebar": "Contents",
   "toc_cell": false,
   "toc_position": {},
   "toc_section_display": true,
   "toc_window_display": false
  }
 },
 "nbformat": 4,
 "nbformat_minor": 4
}
