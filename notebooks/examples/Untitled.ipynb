{
 "cells": [
  {
   "cell_type": "markdown",
   "metadata": {},
   "source": [
    "# OneGeology"
   ]
  },
  {
   "cell_type": "markdown",
   "metadata": {},
   "source": [
    "# Importing Libraries"
   ]
  },
  {
   "cell_type": "code",
   "execution_count": 2,
   "metadata": {
    "ExecuteTime": {
     "end_time": "2020-06-01T09:53:00.232051Z",
     "start_time": "2020-06-01T09:52:59.100561Z"
    }
   },
   "outputs": [
    {
     "name": "stdout",
     "output_type": "stream",
     "text": [
      "<module 'gemgis' from 'C:/Users/user_abuser/Documents/gemgis\\\\gemgis\\\\__init__.py'>\n"
     ]
    }
   ],
   "source": [
    "import sys\n",
    "# sys.path.append('C:/Users/alexa/Documents/gemgis')\n",
    "sys.path.append('C:/Users/user_abuser/Documents/gemgis')\n",
    "\n",
    "import gemgis as gg\n",
    "\n",
    "print(gg)"
   ]
  },
  {
   "cell_type": "markdown",
   "metadata": {},
   "source": [
    "# Create Map"
   ]
  },
  {
   "cell_type": "code",
   "execution_count": 3,
   "metadata": {
    "ExecuteTime": {
     "end_time": "2020-06-01T09:55:59.729016Z",
     "start_time": "2020-06-01T09:55:59.709018Z"
    }
   },
   "outputs": [],
   "source": [
    "m = gg.Map()"
   ]
  },
  {
   "cell_type": "code",
   "execution_count": null,
   "metadata": {},
   "outputs": [],
   "source": [
    "wms1 = m.WMSLayer(url='https://ows.terrestris.de/osm/service?',\n",
    "                      layers='SRTM30-Hillshade',\n",
    "                      format='image/png',\n",
    "                      transparent=True,\n",
    "                      size = (2000,2000),\n",
    "                      attribution='',\n",
    "                      name = 'SRTM30-Hillshade')"
   ]
  },
  {
   "cell_type": "code",
   "execution_count": 4,
   "metadata": {
    "ExecuteTime": {
     "end_time": "2020-06-01T09:56:00.005922Z",
     "start_time": "2020-06-01T09:55:59.974670Z"
    }
   },
   "outputs": [
    {
     "data": {
      "application/vnd.jupyter.widget-view+json": {
       "model_id": "6abc2b010e73462aba62d74c68bfc4f2",
       "version_major": 2,
       "version_minor": 0
      },
      "text/plain": [
       "Map(center=[50.779305, 6.078914], controls=(ZoomControl(options=['position', 'zoom_in_text', 'zoom_in_title', …"
      ]
     },
     "metadata": {},
     "output_type": "display_data"
    }
   ],
   "source": [
    "m"
   ]
  },
  {
   "cell_type": "code",
   "execution_count": 6,
   "metadata": {
    "ExecuteTime": {
     "end_time": "2020-06-01T09:57:48.943015Z",
     "start_time": "2020-06-01T09:57:48.602014Z"
    }
   },
   "outputs": [],
   "source": [
    "wms = gg.data.WMS(url = 'http://ogc.bgs.ac.uk/cgi-bin/BGS_Bedrock_and_Superficial_Geology/wms/?')"
   ]
  },
  {
   "cell_type": "code",
   "execution_count": 7,
   "metadata": {
    "ExecuteTime": {
     "end_time": "2020-06-01T09:57:55.382583Z",
     "start_time": "2020-06-01T09:57:55.377583Z"
    }
   },
   "outputs": [
    {
     "data": {
      "text/plain": [
       "<gemgis.data.WMS at 0x1b23f234dc8>"
      ]
     },
     "execution_count": 7,
     "metadata": {},
     "output_type": "execute_result"
    }
   ],
   "source": [
    "wms"
   ]
  },
  {
   "cell_type": "code",
   "execution_count": 8,
   "metadata": {
    "ExecuteTime": {
     "end_time": "2020-06-01T09:59:06.397570Z",
     "start_time": "2020-06-01T09:59:06.392570Z"
    }
   },
   "outputs": [
    {
     "data": {
      "text/plain": [
       "['BGS_EN_Bedrock_and_Superficial_Geology',\n",
       " 'GBR_BGS_625k_BLT',\n",
       " 'GBR_BGS_625k_BLS',\n",
       " 'GBR_BGS_625k_BA',\n",
       " 'GBR_BGS_625k_SLT',\n",
       " 'GBR_BGS_625k_SLS',\n",
       " 'UKCoShelf_BGS_1M_SBS']"
      ]
     },
     "execution_count": 8,
     "metadata": {},
     "output_type": "execute_result"
    }
   ],
   "source": [
    "wms.contents"
   ]
  },
  {
   "cell_type": "code",
   "execution_count": null,
   "metadata": {},
   "outputs": [],
   "source": []
  }
 ],
 "metadata": {
  "hide_input": false,
  "kernelspec": {
   "display_name": "Python 3",
   "language": "python",
   "name": "python3"
  },
  "language_info": {
   "codemirror_mode": {
    "name": "ipython",
    "version": 3
   },
   "file_extension": ".py",
   "mimetype": "text/x-python",
   "name": "python",
   "nbconvert_exporter": "python",
   "pygments_lexer": "ipython3",
   "version": "3.7.7"
  },
  "toc": {
   "base_numbering": 1,
   "nav_menu": {},
   "number_sections": true,
   "sideBar": true,
   "skip_h1_title": false,
   "title_cell": "Table of Contents",
   "title_sidebar": "Contents",
   "toc_cell": false,
   "toc_position": {},
   "toc_section_display": true,
   "toc_window_display": false
  }
 },
 "nbformat": 4,
 "nbformat_minor": 4
}
