{
 "cells": [
  {
   "cell_type": "markdown",
   "metadata": {},
   "source": [
    "# Geological maps from OneGeology\n",
    "\n",
    "Some information on loading geological data from OneGeology.\n",
    "\n",
    "More information on OneGeology can be found on the [OneGeology webpage](http://www.onegeology.org).\n",
    "\n",
    "Here an example from the British Geological Survey (map around Cambridge):"
   ]
  },
  {
   "cell_type": "code",
   "execution_count": 1,
   "metadata": {
    "ExecuteTime": {
     "end_time": "2020-06-07T07:43:09.656524Z",
     "start_time": "2020-06-07T07:43:09.653522Z"
    }
   },
   "outputs": [],
   "source": [
    "url = \"http://ogc.bgs.ac.uk/cgi-bin/exemplars/BGS_Bedrock_and_Superficial_Geology/ows?service=WMS\""
   ]
  },
  {
   "cell_type": "code",
   "execution_count": 2,
   "metadata": {
    "ExecuteTime": {
     "end_time": "2020-06-07T07:43:11.170742Z",
     "start_time": "2020-06-07T07:43:10.163742Z"
    }
   },
   "outputs": [
    {
     "name": "stdout",
     "output_type": "stream",
     "text": [
      "<module 'gemgis' from '../../gemgis\\\\gemgis\\\\__init__.py'>\n"
     ]
    }
   ],
   "source": [
    "import sys\n",
    "sys.path.append('../../gemgis/')\n",
    "\n",
    "import gemgis as gg\n",
    "\n",
    "print(gg)"
   ]
  },
  {
   "cell_type": "code",
   "execution_count": 3,
   "metadata": {
    "ExecuteTime": {
     "end_time": "2020-06-07T07:43:13.003538Z",
     "start_time": "2020-06-07T07:43:12.674538Z"
    }
   },
   "outputs": [],
   "source": [
    "wms = gg.data.WMS(url = url)"
   ]
  },
  {
   "cell_type": "code",
   "execution_count": 4,
   "metadata": {
    "ExecuteTime": {
     "end_time": "2020-06-07T07:43:13.630044Z",
     "start_time": "2020-06-07T07:43:13.625043Z"
    }
   },
   "outputs": [
    {
     "data": {
      "text/plain": [
       "['BGS_EN_Bedrock_and_Superficial_Geology',\n",
       " 'GBR_BGS_625k_BLT',\n",
       " 'GBR_BGS_625k_BLS',\n",
       " 'GBR_BGS_625k_BA',\n",
       " 'GBR_BGS_625k_SLT',\n",
       " 'GBR_BGS_625k_SLS']"
      ]
     },
     "execution_count": 4,
     "metadata": {},
     "output_type": "execute_result"
    }
   ],
   "source": [
    "wms.contents"
   ]
  },
  {
   "cell_type": "code",
   "execution_count": 5,
   "metadata": {
    "ExecuteTime": {
     "end_time": "2020-06-07T07:43:21.557605Z",
     "start_time": "2020-06-07T07:43:21.539604Z"
    },
    "scrolled": false
   },
   "outputs": [
    {
     "data": {
      "application/vnd.jupyter.widget-view+json": {
       "model_id": "3bfcf3c1cf70454695fc4faef707a1e2",
       "version_major": 2,
       "version_minor": 0
      },
      "text/plain": [
       "Map(center=[52.204793, 360.121558], controls=(ZoomControl(options=['position', 'zoom_in_text', 'zoom_in_title'…"
      ]
     },
     "metadata": {},
     "output_type": "display_data"
    }
   ],
   "source": [
    "from ipyleaflet import Map, Marker, WMSLayer\n",
    "\n",
    "center = (52.204793, 360.121558)\n",
    "\n",
    "# center = (50.802471, 6.053411)\n",
    "\n",
    "m = Map(center=center, zoom=8)\n",
    "\n",
    "marker = Marker(location=center, draggable=True)\n",
    "m.add_layer(marker);\n",
    "\n",
    "display(m)"
   ]
  },
  {
   "cell_type": "code",
   "execution_count": 6,
   "metadata": {
    "ExecuteTime": {
     "end_time": "2020-06-07T07:43:34.449709Z",
     "start_time": "2020-06-07T07:43:34.440703Z"
    }
   },
   "outputs": [
    {
     "data": {
      "application/vnd.jupyter.widget-view+json": {
       "model_id": "3bfcf3c1cf70454695fc4faef707a1e2",
       "version_major": 2,
       "version_minor": 0
      },
      "text/plain": [
       "Map(center=[52.204793, 360.121558], controls=(ZoomControl(options=['position', 'zoom_in_text', 'zoom_in_title'…"
      ]
     },
     "metadata": {},
     "output_type": "display_data"
    }
   ],
   "source": [
    "from ipyleaflet import Map, WMSLayer, basemaps\n",
    "\n",
    "wms = WMSLayer(\n",
    "    url=url,\n",
    "    layers='BGS_EN_Bedrock_and_Superficial_Geology',\n",
    "    format='image/png',\n",
    "    transparent=True,\n",
    "    attribution='BGS Geo'\n",
    ")\n",
    "\n",
    "m.add_layer(wms)\n",
    "\n",
    "m"
   ]
  },
  {
   "cell_type": "code",
   "execution_count": null,
   "metadata": {},
   "outputs": [],
   "source": []
  },
  {
   "cell_type": "code",
   "execution_count": null,
   "metadata": {},
   "outputs": [],
   "source": []
  }
 ],
 "metadata": {
  "hide_input": false,
  "kernelspec": {
   "display_name": "Python 3",
   "language": "python",
   "name": "python3"
  },
  "language_info": {
   "codemirror_mode": {
    "name": "ipython",
    "version": 3
   },
   "file_extension": ".py",
   "mimetype": "text/x-python",
   "name": "python",
   "nbconvert_exporter": "python",
   "pygments_lexer": "ipython3",
   "version": "3.7.7"
  },
  "toc": {
   "base_numbering": 1,
   "nav_menu": {},
   "number_sections": true,
   "sideBar": true,
   "skip_h1_title": false,
   "title_cell": "Table of Contents",
   "title_sidebar": "Contents",
   "toc_cell": false,
   "toc_position": {},
   "toc_section_display": true,
   "toc_window_display": false
  }
 },
 "nbformat": 4,
 "nbformat_minor": 4
}
