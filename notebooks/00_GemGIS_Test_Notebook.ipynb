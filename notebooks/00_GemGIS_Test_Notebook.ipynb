{
 "cells": [
  {
   "cell_type": "markdown",
   "metadata": {},
   "source": [
    "# Import Libraries"
   ]
  },
  {
   "cell_type": "code",
   "execution_count": 1,
   "metadata": {
    "ExecuteTime": {
     "end_time": "2020-06-30T11:21:21.752000Z",
     "start_time": "2020-06-30T11:21:21.312726Z"
    }
   },
   "outputs": [
    {
     "name": "stdout",
     "output_type": "stream",
     "text": [
      "<module 'gemgis' from '../../gemgis\\\\gemgis.py'>\n"
     ]
    }
   ],
   "source": [
    "import sys\n",
    "sys.path.append('../../gemgis')\n",
    "import geopandas as gpd\n",
    "import rasterio\n",
    "import gemgis as gg\n",
    "\n",
    "print(gg)"
   ]
  },
  {
   "cell_type": "markdown",
   "metadata": {},
   "source": [
    "# Read Vector Files - Polygons"
   ]
  },
  {
   "cell_type": "raw",
   "metadata": {
    "ExecuteTime": {
     "end_time": "2020-06-30T11:08:10.386812Z",
     "start_time": "2020-06-30T11:08:10.324813Z"
    }
   },
   "source": [
    "gdf = gpd.read_file('data/vector_data/GeologicalMapAachen.shp')"
   ]
  },
  {
   "cell_type": "raw",
   "metadata": {
    "ExecuteTime": {
     "end_time": "2020-06-30T11:08:10.387813Z",
     "start_time": "2020-06-30T11:08:09.649Z"
    }
   },
   "source": [
    "gdf.crs"
   ]
  },
  {
   "cell_type": "raw",
   "metadata": {
    "ExecuteTime": {
     "end_time": "2020-06-30T11:08:10.388812Z",
     "start_time": "2020-06-30T11:08:09.651Z"
    }
   },
   "source": [
    "gdf.geom_type"
   ]
  },
  {
   "cell_type": "markdown",
   "metadata": {},
   "source": [
    "# Read Vector Files - Points"
   ]
  },
  {
   "cell_type": "code",
   "execution_count": 2,
   "metadata": {
    "ExecuteTime": {
     "end_time": "2020-06-30T11:21:21.770001Z",
     "start_time": "2020-06-30T11:21:21.753000Z"
    }
   },
   "outputs": [],
   "source": [
    "interfaces = gpd.read_file('C:/Users/user_abuser/Desktop/Kartenkunde/interfaces.shp')"
   ]
  },
  {
   "cell_type": "code",
   "execution_count": 3,
   "metadata": {
    "ExecuteTime": {
     "end_time": "2020-06-30T11:21:21.777002Z",
     "start_time": "2020-06-30T11:21:21.771001Z"
    }
   },
   "outputs": [
    {
     "data": {
      "text/plain": [
       "{'init': 'epsg:4326'}"
      ]
     },
     "execution_count": 3,
     "metadata": {},
     "output_type": "execute_result"
    }
   ],
   "source": [
    "interfaces.crs"
   ]
  },
  {
   "cell_type": "code",
   "execution_count": 4,
   "metadata": {
    "ExecuteTime": {
     "end_time": "2020-06-30T11:21:21.783001Z",
     "start_time": "2020-06-30T11:21:21.778001Z"
    }
   },
   "outputs": [
    {
     "data": {
      "text/plain": [
       "0     Point\n",
       "1     Point\n",
       "2     Point\n",
       "3     Point\n",
       "4     Point\n",
       "5     Point\n",
       "6     Point\n",
       "7     Point\n",
       "8     Point\n",
       "9     Point\n",
       "10    Point\n",
       "11    Point\n",
       "12    Point\n",
       "13    Point\n",
       "14    Point\n",
       "15    Point\n",
       "16    Point\n",
       "17    Point\n",
       "18    Point\n",
       "19    Point\n",
       "20    Point\n",
       "21    Point\n",
       "22    Point\n",
       "23    Point\n",
       "24    Point\n",
       "25    Point\n",
       "26    Point\n",
       "27    Point\n",
       "28    Point\n",
       "29    Point\n",
       "30    Point\n",
       "31    Point\n",
       "32    Point\n",
       "33    Point\n",
       "34    Point\n",
       "35    Point\n",
       "36    Point\n",
       "37    Point\n",
       "38    Point\n",
       "39    Point\n",
       "40    Point\n",
       "dtype: object"
      ]
     },
     "execution_count": 4,
     "metadata": {},
     "output_type": "execute_result"
    }
   ],
   "source": [
    "interfaces.geom_type"
   ]
  },
  {
   "cell_type": "code",
   "execution_count": 5,
   "metadata": {
    "ExecuteTime": {
     "end_time": "2020-06-30T11:21:21.793003Z",
     "start_time": "2020-06-30T11:21:21.784001Z"
    },
    "scrolled": true
   },
   "outputs": [
    {
     "data": {
      "text/html": [
       "<div>\n",
       "<style scoped>\n",
       "    .dataframe tbody tr th:only-of-type {\n",
       "        vertical-align: middle;\n",
       "    }\n",
       "\n",
       "    .dataframe tbody tr th {\n",
       "        vertical-align: top;\n",
       "    }\n",
       "\n",
       "    .dataframe thead th {\n",
       "        text-align: right;\n",
       "    }\n",
       "</style>\n",
       "<table border=\"1\" class=\"dataframe\">\n",
       "  <thead>\n",
       "    <tr style=\"text-align: right;\">\n",
       "      <th></th>\n",
       "      <th>id</th>\n",
       "      <th>formation</th>\n",
       "      <th>geometry</th>\n",
       "    </tr>\n",
       "  </thead>\n",
       "  <tbody>\n",
       "    <tr>\n",
       "      <th>0</th>\n",
       "      <td>None</td>\n",
       "      <td>Ton</td>\n",
       "      <td>POINT (19.150 293.313)</td>\n",
       "    </tr>\n",
       "    <tr>\n",
       "      <th>1</th>\n",
       "      <td>None</td>\n",
       "      <td>Ton</td>\n",
       "      <td>POINT (61.934 381.459)</td>\n",
       "    </tr>\n",
       "    <tr>\n",
       "      <th>2</th>\n",
       "      <td>None</td>\n",
       "      <td>Ton</td>\n",
       "      <td>POINT (109.358 480.946)</td>\n",
       "    </tr>\n",
       "    <tr>\n",
       "      <th>3</th>\n",
       "      <td>None</td>\n",
       "      <td>Ton</td>\n",
       "      <td>POINT (157.812 615.999)</td>\n",
       "    </tr>\n",
       "    <tr>\n",
       "      <th>4</th>\n",
       "      <td>None</td>\n",
       "      <td>Ton</td>\n",
       "      <td>POINT (191.318 719.094)</td>\n",
       "    </tr>\n",
       "  </tbody>\n",
       "</table>\n",
       "</div>"
      ],
      "text/plain": [
       "     id formation                 geometry\n",
       "0  None       Ton   POINT (19.150 293.313)\n",
       "1  None       Ton   POINT (61.934 381.459)\n",
       "2  None       Ton  POINT (109.358 480.946)\n",
       "3  None       Ton  POINT (157.812 615.999)\n",
       "4  None       Ton  POINT (191.318 719.094)"
      ]
     },
     "execution_count": 5,
     "metadata": {},
     "output_type": "execute_result"
    }
   ],
   "source": [
    "interfaces.head()"
   ]
  },
  {
   "cell_type": "markdown",
   "metadata": {},
   "source": [
    "## Extract X,Y coordinates"
   ]
  },
  {
   "cell_type": "code",
   "execution_count": 6,
   "metadata": {
    "ExecuteTime": {
     "end_time": "2020-06-30T11:21:21.804004Z",
     "start_time": "2020-06-30T11:21:21.794002Z"
    }
   },
   "outputs": [
    {
     "data": {
      "text/html": [
       "<div>\n",
       "<style scoped>\n",
       "    .dataframe tbody tr th:only-of-type {\n",
       "        vertical-align: middle;\n",
       "    }\n",
       "\n",
       "    .dataframe tbody tr th {\n",
       "        vertical-align: top;\n",
       "    }\n",
       "\n",
       "    .dataframe thead th {\n",
       "        text-align: right;\n",
       "    }\n",
       "</style>\n",
       "<table border=\"1\" class=\"dataframe\">\n",
       "  <thead>\n",
       "    <tr style=\"text-align: right;\">\n",
       "      <th></th>\n",
       "      <th>id</th>\n",
       "      <th>formation</th>\n",
       "      <th>geometry</th>\n",
       "      <th>X</th>\n",
       "      <th>Y</th>\n",
       "    </tr>\n",
       "  </thead>\n",
       "  <tbody>\n",
       "    <tr>\n",
       "      <th>0</th>\n",
       "      <td>None</td>\n",
       "      <td>Ton</td>\n",
       "      <td>POINT (19.150 293.313)</td>\n",
       "      <td>19.150128</td>\n",
       "      <td>293.313485</td>\n",
       "    </tr>\n",
       "    <tr>\n",
       "      <th>1</th>\n",
       "      <td>None</td>\n",
       "      <td>Ton</td>\n",
       "      <td>POINT (61.934 381.459)</td>\n",
       "      <td>61.934367</td>\n",
       "      <td>381.459326</td>\n",
       "    </tr>\n",
       "    <tr>\n",
       "      <th>2</th>\n",
       "      <td>None</td>\n",
       "      <td>Ton</td>\n",
       "      <td>POINT (109.358 480.946)</td>\n",
       "      <td>109.357860</td>\n",
       "      <td>480.945568</td>\n",
       "    </tr>\n",
       "    <tr>\n",
       "      <th>3</th>\n",
       "      <td>None</td>\n",
       "      <td>Ton</td>\n",
       "      <td>POINT (157.812 615.999)</td>\n",
       "      <td>157.812299</td>\n",
       "      <td>615.999430</td>\n",
       "    </tr>\n",
       "    <tr>\n",
       "      <th>4</th>\n",
       "      <td>None</td>\n",
       "      <td>Ton</td>\n",
       "      <td>POINT (191.318 719.094)</td>\n",
       "      <td>191.318028</td>\n",
       "      <td>719.093981</td>\n",
       "    </tr>\n",
       "  </tbody>\n",
       "</table>\n",
       "</div>"
      ],
      "text/plain": [
       "     id formation                 geometry           X           Y\n",
       "0  None       Ton   POINT (19.150 293.313)   19.150128  293.313485\n",
       "1  None       Ton   POINT (61.934 381.459)   61.934367  381.459326\n",
       "2  None       Ton  POINT (109.358 480.946)  109.357860  480.945568\n",
       "3  None       Ton  POINT (157.812 615.999)  157.812299  615.999430\n",
       "4  None       Ton  POINT (191.318 719.094)  191.318028  719.093981"
      ]
     },
     "execution_count": 6,
     "metadata": {},
     "output_type": "execute_result"
    }
   ],
   "source": [
    "interfaces = gg.extract_xy_values(interfaces)\n",
    "interfaces.head()"
   ]
  },
  {
   "cell_type": "markdown",
   "metadata": {},
   "source": [
    "# Load Vector Data - LineString"
   ]
  },
  {
   "cell_type": "code",
   "execution_count": 7,
   "metadata": {
    "ExecuteTime": {
     "end_time": "2020-06-30T11:21:21.810003Z",
     "start_time": "2020-06-30T11:21:21.805004Z"
    }
   },
   "outputs": [],
   "source": [
    "topo = gpd.read_file('C:/Users/user_abuser/Desktop/Kartenkunde/Topography.shp')"
   ]
  },
  {
   "cell_type": "code",
   "execution_count": 8,
   "metadata": {
    "ExecuteTime": {
     "end_time": "2020-06-30T11:21:21.819003Z",
     "start_time": "2020-06-30T11:21:21.811005Z"
    }
   },
   "outputs": [
    {
     "data": {
      "text/html": [
       "<div>\n",
       "<style scoped>\n",
       "    .dataframe tbody tr th:only-of-type {\n",
       "        vertical-align: middle;\n",
       "    }\n",
       "\n",
       "    .dataframe tbody tr th {\n",
       "        vertical-align: top;\n",
       "    }\n",
       "\n",
       "    .dataframe thead th {\n",
       "        text-align: right;\n",
       "    }\n",
       "</style>\n",
       "<table border=\"1\" class=\"dataframe\">\n",
       "  <thead>\n",
       "    <tr style=\"text-align: right;\">\n",
       "      <th></th>\n",
       "      <th>id</th>\n",
       "      <th>Z</th>\n",
       "      <th>geometry</th>\n",
       "    </tr>\n",
       "  </thead>\n",
       "  <tbody>\n",
       "    <tr>\n",
       "      <th>0</th>\n",
       "      <td>None</td>\n",
       "      <td>400</td>\n",
       "      <td>LINESTRING (0.741 475.441, 35.629 429.247, 77....</td>\n",
       "    </tr>\n",
       "    <tr>\n",
       "      <th>1</th>\n",
       "      <td>None</td>\n",
       "      <td>300</td>\n",
       "      <td>LINESTRING (645.965 0.525, 685.141 61.866, 724...</td>\n",
       "    </tr>\n",
       "    <tr>\n",
       "      <th>2</th>\n",
       "      <td>None</td>\n",
       "      <td>400</td>\n",
       "      <td>LINESTRING (490.292 0.525, 505.756 40.732, 519...</td>\n",
       "    </tr>\n",
       "    <tr>\n",
       "      <th>3</th>\n",
       "      <td>None</td>\n",
       "      <td>600</td>\n",
       "      <td>LINESTRING (911.433 1068.585, 908.856 1026.831...</td>\n",
       "    </tr>\n",
       "    <tr>\n",
       "      <th>4</th>\n",
       "      <td>None</td>\n",
       "      <td>700</td>\n",
       "      <td>LINESTRING (228.432 1068.585, 239.772 1017.037...</td>\n",
       "    </tr>\n",
       "  </tbody>\n",
       "</table>\n",
       "</div>"
      ],
      "text/plain": [
       "     id    Z                                           geometry\n",
       "0  None  400  LINESTRING (0.741 475.441, 35.629 429.247, 77....\n",
       "1  None  300  LINESTRING (645.965 0.525, 685.141 61.866, 724...\n",
       "2  None  400  LINESTRING (490.292 0.525, 505.756 40.732, 519...\n",
       "3  None  600  LINESTRING (911.433 1068.585, 908.856 1026.831...\n",
       "4  None  700  LINESTRING (228.432 1068.585, 239.772 1017.037..."
      ]
     },
     "execution_count": 8,
     "metadata": {},
     "output_type": "execute_result"
    }
   ],
   "source": [
    "topo.head()"
   ]
  },
  {
   "cell_type": "markdown",
   "metadata": {},
   "source": [
    "## Extract X,Y coordinates"
   ]
  },
  {
   "cell_type": "code",
   "execution_count": 9,
   "metadata": {
    "ExecuteTime": {
     "end_time": "2020-06-30T11:21:21.835004Z",
     "start_time": "2020-06-30T11:21:21.820004Z"
    }
   },
   "outputs": [
    {
     "data": {
      "text/html": [
       "<div>\n",
       "<style scoped>\n",
       "    .dataframe tbody tr th:only-of-type {\n",
       "        vertical-align: middle;\n",
       "    }\n",
       "\n",
       "    .dataframe tbody tr th {\n",
       "        vertical-align: top;\n",
       "    }\n",
       "\n",
       "    .dataframe thead th {\n",
       "        text-align: right;\n",
       "    }\n",
       "</style>\n",
       "<table border=\"1\" class=\"dataframe\">\n",
       "  <thead>\n",
       "    <tr style=\"text-align: right;\">\n",
       "      <th></th>\n",
       "      <th>id</th>\n",
       "      <th>Z</th>\n",
       "      <th>geometry</th>\n",
       "      <th>points</th>\n",
       "      <th>X</th>\n",
       "      <th>Y</th>\n",
       "    </tr>\n",
       "  </thead>\n",
       "  <tbody>\n",
       "    <tr>\n",
       "      <th>0</th>\n",
       "      <td>None</td>\n",
       "      <td>400</td>\n",
       "      <td>LINESTRING (0.741 475.441, 35.629 429.247, 77....</td>\n",
       "      <td>(0.7408806771479846, 475.44101474698454)</td>\n",
       "      <td>0.740881</td>\n",
       "      <td>475.441015</td>\n",
       "    </tr>\n",
       "    <tr>\n",
       "      <th>0</th>\n",
       "      <td>None</td>\n",
       "      <td>400</td>\n",
       "      <td>LINESTRING (0.741 475.441, 35.629 429.247, 77....</td>\n",
       "      <td>(35.62873136073459, 429.2469161566801)</td>\n",
       "      <td>35.628731</td>\n",
       "      <td>429.246916</td>\n",
       "    </tr>\n",
       "    <tr>\n",
       "      <th>0</th>\n",
       "      <td>None</td>\n",
       "      <td>400</td>\n",
       "      <td>LINESTRING (0.741 475.441, 35.629 429.247, 77....</td>\n",
       "      <td>(77.30033078835194, 340.0890755208477)</td>\n",
       "      <td>77.300331</td>\n",
       "      <td>340.089076</td>\n",
       "    </tr>\n",
       "    <tr>\n",
       "      <th>0</th>\n",
       "      <td>None</td>\n",
       "      <td>400</td>\n",
       "      <td>LINESTRING (0.741 475.441, 35.629 429.247, 77....</td>\n",
       "      <td>(104.75836141895252, 269.34426719024157)</td>\n",
       "      <td>104.758361</td>\n",
       "      <td>269.344267</td>\n",
       "    </tr>\n",
       "    <tr>\n",
       "      <th>0</th>\n",
       "      <td>None</td>\n",
       "      <td>400</td>\n",
       "      <td>LINESTRING (0.741 475.441, 35.629 429.247, 77....</td>\n",
       "      <td>(127.04782157791061, 207.64445718500974)</td>\n",
       "      <td>127.047822</td>\n",
       "      <td>207.644457</td>\n",
       "    </tr>\n",
       "  </tbody>\n",
       "</table>\n",
       "</div>"
      ],
      "text/plain": [
       "     id    Z                                           geometry  \\\n",
       "0  None  400  LINESTRING (0.741 475.441, 35.629 429.247, 77....   \n",
       "0  None  400  LINESTRING (0.741 475.441, 35.629 429.247, 77....   \n",
       "0  None  400  LINESTRING (0.741 475.441, 35.629 429.247, 77....   \n",
       "0  None  400  LINESTRING (0.741 475.441, 35.629 429.247, 77....   \n",
       "0  None  400  LINESTRING (0.741 475.441, 35.629 429.247, 77....   \n",
       "\n",
       "                                     points           X           Y  \n",
       "0  (0.7408806771479846, 475.44101474698454)    0.740881  475.441015  \n",
       "0    (35.62873136073459, 429.2469161566801)   35.628731  429.246916  \n",
       "0    (77.30033078835194, 340.0890755208477)   77.300331  340.089076  \n",
       "0  (104.75836141895252, 269.34426719024157)  104.758361  269.344267  \n",
       "0  (127.04782157791061, 207.64445718500974)  127.047822  207.644457  "
      ]
     },
     "execution_count": 9,
     "metadata": {},
     "output_type": "execute_result"
    }
   ],
   "source": [
    "topo = gg.extract_xy_values(topo)\n",
    "topo.head()"
   ]
  },
  {
   "cell_type": "code",
   "execution_count": 10,
   "metadata": {
    "ExecuteTime": {
     "end_time": "2020-06-30T11:21:22.122001Z",
     "start_time": "2020-06-30T11:21:21.836005Z"
    }
   },
   "outputs": [
    {
     "data": {
      "text/plain": [
       "<matplotlib.axes._subplots.AxesSubplot at 0x271f06d99c8>"
      ]
     },
     "execution_count": 10,
     "metadata": {},
     "output_type": "execute_result"
    },
    {
     "data": {
      "image/png": "[encoded data removed]",
      "text/plain": [
       "<Figure size 432x288 with 1 Axes>"
      ]
     },
     "metadata": {
      "needs_background": "light"
     },
     "output_type": "display_data"
    }
   ],
   "source": [
    "topo.plot()"
   ]
  },
  {
   "cell_type": "markdown",
   "metadata": {},
   "source": [
    "# Read Digital Elevation Model"
   ]
  },
  {
   "cell_type": "code",
   "execution_count": 11,
   "metadata": {
    "ExecuteTime": {
     "end_time": "2020-06-30T11:21:22.128001Z",
     "start_time": "2020-06-30T11:21:22.123000Z"
    }
   },
   "outputs": [
    {
     "data": {
      "text/plain": [
       "<open DatasetReader name='C:/Users/user_abuser/Desktop/Kartenkunde/Task1_modifiziert.tif' mode='r'>"
      ]
     },
     "execution_count": 11,
     "metadata": {},
     "output_type": "execute_result"
    }
   ],
   "source": [
    "dem = rasterio.open('C:/Users/user_abuser/Desktop/Kartenkunde/Task1_modifiziert.tif')\n",
    "dem"
   ]
  },
  {
   "cell_type": "code",
   "execution_count": 12,
   "metadata": {
    "ExecuteTime": {
     "end_time": "2020-06-30T11:21:22.134002Z",
     "start_time": "2020-06-30T11:21:22.129001Z"
    }
   },
   "outputs": [],
   "source": [
    "interfaces = gpd.read_file('C:/Users/user_abuser/Desktop/Kartenkunde/interfaces.shp')"
   ]
  },
  {
   "cell_type": "code",
   "execution_count": 13,
   "metadata": {
    "ExecuteTime": {
     "end_time": "2020-06-30T11:21:22.150000Z",
     "start_time": "2020-06-30T11:21:22.135000Z"
    }
   },
   "outputs": [
    {
     "data": {
      "text/html": [
       "<div>\n",
       "<style scoped>\n",
       "    .dataframe tbody tr th:only-of-type {\n",
       "        vertical-align: middle;\n",
       "    }\n",
       "\n",
       "    .dataframe tbody tr th {\n",
       "        vertical-align: top;\n",
       "    }\n",
       "\n",
       "    .dataframe thead th {\n",
       "        text-align: right;\n",
       "    }\n",
       "</style>\n",
       "<table border=\"1\" class=\"dataframe\">\n",
       "  <thead>\n",
       "    <tr style=\"text-align: right;\">\n",
       "      <th></th>\n",
       "      <th>id</th>\n",
       "      <th>formation</th>\n",
       "      <th>geometry</th>\n",
       "      <th>X</th>\n",
       "      <th>Y</th>\n",
       "      <th>Z</th>\n",
       "    </tr>\n",
       "  </thead>\n",
       "  <tbody>\n",
       "    <tr>\n",
       "      <th>0</th>\n",
       "      <td>None</td>\n",
       "      <td>Ton</td>\n",
       "      <td>POINT (19.150 293.313)</td>\n",
       "      <td>19.150128</td>\n",
       "      <td>293.313485</td>\n",
       "      <td>115</td>\n",
       "    </tr>\n",
       "    <tr>\n",
       "      <th>1</th>\n",
       "      <td>None</td>\n",
       "      <td>Ton</td>\n",
       "      <td>POINT (61.934 381.459)</td>\n",
       "      <td>61.934367</td>\n",
       "      <td>381.459326</td>\n",
       "      <td>254</td>\n",
       "    </tr>\n",
       "    <tr>\n",
       "      <th>2</th>\n",
       "      <td>None</td>\n",
       "      <td>Ton</td>\n",
       "      <td>POINT (109.358 480.946)</td>\n",
       "      <td>109.357860</td>\n",
       "      <td>480.945568</td>\n",
       "      <td>61</td>\n",
       "    </tr>\n",
       "    <tr>\n",
       "      <th>3</th>\n",
       "      <td>None</td>\n",
       "      <td>Ton</td>\n",
       "      <td>POINT (157.812 615.999)</td>\n",
       "      <td>157.812299</td>\n",
       "      <td>615.999430</td>\n",
       "      <td>24</td>\n",
       "    </tr>\n",
       "    <tr>\n",
       "      <th>4</th>\n",
       "      <td>None</td>\n",
       "      <td>Ton</td>\n",
       "      <td>POINT (191.318 719.094)</td>\n",
       "      <td>191.318028</td>\n",
       "      <td>719.093981</td>\n",
       "      <td>0</td>\n",
       "    </tr>\n",
       "  </tbody>\n",
       "</table>\n",
       "</div>"
      ],
      "text/plain": [
       "     id formation                 geometry           X           Y    Z\n",
       "0  None       Ton   POINT (19.150 293.313)   19.150128  293.313485  115\n",
       "1  None       Ton   POINT (61.934 381.459)   61.934367  381.459326  254\n",
       "2  None       Ton  POINT (109.358 480.946)  109.357860  480.945568   61\n",
       "3  None       Ton  POINT (157.812 615.999)  157.812299  615.999430   24\n",
       "4  None       Ton  POINT (191.318 719.094)  191.318028  719.093981    0"
      ]
     },
     "execution_count": 13,
     "metadata": {},
     "output_type": "execute_result"
    }
   ],
   "source": [
    "interfaces = gg.extract_z_values(interfaces, dem)\n",
    "interfaces.head()"
   ]
  },
  {
   "cell_type": "code",
   "execution_count": 14,
   "metadata": {
    "ExecuteTime": {
     "end_time": "2020-06-30T11:21:22.239000Z",
     "start_time": "2020-06-30T11:21:22.150000Z"
    }
   },
   "outputs": [
    {
     "data": {
      "text/plain": [
       "<matplotlib.axes._subplots.AxesSubplot at 0x271f0215388>"
      ]
     },
     "execution_count": 14,
     "metadata": {},
     "output_type": "execute_result"
    },
    {
     "data": {
      "image/png": "[encoded data removed]",
      "text/plain": [
       "<Figure size 432x288 with 1 Axes>"
      ]
     },
     "metadata": {
      "needs_background": "light"
     },
     "output_type": "display_data"
    }
   ],
   "source": [
    "interfaces = gpd.read_file('C:/Users/user_abuser/Desktop/Kartenkunde/interfaces.shp')\n",
    "interfaces.plot()"
   ]
  },
  {
   "cell_type": "code",
   "execution_count": 15,
   "metadata": {
    "ExecuteTime": {
     "end_time": "2020-06-30T11:21:22.254002Z",
     "start_time": "2020-06-30T11:21:22.240001Z"
    }
   },
   "outputs": [
    {
     "data": {
      "text/html": [
       "<div>\n",
       "<style scoped>\n",
       "    .dataframe tbody tr th:only-of-type {\n",
       "        vertical-align: middle;\n",
       "    }\n",
       "\n",
       "    .dataframe tbody tr th {\n",
       "        vertical-align: top;\n",
       "    }\n",
       "\n",
       "    .dataframe thead th {\n",
       "        text-align: right;\n",
       "    }\n",
       "</style>\n",
       "<table border=\"1\" class=\"dataframe\">\n",
       "  <thead>\n",
       "    <tr style=\"text-align: right;\">\n",
       "      <th></th>\n",
       "      <th>id</th>\n",
       "      <th>formation</th>\n",
       "      <th>geometry</th>\n",
       "      <th>X</th>\n",
       "      <th>Y</th>\n",
       "      <th>Z</th>\n",
       "    </tr>\n",
       "  </thead>\n",
       "  <tbody>\n",
       "    <tr>\n",
       "      <th>0</th>\n",
       "      <td>None</td>\n",
       "      <td>Ton</td>\n",
       "      <td>POINT (19.150 293.313)</td>\n",
       "      <td>19.150128</td>\n",
       "      <td>293.313485</td>\n",
       "      <td>115</td>\n",
       "    </tr>\n",
       "    <tr>\n",
       "      <th>1</th>\n",
       "      <td>None</td>\n",
       "      <td>Ton</td>\n",
       "      <td>POINT (61.934 381.459)</td>\n",
       "      <td>61.934367</td>\n",
       "      <td>381.459326</td>\n",
       "      <td>254</td>\n",
       "    </tr>\n",
       "    <tr>\n",
       "      <th>2</th>\n",
       "      <td>None</td>\n",
       "      <td>Ton</td>\n",
       "      <td>POINT (109.358 480.946)</td>\n",
       "      <td>109.357860</td>\n",
       "      <td>480.945568</td>\n",
       "      <td>61</td>\n",
       "    </tr>\n",
       "    <tr>\n",
       "      <th>3</th>\n",
       "      <td>None</td>\n",
       "      <td>Ton</td>\n",
       "      <td>POINT (157.812 615.999)</td>\n",
       "      <td>157.812299</td>\n",
       "      <td>615.999430</td>\n",
       "      <td>24</td>\n",
       "    </tr>\n",
       "    <tr>\n",
       "      <th>4</th>\n",
       "      <td>None</td>\n",
       "      <td>Ton</td>\n",
       "      <td>POINT (191.318 719.094)</td>\n",
       "      <td>191.318028</td>\n",
       "      <td>719.093981</td>\n",
       "      <td>0</td>\n",
       "    </tr>\n",
       "  </tbody>\n",
       "</table>\n",
       "</div>"
      ],
      "text/plain": [
       "     id formation                 geometry           X           Y    Z\n",
       "0  None       Ton   POINT (19.150 293.313)   19.150128  293.313485  115\n",
       "1  None       Ton   POINT (61.934 381.459)   61.934367  381.459326  254\n",
       "2  None       Ton  POINT (109.358 480.946)  109.357860  480.945568   61\n",
       "3  None       Ton  POINT (157.812 615.999)  157.812299  615.999430   24\n",
       "4  None       Ton  POINT (191.318 719.094)  191.318028  719.093981    0"
      ]
     },
     "execution_count": 15,
     "metadata": {},
     "output_type": "execute_result"
    }
   ],
   "source": [
    "interfaces = gg.extract_coordinates(interfaces, dem)\n",
    "interfaces.head()"
   ]
  },
  {
   "cell_type": "code",
   "execution_count": 16,
   "metadata": {
    "ExecuteTime": {
     "end_time": "2020-06-30T11:21:22.260004Z",
     "start_time": "2020-06-30T11:21:22.255005Z"
    }
   },
   "outputs": [
    {
     "data": {
      "text/plain": [
       "CRS.from_dict(init='epsg:4326')"
      ]
     },
     "execution_count": 16,
     "metadata": {},
     "output_type": "execute_result"
    }
   ],
   "source": [
    "dem = rasterio.open('C:/Users/user_abuser/Desktop/Kartenkunde/Task1_modifiziert.tif')\n",
    "dem.crs"
   ]
  },
  {
   "cell_type": "code",
   "execution_count": 17,
   "metadata": {
    "ExecuteTime": {
     "end_time": "2020-06-30T11:21:22.272002Z",
     "start_time": "2020-06-30T11:21:22.261003Z"
    }
   },
   "outputs": [
    {
     "data": {
      "text/html": [
       "<div>\n",
       "<style scoped>\n",
       "    .dataframe tbody tr th:only-of-type {\n",
       "        vertical-align: middle;\n",
       "    }\n",
       "\n",
       "    .dataframe tbody tr th {\n",
       "        vertical-align: top;\n",
       "    }\n",
       "\n",
       "    .dataframe thead th {\n",
       "        text-align: right;\n",
       "    }\n",
       "</style>\n",
       "<table border=\"1\" class=\"dataframe\">\n",
       "  <thead>\n",
       "    <tr style=\"text-align: right;\">\n",
       "      <th></th>\n",
       "      <th>id</th>\n",
       "      <th>geometry</th>\n",
       "    </tr>\n",
       "  </thead>\n",
       "  <tbody>\n",
       "    <tr>\n",
       "      <th>0</th>\n",
       "      <td>None</td>\n",
       "      <td>LINESTRING (0.741 475.441, 35.629 429.247, 77....</td>\n",
       "    </tr>\n",
       "    <tr>\n",
       "      <th>1</th>\n",
       "      <td>None</td>\n",
       "      <td>LINESTRING (645.965 0.525, 685.141 61.866, 724...</td>\n",
       "    </tr>\n",
       "    <tr>\n",
       "      <th>2</th>\n",
       "      <td>None</td>\n",
       "      <td>LINESTRING (490.292 0.525, 505.756 40.732, 519...</td>\n",
       "    </tr>\n",
       "    <tr>\n",
       "      <th>3</th>\n",
       "      <td>None</td>\n",
       "      <td>LINESTRING (911.433 1068.585, 908.856 1026.831...</td>\n",
       "    </tr>\n",
       "    <tr>\n",
       "      <th>4</th>\n",
       "      <td>None</td>\n",
       "      <td>LINESTRING (228.432 1068.585, 239.772 1017.037...</td>\n",
       "    </tr>\n",
       "  </tbody>\n",
       "</table>\n",
       "</div>"
      ],
      "text/plain": [
       "     id                                           geometry\n",
       "0  None  LINESTRING (0.741 475.441, 35.629 429.247, 77....\n",
       "1  None  LINESTRING (645.965 0.525, 685.141 61.866, 724...\n",
       "2  None  LINESTRING (490.292 0.525, 505.756 40.732, 519...\n",
       "3  None  LINESTRING (911.433 1068.585, 908.856 1026.831...\n",
       "4  None  LINESTRING (228.432 1068.585, 239.772 1017.037..."
      ]
     },
     "execution_count": 17,
     "metadata": {},
     "output_type": "execute_result"
    }
   ],
   "source": [
    "topo = gpd.read_file('C:/Users/user_abuser/Desktop/Kartenkunde/Topography.shp')\n",
    "del topo['Z']\n",
    "topo.head()"
   ]
  },
  {
   "cell_type": "code",
   "execution_count": 18,
   "metadata": {
    "ExecuteTime": {
     "end_time": "2020-06-30T11:21:22.279003Z",
     "start_time": "2020-06-30T11:21:22.274004Z"
    }
   },
   "outputs": [
    {
     "data": {
      "text/plain": [
       "True"
      ]
     },
     "execution_count": 18,
     "metadata": {},
     "output_type": "execute_result"
    }
   ],
   "source": [
    "topo.crs == dem.crs"
   ]
  },
  {
   "cell_type": "code",
   "execution_count": 19,
   "metadata": {
    "ExecuteTime": {
     "end_time": "2020-06-30T11:21:22.342001Z",
     "start_time": "2020-06-30T11:21:22.280004Z"
    }
   },
   "outputs": [
    {
     "ename": "CRSError",
     "evalue": "CRS is invalid: None",
     "output_type": "error",
     "traceback": [
      "\u001b[1;31m---------------------------------------------------------------------------\u001b[0m",
      "\u001b[1;31mCRSError\u001b[0m                                  Traceback (most recent call last)",
      "\u001b[1;32m<ipython-input-19-8377a3e04649>\u001b[0m in \u001b[0;36m<module>\u001b[1;34m\u001b[0m\n\u001b[1;32m----> 1\u001b[1;33m \u001b[0mtopo\u001b[0m \u001b[1;33m=\u001b[0m \u001b[0mgg\u001b[0m\u001b[1;33m.\u001b[0m\u001b[0mextract_coordinates\u001b[0m\u001b[1;33m(\u001b[0m\u001b[0mtopo\u001b[0m\u001b[1;33m,\u001b[0m \u001b[0mdem\u001b[0m\u001b[1;33m)\u001b[0m\u001b[1;33m\u001b[0m\u001b[1;33m\u001b[0m\u001b[0m\n\u001b[0m\u001b[0;32m      2\u001b[0m \u001b[0mtopo\u001b[0m\u001b[1;33m\u001b[0m\u001b[1;33m\u001b[0m\u001b[0m\n",
      "\u001b[1;32m~\\Documents\\gemgis\\gemgis.py\u001b[0m in \u001b[0;36mextract_coordinates\u001b[1;34m(gdf, dem)\u001b[0m\n\u001b[0;32m     89\u001b[0m \u001b[1;33m\u001b[0m\u001b[0m\n\u001b[0;32m     90\u001b[0m     \u001b[1;32mif\u001b[0m \u001b[1;34m'Z'\u001b[0m \u001b[1;32mnot\u001b[0m \u001b[1;32min\u001b[0m \u001b[0mgdf\u001b[0m\u001b[1;33m.\u001b[0m\u001b[0mcolumns\u001b[0m\u001b[1;33m:\u001b[0m\u001b[1;33m\u001b[0m\u001b[1;33m\u001b[0m\u001b[0m\n\u001b[1;32m---> 91\u001b[1;33m         \u001b[0mgdf\u001b[0m \u001b[1;33m=\u001b[0m \u001b[0mextract_z_values\u001b[0m\u001b[1;33m(\u001b[0m\u001b[0mextract_xy_values\u001b[0m\u001b[1;33m(\u001b[0m\u001b[0mgdf\u001b[0m\u001b[1;33m)\u001b[0m\u001b[1;33m,\u001b[0m\u001b[0mdem\u001b[0m\u001b[1;33m)\u001b[0m\u001b[1;33m\u001b[0m\u001b[1;33m\u001b[0m\u001b[0m\n\u001b[0m\u001b[0;32m     92\u001b[0m     \u001b[1;32melse\u001b[0m\u001b[1;33m:\u001b[0m\u001b[1;33m\u001b[0m\u001b[1;33m\u001b[0m\u001b[0m\n\u001b[0;32m     93\u001b[0m         \u001b[0mgdf\u001b[0m \u001b[1;33m=\u001b[0m \u001b[0mextract_xy_values\u001b[0m\u001b[1;33m(\u001b[0m\u001b[0mgdf\u001b[0m\u001b[1;33m)\u001b[0m\u001b[1;33m\u001b[0m\u001b[1;33m\u001b[0m\u001b[0m\n",
      "\u001b[1;32m~\\Documents\\gemgis\\gemgis.py\u001b[0m in \u001b[0;36mextract_z_values\u001b[1;34m(gdf, dem)\u001b[0m\n\u001b[0;32m     67\u001b[0m     \u001b[1;32mif\u001b[0m \u001b[1;33m(\u001b[0m\u001b[1;34m'X'\u001b[0m \u001b[1;32mnot\u001b[0m \u001b[1;32min\u001b[0m \u001b[0mgdf\u001b[0m\u001b[1;33m.\u001b[0m\u001b[0mcolumns\u001b[0m \u001b[1;32mand\u001b[0m \u001b[1;34m'Y'\u001b[0m \u001b[1;32mnot\u001b[0m \u001b[1;32min\u001b[0m \u001b[0mgdf\u001b[0m\u001b[1;33m.\u001b[0m\u001b[0mcolumns\u001b[0m\u001b[1;33m)\u001b[0m\u001b[1;33m:\u001b[0m\u001b[1;33m\u001b[0m\u001b[1;33m\u001b[0m\u001b[0m\n\u001b[0;32m     68\u001b[0m         \u001b[0mgdf\u001b[0m \u001b[1;33m=\u001b[0m \u001b[0mextract_xy_values\u001b[0m\u001b[1;33m(\u001b[0m\u001b[0mgdf\u001b[0m\u001b[1;33m)\u001b[0m\u001b[1;33m\u001b[0m\u001b[1;33m\u001b[0m\u001b[0m\n\u001b[1;32m---> 69\u001b[1;33m     \u001b[1;32mif\u001b[0m \u001b[0mgdf\u001b[0m\u001b[1;33m.\u001b[0m\u001b[0mcrs\u001b[0m \u001b[1;33m==\u001b[0m \u001b[0mdem\u001b[0m\u001b[1;33m.\u001b[0m\u001b[0mcrs\u001b[0m\u001b[1;33m:\u001b[0m\u001b[1;33m\u001b[0m\u001b[1;33m\u001b[0m\u001b[0m\n\u001b[0m\u001b[0;32m     70\u001b[0m         \u001b[0mgdf\u001b[0m\u001b[1;33m[\u001b[0m\u001b[1;34m'Z'\u001b[0m\u001b[1;33m]\u001b[0m \u001b[1;33m=\u001b[0m \u001b[1;33m[\u001b[0m\u001b[0mz\u001b[0m\u001b[1;33m[\u001b[0m\u001b[1;36m0\u001b[0m\u001b[1;33m]\u001b[0m \u001b[1;32mfor\u001b[0m \u001b[0mz\u001b[0m \u001b[1;32min\u001b[0m \u001b[0mdem\u001b[0m\u001b[1;33m.\u001b[0m\u001b[0msample\u001b[0m\u001b[1;33m(\u001b[0m\u001b[0mgdf\u001b[0m\u001b[1;33m[\u001b[0m\u001b[1;33m[\u001b[0m\u001b[1;34m'X'\u001b[0m\u001b[1;33m,\u001b[0m \u001b[1;34m'Y'\u001b[0m\u001b[1;33m]\u001b[0m\u001b[1;33m]\u001b[0m\u001b[1;33m.\u001b[0m\u001b[0mto_numpy\u001b[0m\u001b[1;33m(\u001b[0m\u001b[1;33m)\u001b[0m\u001b[1;33m)\u001b[0m\u001b[1;33m]\u001b[0m\u001b[1;33m\u001b[0m\u001b[1;33m\u001b[0m\u001b[0m\n\u001b[0;32m     71\u001b[0m     \u001b[1;32melse\u001b[0m\u001b[1;33m:\u001b[0m\u001b[1;33m\u001b[0m\u001b[1;33m\u001b[0m\u001b[0m\n",
      "\u001b[1;32m~\\Anaconda3\\lib\\site-packages\\rasterio\\crs.py\u001b[0m in \u001b[0;36m__eq__\u001b[1;34m(self, other)\u001b[0m\n\u001b[0;32m     88\u001b[0m \u001b[1;33m\u001b[0m\u001b[0m\n\u001b[0;32m     89\u001b[0m     \u001b[1;32mdef\u001b[0m \u001b[0m__eq__\u001b[0m\u001b[1;33m(\u001b[0m\u001b[0mself\u001b[0m\u001b[1;33m,\u001b[0m \u001b[0mother\u001b[0m\u001b[1;33m)\u001b[0m\u001b[1;33m:\u001b[0m\u001b[1;33m\u001b[0m\u001b[1;33m\u001b[0m\u001b[0m\n\u001b[1;32m---> 90\u001b[1;33m         \u001b[0mother\u001b[0m \u001b[1;33m=\u001b[0m \u001b[0mCRS\u001b[0m\u001b[1;33m.\u001b[0m\u001b[0mfrom_user_input\u001b[0m\u001b[1;33m(\u001b[0m\u001b[0mother\u001b[0m\u001b[1;33m)\u001b[0m\u001b[1;33m\u001b[0m\u001b[1;33m\u001b[0m\u001b[0m\n\u001b[0m\u001b[0;32m     91\u001b[0m         \u001b[1;32mreturn\u001b[0m \u001b[1;33m(\u001b[0m\u001b[0mself\u001b[0m\u001b[1;33m.\u001b[0m\u001b[0m_crs\u001b[0m \u001b[1;33m==\u001b[0m \u001b[0mother\u001b[0m\u001b[1;33m.\u001b[0m\u001b[0m_crs\u001b[0m\u001b[1;33m)\u001b[0m\u001b[1;33m\u001b[0m\u001b[1;33m\u001b[0m\u001b[0m\n\u001b[0;32m     92\u001b[0m \u001b[1;33m\u001b[0m\u001b[0m\n",
      "\u001b[1;32m~\\Anaconda3\\lib\\site-packages\\rasterio\\crs.py\u001b[0m in \u001b[0;36mfrom_user_input\u001b[1;34m(cls, value, morph_from_esri_dialect)\u001b[0m\n\u001b[0;32m    435\u001b[0m             \u001b[1;32mreturn\u001b[0m \u001b[0mobj\u001b[0m\u001b[1;33m\u001b[0m\u001b[1;33m\u001b[0m\u001b[0m\n\u001b[0;32m    436\u001b[0m         \u001b[1;32melse\u001b[0m\u001b[1;33m:\u001b[0m\u001b[1;33m\u001b[0m\u001b[1;33m\u001b[0m\u001b[0m\n\u001b[1;32m--> 437\u001b[1;33m             \u001b[1;32mraise\u001b[0m \u001b[0mCRSError\u001b[0m\u001b[1;33m(\u001b[0m\u001b[1;34m\"CRS is invalid: {!r}\"\u001b[0m\u001b[1;33m.\u001b[0m\u001b[0mformat\u001b[0m\u001b[1;33m(\u001b[0m\u001b[0mvalue\u001b[0m\u001b[1;33m)\u001b[0m\u001b[1;33m)\u001b[0m\u001b[1;33m\u001b[0m\u001b[1;33m\u001b[0m\u001b[0m\n\u001b[0m",
      "\u001b[1;31mCRSError\u001b[0m: CRS is invalid: None"
     ]
    }
   ],
   "source": [
    "topo = gg.extract_coordinates(topo, dem)\n",
    "topo"
   ]
  },
  {
   "cell_type": "markdown",
   "metadata": {},
   "source": [
    "# Save as GemPy df"
   ]
  },
  {
   "cell_type": "code",
   "execution_count": null,
   "metadata": {
    "ExecuteTime": {
     "end_time": "2020-06-30T11:21:22.343000Z",
     "start_time": "2020-06-30T11:21:21.380Z"
    }
   },
   "outputs": [],
   "source": [
    "interfaces = gg.convert_to_gempy_df(interfaces)\n",
    "interfaces.head()"
   ]
  },
  {
   "cell_type": "code",
   "execution_count": null,
   "metadata": {
    "ExecuteTime": {
     "end_time": "2020-06-30T11:21:22.343000Z",
     "start_time": "2020-06-30T11:21:21.381Z"
    }
   },
   "outputs": [],
   "source": [
    "interfaces['dip'] = 50\n",
    "interfaces['azimuth'] = 100"
   ]
  },
  {
   "cell_type": "code",
   "execution_count": null,
   "metadata": {
    "ExecuteTime": {
     "end_time": "2020-06-30T11:21:22.344000Z",
     "start_time": "2020-06-30T11:21:21.381Z"
    }
   },
   "outputs": [],
   "source": [
    "orientations= gg.convert_to_gempy_df(interfaces)\n",
    "orientations.head()"
   ]
  },
  {
   "cell_type": "markdown",
   "metadata": {
    "ExecuteTime": {
     "end_time": "2020-06-30T07:39:22.676055Z",
     "start_time": "2020-06-30T07:39:21.726Z"
    }
   },
   "source": [
    "# Define Custom Sections"
   ]
  },
  {
   "cell_type": "code",
   "execution_count": null,
   "metadata": {
    "ExecuteTime": {
     "end_time": "2020-06-30T11:21:22.345000Z",
     "start_time": "2020-06-30T11:21:21.383Z"
    }
   },
   "outputs": [],
   "source": [
    "custom_sections = gpd.read_file('C:/Users/user_abuser/Desktop/Kartenkunde/Custom_Section_1.shp')"
   ]
  },
  {
   "cell_type": "code",
   "execution_count": null,
   "metadata": {
    "ExecuteTime": {
     "end_time": "2020-06-30T11:21:22.345000Z",
     "start_time": "2020-06-30T11:21:21.384Z"
    }
   },
   "outputs": [],
   "source": [
    "custom_sections"
   ]
  },
  {
   "cell_type": "code",
   "execution_count": null,
   "metadata": {
    "ExecuteTime": {
     "end_time": "2020-06-30T11:21:22.346002Z",
     "start_time": "2020-06-30T11:21:21.385Z"
    }
   },
   "outputs": [],
   "source": [
    "custom_sections['section_name'] = 'Section1'\n",
    "custom_sections"
   ]
  },
  {
   "cell_type": "code",
   "execution_count": null,
   "metadata": {
    "ExecuteTime": {
     "end_time": "2020-06-30T11:21:22.347001Z",
     "start_time": "2020-06-30T11:21:21.386Z"
    }
   },
   "outputs": [],
   "source": [
    "section_dict = gg.to_section_dict(custom_sections, 'section_name')\n",
    "section_dict"
   ]
  },
  {
   "cell_type": "code",
   "execution_count": null,
   "metadata": {
    "ExecuteTime": {
     "end_time": "2020-06-30T11:21:22.347001Z",
     "start_time": "2020-06-30T11:21:21.386Z"
    }
   },
   "outputs": [],
   "source": [
    "import pandas as pd\n",
    "sections = pd.concat([custom_sections,custom_sections,custom_sections])\n",
    "sections['section_name'].iloc[2] ='Section2'\n",
    "sections['section_name'].iloc[3] ='Section2'\n",
    "sections['section_name'].iloc[4] ='Section3'\n",
    "sections['section_name'].iloc[5] ='Section3'\n",
    "sections"
   ]
  },
  {
   "cell_type": "code",
   "execution_count": null,
   "metadata": {
    "ExecuteTime": {
     "end_time": "2020-06-30T11:21:22.348000Z",
     "start_time": "2020-06-30T11:21:21.387Z"
    }
   },
   "outputs": [],
   "source": [
    "section_dict = gg.to_section_dict(sections, 'section_name')\n",
    "section_dict"
   ]
  },
  {
   "cell_type": "markdown",
   "metadata": {},
   "source": [
    "# Interpolate Raster"
   ]
  },
  {
   "cell_type": "code",
   "execution_count": 20,
   "metadata": {
    "ExecuteTime": {
     "end_time": "2020-06-30T11:21:23.646589Z",
     "start_time": "2020-06-30T11:21:23.636590Z"
    }
   },
   "outputs": [
    {
     "data": {
      "text/html": [
       "<div>\n",
       "<style scoped>\n",
       "    .dataframe tbody tr th:only-of-type {\n",
       "        vertical-align: middle;\n",
       "    }\n",
       "\n",
       "    .dataframe tbody tr th {\n",
       "        vertical-align: top;\n",
       "    }\n",
       "\n",
       "    .dataframe thead th {\n",
       "        text-align: right;\n",
       "    }\n",
       "</style>\n",
       "<table border=\"1\" class=\"dataframe\">\n",
       "  <thead>\n",
       "    <tr style=\"text-align: right;\">\n",
       "      <th></th>\n",
       "      <th>id</th>\n",
       "      <th>Z</th>\n",
       "      <th>geometry</th>\n",
       "    </tr>\n",
       "  </thead>\n",
       "  <tbody>\n",
       "    <tr>\n",
       "      <th>0</th>\n",
       "      <td>None</td>\n",
       "      <td>400</td>\n",
       "      <td>LINESTRING (0.741 475.441, 35.629 429.247, 77....</td>\n",
       "    </tr>\n",
       "    <tr>\n",
       "      <th>1</th>\n",
       "      <td>None</td>\n",
       "      <td>300</td>\n",
       "      <td>LINESTRING (645.965 0.525, 685.141 61.866, 724...</td>\n",
       "    </tr>\n",
       "    <tr>\n",
       "      <th>2</th>\n",
       "      <td>None</td>\n",
       "      <td>400</td>\n",
       "      <td>LINESTRING (490.292 0.525, 505.756 40.732, 519...</td>\n",
       "    </tr>\n",
       "    <tr>\n",
       "      <th>3</th>\n",
       "      <td>None</td>\n",
       "      <td>600</td>\n",
       "      <td>LINESTRING (911.433 1068.585, 908.856 1026.831...</td>\n",
       "    </tr>\n",
       "    <tr>\n",
       "      <th>4</th>\n",
       "      <td>None</td>\n",
       "      <td>700</td>\n",
       "      <td>LINESTRING (228.432 1068.585, 239.772 1017.037...</td>\n",
       "    </tr>\n",
       "  </tbody>\n",
       "</table>\n",
       "</div>"
      ],
      "text/plain": [
       "     id    Z                                           geometry\n",
       "0  None  400  LINESTRING (0.741 475.441, 35.629 429.247, 77....\n",
       "1  None  300  LINESTRING (645.965 0.525, 685.141 61.866, 724...\n",
       "2  None  400  LINESTRING (490.292 0.525, 505.756 40.732, 519...\n",
       "3  None  600  LINESTRING (911.433 1068.585, 908.856 1026.831...\n",
       "4  None  700  LINESTRING (228.432 1068.585, 239.772 1017.037..."
      ]
     },
     "execution_count": 20,
     "metadata": {},
     "output_type": "execute_result"
    }
   ],
   "source": [
    "topo = gpd.read_file('C:/Users/user_abuser/Desktop/Kartenkunde/Topography.shp')\n",
    "topo.head()"
   ]
  },
  {
   "cell_type": "code",
   "execution_count": 21,
   "metadata": {
    "ExecuteTime": {
     "end_time": "2020-06-30T11:21:23.876387Z",
     "start_time": "2020-06-30T11:21:23.786389Z"
    }
   },
   "outputs": [
    {
     "data": {
      "text/plain": [
       "<matplotlib.axes._subplots.AxesSubplot at 0x271f0db7e08>"
      ]
     },
     "execution_count": 21,
     "metadata": {},
     "output_type": "execute_result"
    },
    {
     "data": {
      "image/png": "[encoded data removed]",
      "text/plain": [
       "<Figure size 432x288 with 1 Axes>"
      ]
     },
     "metadata": {
      "needs_background": "light"
     },
     "output_type": "display_data"
    }
   ],
   "source": [
    "topo.plot()"
   ]
  },
  {
   "cell_type": "code",
   "execution_count": 22,
   "metadata": {
    "ExecuteTime": {
     "end_time": "2020-06-30T11:21:24.412193Z",
     "start_time": "2020-06-30T11:21:23.922389Z"
    }
   },
   "outputs": [],
   "source": [
    "array = gg.interpolate_raster(topo)"
   ]
  },
  {
   "cell_type": "code",
   "execution_count": 23,
   "metadata": {
    "ExecuteTime": {
     "end_time": "2020-06-30T11:21:24.507194Z",
     "start_time": "2020-06-30T11:21:24.413193Z"
    }
   },
   "outputs": [
    {
     "data": {
      "text/plain": [
       "<matplotlib.image.AxesImage at 0x271f1f8ed88>"
      ]
     },
     "execution_count": 23,
     "metadata": {},
     "output_type": "execute_result"
    },
    {
     "data": {
      "image/png": "[encoded data removed]",
      "text/plain": [
       "<Figure size 432x288 with 1 Axes>"
      ]
     },
     "metadata": {
      "needs_background": "light"
     },
     "output_type": "display_data"
    }
   ],
   "source": [
    "import matplotlib.pyplot as plt\n",
    "plt.imshow(array, origin='lower')"
   ]
  },
  {
   "cell_type": "code",
   "execution_count": 24,
   "metadata": {
    "ExecuteTime": {
     "end_time": "2020-06-30T11:21:24.792194Z",
     "start_time": "2020-06-30T11:21:24.508193Z"
    }
   },
   "outputs": [
    {
     "data": {
      "text/plain": [
       "<matplotlib.image.AxesImage at 0x271f27ea2c8>"
      ]
     },
     "execution_count": 24,
     "metadata": {},
     "output_type": "execute_result"
    },
    {
     "data": {
      "image/png": "[encoded data removed]",
      "text/plain": [
       "<Figure size 432x288 with 1 Axes>"
      ]
     },
     "metadata": {
      "needs_background": "light"
     },
     "output_type": "display_data"
    }
   ],
   "source": [
    "array = gg.interpolate_raster(topo, method = 'linear')\n",
    "plt.imshow(array, origin='lower')"
   ]
  },
  {
   "cell_type": "code",
   "execution_count": 25,
   "metadata": {
    "ExecuteTime": {
     "end_time": "2020-06-30T11:21:25.319806Z",
     "start_time": "2020-06-30T11:21:24.827195Z"
    }
   },
   "outputs": [
    {
     "data": {
      "text/plain": [
       "<matplotlib.image.AxesImage at 0x271f303ff88>"
      ]
     },
     "execution_count": 25,
     "metadata": {},
     "output_type": "execute_result"
    },
    {
     "data": {
      "image/png": "[encoded data removed]",
      "text/plain": [
       "<Figure size 432x288 with 1 Axes>"
      ]
     },
     "metadata": {
      "needs_background": "light"
     },
     "output_type": "display_data"
    }
   ],
   "source": [
    "array = gg.interpolate_raster(topo, method = 'cubic')\n",
    "plt.imshow(array, origin='lower')"
   ]
  },
  {
   "cell_type": "markdown",
   "metadata": {},
   "source": [
    "# Create GemPyData Object"
   ]
  },
  {
   "cell_type": "code",
   "execution_count": null,
   "metadata": {
    "ExecuteTime": {
     "end_time": "2020-06-30T11:21:22.352002Z",
     "start_time": "2020-06-30T11:21:21.396Z"
    }
   },
   "outputs": [],
   "source": [
    "data = gg.GemPyData()\n",
    "print(data.crs)"
   ]
  },
  {
   "cell_type": "code",
   "execution_count": null,
   "metadata": {
    "ExecuteTime": {
     "end_time": "2020-06-30T11:21:22.353002Z",
     "start_time": "2020-06-30T11:21:21.397Z"
    }
   },
   "outputs": [],
   "source": [
    "data.crs = 'EPSG:4326'\n",
    "data.crs"
   ]
  },
  {
   "cell_type": "code",
   "execution_count": null,
   "metadata": {
    "ExecuteTime": {
     "end_time": "2020-06-30T11:21:22.354002Z",
     "start_time": "2020-06-30T11:21:21.398Z"
    }
   },
   "outputs": [],
   "source": [
    "data = gg.GemPyData(crs = 'EPSG:4326')\n",
    "print(data.crs)"
   ]
  },
  {
   "cell_type": "code",
   "execution_count": null,
   "metadata": {
    "ExecuteTime": {
     "end_time": "2020-06-30T11:21:22.354002Z",
     "start_time": "2020-06-30T11:21:21.399Z"
    }
   },
   "outputs": [],
   "source": [
    "data.interfaces = interfaces\n",
    "data.interfaces.head()"
   ]
  },
  {
   "cell_type": "code",
   "execution_count": null,
   "metadata": {
    "ExecuteTime": {
     "end_time": "2020-06-30T11:21:22.355002Z",
     "start_time": "2020-06-30T11:21:21.400Z"
    }
   },
   "outputs": [],
   "source": [
    "data.orientations = orientations\n",
    "data.orientations.head()"
   ]
  },
  {
   "cell_type": "code",
   "execution_count": null,
   "metadata": {
    "ExecuteTime": {
     "end_time": "2020-06-30T11:21:22.355002Z",
     "start_time": "2020-06-30T11:21:21.402Z"
    }
   },
   "outputs": [],
   "source": [
    "data.section_dict = section_dict\n",
    "data.section_dict"
   ]
  },
  {
   "cell_type": "code",
   "execution_count": null,
   "metadata": {
    "ExecuteTime": {
     "end_time": "2020-06-30T11:21:22.356004Z",
     "start_time": "2020-06-30T11:21:21.403Z"
    }
   },
   "outputs": [],
   "source": [
    "data."
   ]
  }
 ],
 "metadata": {
  "hide_input": false,
  "kernelspec": {
   "display_name": "Python 3",
   "language": "python",
   "name": "python3"
  },
  "language_info": {
   "codemirror_mode": {
    "name": "ipython",
    "version": 3
   },
   "file_extension": ".py",
   "mimetype": "text/x-python",
   "name": "python",
   "nbconvert_exporter": "python",
   "pygments_lexer": "ipython3",
   "version": "3.7.7"
  },
  "toc": {
   "base_numbering": 1,
   "nav_menu": {},
   "number_sections": true,
   "sideBar": true,
   "skip_h1_title": false,
   "title_cell": "Table of Contents",
   "title_sidebar": "Contents",
   "toc_cell": false,
   "toc_position": {},
   "toc_section_display": true,
   "toc_window_display": false
  }
 },
 "nbformat": 4,
 "nbformat_minor": 4
}
