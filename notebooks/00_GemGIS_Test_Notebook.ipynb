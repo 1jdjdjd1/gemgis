{
 "cells": [
  {
   "cell_type": "markdown",
   "metadata": {},
   "source": [
    "# Import Libraries"
   ]
  },
  {
   "cell_type": "code",
   "execution_count": 1,
   "metadata": {
    "ExecuteTime": {
     "end_time": "2020-06-30T07:39:22.098058Z",
     "start_time": "2020-06-30T07:39:21.666109Z"
    }
   },
   "outputs": [
    {
     "name": "stdout",
     "output_type": "stream",
     "text": [
      "<module 'gemgis' from '../../gemgis\\\\gemgis.py'>\n"
     ]
    }
   ],
   "source": [
    "import sys\n",
    "sys.path.append('../../gemgis')\n",
    "import geopandas as gpd\n",
    "import rasterio\n",
    "import gemgis as gg\n",
    "\n",
    "print(gg)"
   ]
  },
  {
   "cell_type": "markdown",
   "metadata": {},
   "source": [
    "# Read Vector Files - Polygons"
   ]
  },
  {
   "cell_type": "code",
   "execution_count": 2,
   "metadata": {
    "ExecuteTime": {
     "end_time": "2020-06-30T07:39:22.464055Z",
     "start_time": "2020-06-30T07:39:22.099059Z"
    }
   },
   "outputs": [],
   "source": [
    "gdf = gpd.read_file('data/vector_data/GeologicalMapAachen.shp')"
   ]
  },
  {
   "cell_type": "code",
   "execution_count": 3,
   "metadata": {
    "ExecuteTime": {
     "end_time": "2020-06-30T07:39:22.473055Z",
     "start_time": "2020-06-30T07:39:22.465055Z"
    }
   },
   "outputs": [
    {
     "data": {
      "text/plain": [
       "{'init': 'epsg:4647'}"
      ]
     },
     "execution_count": 3,
     "metadata": {},
     "output_type": "execute_result"
    }
   ],
   "source": [
    "gdf.crs"
   ]
  },
  {
   "cell_type": "code",
   "execution_count": 4,
   "metadata": {
    "ExecuteTime": {
     "end_time": "2020-06-30T07:39:22.479056Z",
     "start_time": "2020-06-30T07:39:22.474056Z"
    }
   },
   "outputs": [
    {
     "data": {
      "text/plain": [
       "0      Polygon\n",
       "1      Polygon\n",
       "2      Polygon\n",
       "3      Polygon\n",
       "4      Polygon\n",
       "        ...   \n",
       "843    Polygon\n",
       "844    Polygon\n",
       "845    Polygon\n",
       "846    Polygon\n",
       "847    Polygon\n",
       "Length: 848, dtype: object"
      ]
     },
     "execution_count": 4,
     "metadata": {},
     "output_type": "execute_result"
    }
   ],
   "source": [
    "gdf.geom_type"
   ]
  },
  {
   "cell_type": "markdown",
   "metadata": {},
   "source": [
    "# Read Vector Files - Points"
   ]
  },
  {
   "cell_type": "code",
   "execution_count": 5,
   "metadata": {
    "ExecuteTime": {
     "end_time": "2020-06-30T07:39:22.487056Z",
     "start_time": "2020-06-30T07:39:22.480056Z"
    }
   },
   "outputs": [],
   "source": [
    "interfaces = gpd.read_file('C:/Users/user_abuser/Desktop/Kartenkunde/interfaces.shp')"
   ]
  },
  {
   "cell_type": "code",
   "execution_count": 6,
   "metadata": {
    "ExecuteTime": {
     "end_time": "2020-06-30T07:39:22.491055Z",
     "start_time": "2020-06-30T07:39:22.488055Z"
    }
   },
   "outputs": [
    {
     "data": {
      "text/plain": [
       "{'init': 'epsg:4326'}"
      ]
     },
     "execution_count": 6,
     "metadata": {},
     "output_type": "execute_result"
    }
   ],
   "source": [
    "interfaces.crs"
   ]
  },
  {
   "cell_type": "code",
   "execution_count": 7,
   "metadata": {
    "ExecuteTime": {
     "end_time": "2020-06-30T07:39:22.497056Z",
     "start_time": "2020-06-30T07:39:22.492055Z"
    }
   },
   "outputs": [
    {
     "data": {
      "text/plain": [
       "0     Point\n",
       "1     Point\n",
       "2     Point\n",
       "3     Point\n",
       "4     Point\n",
       "5     Point\n",
       "6     Point\n",
       "7     Point\n",
       "8     Point\n",
       "9     Point\n",
       "10    Point\n",
       "11    Point\n",
       "12    Point\n",
       "13    Point\n",
       "14    Point\n",
       "15    Point\n",
       "16    Point\n",
       "17    Point\n",
       "18    Point\n",
       "19    Point\n",
       "20    Point\n",
       "21    Point\n",
       "22    Point\n",
       "23    Point\n",
       "24    Point\n",
       "25    Point\n",
       "26    Point\n",
       "27    Point\n",
       "28    Point\n",
       "29    Point\n",
       "30    Point\n",
       "31    Point\n",
       "32    Point\n",
       "33    Point\n",
       "34    Point\n",
       "35    Point\n",
       "36    Point\n",
       "37    Point\n",
       "38    Point\n",
       "39    Point\n",
       "40    Point\n",
       "dtype: object"
      ]
     },
     "execution_count": 7,
     "metadata": {},
     "output_type": "execute_result"
    }
   ],
   "source": [
    "interfaces.geom_type"
   ]
  },
  {
   "cell_type": "code",
   "execution_count": 8,
   "metadata": {
    "ExecuteTime": {
     "end_time": "2020-06-30T07:39:22.507055Z",
     "start_time": "2020-06-30T07:39:22.498056Z"
    },
    "scrolled": true
   },
   "outputs": [
    {
     "data": {
      "text/html": [
       "<div>\n",
       "<style scoped>\n",
       "    .dataframe tbody tr th:only-of-type {\n",
       "        vertical-align: middle;\n",
       "    }\n",
       "\n",
       "    .dataframe tbody tr th {\n",
       "        vertical-align: top;\n",
       "    }\n",
       "\n",
       "    .dataframe thead th {\n",
       "        text-align: right;\n",
       "    }\n",
       "</style>\n",
       "<table border=\"1\" class=\"dataframe\">\n",
       "  <thead>\n",
       "    <tr style=\"text-align: right;\">\n",
       "      <th></th>\n",
       "      <th>id</th>\n",
       "      <th>formation</th>\n",
       "      <th>geometry</th>\n",
       "    </tr>\n",
       "  </thead>\n",
       "  <tbody>\n",
       "    <tr>\n",
       "      <th>0</th>\n",
       "      <td>None</td>\n",
       "      <td>Ton</td>\n",
       "      <td>POINT (19.150 293.313)</td>\n",
       "    </tr>\n",
       "    <tr>\n",
       "      <th>1</th>\n",
       "      <td>None</td>\n",
       "      <td>Ton</td>\n",
       "      <td>POINT (61.934 381.459)</td>\n",
       "    </tr>\n",
       "    <tr>\n",
       "      <th>2</th>\n",
       "      <td>None</td>\n",
       "      <td>Ton</td>\n",
       "      <td>POINT (109.358 480.946)</td>\n",
       "    </tr>\n",
       "    <tr>\n",
       "      <th>3</th>\n",
       "      <td>None</td>\n",
       "      <td>Ton</td>\n",
       "      <td>POINT (157.812 615.999)</td>\n",
       "    </tr>\n",
       "    <tr>\n",
       "      <th>4</th>\n",
       "      <td>None</td>\n",
       "      <td>Ton</td>\n",
       "      <td>POINT (191.318 719.094)</td>\n",
       "    </tr>\n",
       "  </tbody>\n",
       "</table>\n",
       "</div>"
      ],
      "text/plain": [
       "     id formation                 geometry\n",
       "0  None       Ton   POINT (19.150 293.313)\n",
       "1  None       Ton   POINT (61.934 381.459)\n",
       "2  None       Ton  POINT (109.358 480.946)\n",
       "3  None       Ton  POINT (157.812 615.999)\n",
       "4  None       Ton  POINT (191.318 719.094)"
      ]
     },
     "execution_count": 8,
     "metadata": {},
     "output_type": "execute_result"
    }
   ],
   "source": [
    "interfaces.head()"
   ]
  },
  {
   "cell_type": "markdown",
   "metadata": {},
   "source": [
    "## Extract X,Y coordinates"
   ]
  },
  {
   "cell_type": "code",
   "execution_count": 9,
   "metadata": {
    "ExecuteTime": {
     "end_time": "2020-06-30T07:39:22.517055Z",
     "start_time": "2020-06-30T07:39:22.508055Z"
    }
   },
   "outputs": [
    {
     "data": {
      "text/html": [
       "<div>\n",
       "<style scoped>\n",
       "    .dataframe tbody tr th:only-of-type {\n",
       "        vertical-align: middle;\n",
       "    }\n",
       "\n",
       "    .dataframe tbody tr th {\n",
       "        vertical-align: top;\n",
       "    }\n",
       "\n",
       "    .dataframe thead th {\n",
       "        text-align: right;\n",
       "    }\n",
       "</style>\n",
       "<table border=\"1\" class=\"dataframe\">\n",
       "  <thead>\n",
       "    <tr style=\"text-align: right;\">\n",
       "      <th></th>\n",
       "      <th>id</th>\n",
       "      <th>formation</th>\n",
       "      <th>geometry</th>\n",
       "      <th>X</th>\n",
       "      <th>Y</th>\n",
       "    </tr>\n",
       "  </thead>\n",
       "  <tbody>\n",
       "    <tr>\n",
       "      <th>0</th>\n",
       "      <td>None</td>\n",
       "      <td>Ton</td>\n",
       "      <td>POINT (19.150 293.313)</td>\n",
       "      <td>19.150128</td>\n",
       "      <td>293.313485</td>\n",
       "    </tr>\n",
       "    <tr>\n",
       "      <th>1</th>\n",
       "      <td>None</td>\n",
       "      <td>Ton</td>\n",
       "      <td>POINT (61.934 381.459)</td>\n",
       "      <td>61.934367</td>\n",
       "      <td>381.459326</td>\n",
       "    </tr>\n",
       "    <tr>\n",
       "      <th>2</th>\n",
       "      <td>None</td>\n",
       "      <td>Ton</td>\n",
       "      <td>POINT (109.358 480.946)</td>\n",
       "      <td>109.357860</td>\n",
       "      <td>480.945568</td>\n",
       "    </tr>\n",
       "    <tr>\n",
       "      <th>3</th>\n",
       "      <td>None</td>\n",
       "      <td>Ton</td>\n",
       "      <td>POINT (157.812 615.999)</td>\n",
       "      <td>157.812299</td>\n",
       "      <td>615.999430</td>\n",
       "    </tr>\n",
       "    <tr>\n",
       "      <th>4</th>\n",
       "      <td>None</td>\n",
       "      <td>Ton</td>\n",
       "      <td>POINT (191.318 719.094)</td>\n",
       "      <td>191.318028</td>\n",
       "      <td>719.093981</td>\n",
       "    </tr>\n",
       "  </tbody>\n",
       "</table>\n",
       "</div>"
      ],
      "text/plain": [
       "     id formation                 geometry           X           Y\n",
       "0  None       Ton   POINT (19.150 293.313)   19.150128  293.313485\n",
       "1  None       Ton   POINT (61.934 381.459)   61.934367  381.459326\n",
       "2  None       Ton  POINT (109.358 480.946)  109.357860  480.945568\n",
       "3  None       Ton  POINT (157.812 615.999)  157.812299  615.999430\n",
       "4  None       Ton  POINT (191.318 719.094)  191.318028  719.093981"
      ]
     },
     "execution_count": 9,
     "metadata": {},
     "output_type": "execute_result"
    }
   ],
   "source": [
    "interfaces = gg.extract_xy_values(interfaces)\n",
    "interfaces.head()"
   ]
  },
  {
   "cell_type": "markdown",
   "metadata": {},
   "source": [
    "# Load Vector Data - LineString"
   ]
  },
  {
   "cell_type": "code",
   "execution_count": 10,
   "metadata": {
    "ExecuteTime": {
     "end_time": "2020-06-30T07:39:22.524055Z",
     "start_time": "2020-06-30T07:39:22.518056Z"
    }
   },
   "outputs": [],
   "source": [
    "topo = gpd.read_file('C:/Users/user_abuser/Desktop/Kartenkunde/Topography.shp')"
   ]
  },
  {
   "cell_type": "code",
   "execution_count": 11,
   "metadata": {
    "ExecuteTime": {
     "end_time": "2020-06-30T07:39:22.533055Z",
     "start_time": "2020-06-30T07:39:22.525056Z"
    }
   },
   "outputs": [
    {
     "data": {
      "text/html": [
       "<div>\n",
       "<style scoped>\n",
       "    .dataframe tbody tr th:only-of-type {\n",
       "        vertical-align: middle;\n",
       "    }\n",
       "\n",
       "    .dataframe tbody tr th {\n",
       "        vertical-align: top;\n",
       "    }\n",
       "\n",
       "    .dataframe thead th {\n",
       "        text-align: right;\n",
       "    }\n",
       "</style>\n",
       "<table border=\"1\" class=\"dataframe\">\n",
       "  <thead>\n",
       "    <tr style=\"text-align: right;\">\n",
       "      <th></th>\n",
       "      <th>id</th>\n",
       "      <th>Z</th>\n",
       "      <th>geometry</th>\n",
       "    </tr>\n",
       "  </thead>\n",
       "  <tbody>\n",
       "    <tr>\n",
       "      <th>0</th>\n",
       "      <td>None</td>\n",
       "      <td>400</td>\n",
       "      <td>LINESTRING (0.741 475.441, 35.629 429.247, 77....</td>\n",
       "    </tr>\n",
       "    <tr>\n",
       "      <th>1</th>\n",
       "      <td>None</td>\n",
       "      <td>300</td>\n",
       "      <td>LINESTRING (645.965 0.525, 685.141 61.866, 724...</td>\n",
       "    </tr>\n",
       "    <tr>\n",
       "      <th>2</th>\n",
       "      <td>None</td>\n",
       "      <td>400</td>\n",
       "      <td>LINESTRING (490.292 0.525, 505.756 40.732, 519...</td>\n",
       "    </tr>\n",
       "    <tr>\n",
       "      <th>3</th>\n",
       "      <td>None</td>\n",
       "      <td>600</td>\n",
       "      <td>LINESTRING (911.433 1068.585, 908.856 1026.831...</td>\n",
       "    </tr>\n",
       "    <tr>\n",
       "      <th>4</th>\n",
       "      <td>None</td>\n",
       "      <td>700</td>\n",
       "      <td>LINESTRING (228.432 1068.585, 239.772 1017.037...</td>\n",
       "    </tr>\n",
       "  </tbody>\n",
       "</table>\n",
       "</div>"
      ],
      "text/plain": [
       "     id    Z                                           geometry\n",
       "0  None  400  LINESTRING (0.741 475.441, 35.629 429.247, 77....\n",
       "1  None  300  LINESTRING (645.965 0.525, 685.141 61.866, 724...\n",
       "2  None  400  LINESTRING (490.292 0.525, 505.756 40.732, 519...\n",
       "3  None  600  LINESTRING (911.433 1068.585, 908.856 1026.831...\n",
       "4  None  700  LINESTRING (228.432 1068.585, 239.772 1017.037..."
      ]
     },
     "execution_count": 11,
     "metadata": {},
     "output_type": "execute_result"
    }
   ],
   "source": [
    "topo.head()"
   ]
  },
  {
   "cell_type": "markdown",
   "metadata": {},
   "source": [
    "## Extract X,Y coordinates"
   ]
  },
  {
   "cell_type": "code",
   "execution_count": 12,
   "metadata": {
    "ExecuteTime": {
     "end_time": "2020-06-30T07:39:22.549055Z",
     "start_time": "2020-06-30T07:39:22.534055Z"
    }
   },
   "outputs": [
    {
     "data": {
      "text/html": [
       "<div>\n",
       "<style scoped>\n",
       "    .dataframe tbody tr th:only-of-type {\n",
       "        vertical-align: middle;\n",
       "    }\n",
       "\n",
       "    .dataframe tbody tr th {\n",
       "        vertical-align: top;\n",
       "    }\n",
       "\n",
       "    .dataframe thead th {\n",
       "        text-align: right;\n",
       "    }\n",
       "</style>\n",
       "<table border=\"1\" class=\"dataframe\">\n",
       "  <thead>\n",
       "    <tr style=\"text-align: right;\">\n",
       "      <th></th>\n",
       "      <th>id</th>\n",
       "      <th>Z</th>\n",
       "      <th>geometry</th>\n",
       "      <th>points</th>\n",
       "      <th>X</th>\n",
       "      <th>Y</th>\n",
       "    </tr>\n",
       "  </thead>\n",
       "  <tbody>\n",
       "    <tr>\n",
       "      <th>0</th>\n",
       "      <td>None</td>\n",
       "      <td>400</td>\n",
       "      <td>LINESTRING (0.741 475.441, 35.629 429.247, 77....</td>\n",
       "      <td>(0.7408806771479846, 475.44101474698454)</td>\n",
       "      <td>0.740881</td>\n",
       "      <td>475.441015</td>\n",
       "    </tr>\n",
       "    <tr>\n",
       "      <th>0</th>\n",
       "      <td>None</td>\n",
       "      <td>400</td>\n",
       "      <td>LINESTRING (0.741 475.441, 35.629 429.247, 77....</td>\n",
       "      <td>(35.62873136073459, 429.2469161566801)</td>\n",
       "      <td>35.628731</td>\n",
       "      <td>429.246916</td>\n",
       "    </tr>\n",
       "    <tr>\n",
       "      <th>0</th>\n",
       "      <td>None</td>\n",
       "      <td>400</td>\n",
       "      <td>LINESTRING (0.741 475.441, 35.629 429.247, 77....</td>\n",
       "      <td>(77.30033078835194, 340.0890755208477)</td>\n",
       "      <td>77.300331</td>\n",
       "      <td>340.089076</td>\n",
       "    </tr>\n",
       "    <tr>\n",
       "      <th>0</th>\n",
       "      <td>None</td>\n",
       "      <td>400</td>\n",
       "      <td>LINESTRING (0.741 475.441, 35.629 429.247, 77....</td>\n",
       "      <td>(104.75836141895252, 269.34426719024157)</td>\n",
       "      <td>104.758361</td>\n",
       "      <td>269.344267</td>\n",
       "    </tr>\n",
       "    <tr>\n",
       "      <th>0</th>\n",
       "      <td>None</td>\n",
       "      <td>400</td>\n",
       "      <td>LINESTRING (0.741 475.441, 35.629 429.247, 77....</td>\n",
       "      <td>(127.04782157791061, 207.64445718500974)</td>\n",
       "      <td>127.047822</td>\n",
       "      <td>207.644457</td>\n",
       "    </tr>\n",
       "  </tbody>\n",
       "</table>\n",
       "</div>"
      ],
      "text/plain": [
       "     id    Z                                           geometry  \\\n",
       "0  None  400  LINESTRING (0.741 475.441, 35.629 429.247, 77....   \n",
       "0  None  400  LINESTRING (0.741 475.441, 35.629 429.247, 77....   \n",
       "0  None  400  LINESTRING (0.741 475.441, 35.629 429.247, 77....   \n",
       "0  None  400  LINESTRING (0.741 475.441, 35.629 429.247, 77....   \n",
       "0  None  400  LINESTRING (0.741 475.441, 35.629 429.247, 77....   \n",
       "\n",
       "                                     points           X           Y  \n",
       "0  (0.7408806771479846, 475.44101474698454)    0.740881  475.441015  \n",
       "0    (35.62873136073459, 429.2469161566801)   35.628731  429.246916  \n",
       "0    (77.30033078835194, 340.0890755208477)   77.300331  340.089076  \n",
       "0  (104.75836141895252, 269.34426719024157)  104.758361  269.344267  \n",
       "0  (127.04782157791061, 207.64445718500974)  127.047822  207.644457  "
      ]
     },
     "execution_count": 12,
     "metadata": {},
     "output_type": "execute_result"
    }
   ],
   "source": [
    "topo = gg.extract_xy_values(topo)\n",
    "topo.head()"
   ]
  },
  {
   "cell_type": "markdown",
   "metadata": {},
   "source": [
    "# Read Digital Elevation Model"
   ]
  },
  {
   "cell_type": "code",
   "execution_count": 33,
   "metadata": {
    "ExecuteTime": {
     "end_time": "2020-06-30T07:40:46.577747Z",
     "start_time": "2020-06-30T07:40:46.570748Z"
    }
   },
   "outputs": [
    {
     "data": {
      "text/plain": [
       "<open DatasetReader name='C:/Users/user_abuser/Desktop/Kartenkunde/Task1_modifiziert.tif' mode='r'>"
      ]
     },
     "execution_count": 33,
     "metadata": {},
     "output_type": "execute_result"
    }
   ],
   "source": [
    "dem = rasterio.open('C:/Users/user_abuser/Desktop/Kartenkunde/Task1_modifiziert.tif')\n",
    "dem"
   ]
  },
  {
   "cell_type": "code",
   "execution_count": 34,
   "metadata": {
    "ExecuteTime": {
     "end_time": "2020-06-30T07:40:46.738832Z",
     "start_time": "2020-06-30T07:40:46.731832Z"
    }
   },
   "outputs": [],
   "source": [
    "interfaces = gpd.read_file('C:/Users/user_abuser/Desktop/Kartenkunde/interfaces.shp')"
   ]
  },
  {
   "cell_type": "code",
   "execution_count": 35,
   "metadata": {
    "ExecuteTime": {
     "end_time": "2020-06-30T07:40:47.227834Z",
     "start_time": "2020-06-30T07:40:47.209832Z"
    }
   },
   "outputs": [
    {
     "data": {
      "text/html": [
       "<div>\n",
       "<style scoped>\n",
       "    .dataframe tbody tr th:only-of-type {\n",
       "        vertical-align: middle;\n",
       "    }\n",
       "\n",
       "    .dataframe tbody tr th {\n",
       "        vertical-align: top;\n",
       "    }\n",
       "\n",
       "    .dataframe thead th {\n",
       "        text-align: right;\n",
       "    }\n",
       "</style>\n",
       "<table border=\"1\" class=\"dataframe\">\n",
       "  <thead>\n",
       "    <tr style=\"text-align: right;\">\n",
       "      <th></th>\n",
       "      <th>id</th>\n",
       "      <th>formation</th>\n",
       "      <th>geometry</th>\n",
       "      <th>X</th>\n",
       "      <th>Y</th>\n",
       "      <th>Z</th>\n",
       "    </tr>\n",
       "  </thead>\n",
       "  <tbody>\n",
       "    <tr>\n",
       "      <th>0</th>\n",
       "      <td>None</td>\n",
       "      <td>Ton</td>\n",
       "      <td>POINT (19.150 293.313)</td>\n",
       "      <td>19.150128</td>\n",
       "      <td>293.313485</td>\n",
       "      <td>115</td>\n",
       "    </tr>\n",
       "    <tr>\n",
       "      <th>1</th>\n",
       "      <td>None</td>\n",
       "      <td>Ton</td>\n",
       "      <td>POINT (61.934 381.459)</td>\n",
       "      <td>61.934367</td>\n",
       "      <td>381.459326</td>\n",
       "      <td>254</td>\n",
       "    </tr>\n",
       "    <tr>\n",
       "      <th>2</th>\n",
       "      <td>None</td>\n",
       "      <td>Ton</td>\n",
       "      <td>POINT (109.358 480.946)</td>\n",
       "      <td>109.357860</td>\n",
       "      <td>480.945568</td>\n",
       "      <td>61</td>\n",
       "    </tr>\n",
       "    <tr>\n",
       "      <th>3</th>\n",
       "      <td>None</td>\n",
       "      <td>Ton</td>\n",
       "      <td>POINT (157.812 615.999)</td>\n",
       "      <td>157.812299</td>\n",
       "      <td>615.999430</td>\n",
       "      <td>24</td>\n",
       "    </tr>\n",
       "    <tr>\n",
       "      <th>4</th>\n",
       "      <td>None</td>\n",
       "      <td>Ton</td>\n",
       "      <td>POINT (191.318 719.094)</td>\n",
       "      <td>191.318028</td>\n",
       "      <td>719.093981</td>\n",
       "      <td>0</td>\n",
       "    </tr>\n",
       "  </tbody>\n",
       "</table>\n",
       "</div>"
      ],
      "text/plain": [
       "     id formation                 geometry           X           Y    Z\n",
       "0  None       Ton   POINT (19.150 293.313)   19.150128  293.313485  115\n",
       "1  None       Ton   POINT (61.934 381.459)   61.934367  381.459326  254\n",
       "2  None       Ton  POINT (109.358 480.946)  109.357860  480.945568   61\n",
       "3  None       Ton  POINT (157.812 615.999)  157.812299  615.999430   24\n",
       "4  None       Ton  POINT (191.318 719.094)  191.318028  719.093981    0"
      ]
     },
     "execution_count": 35,
     "metadata": {},
     "output_type": "execute_result"
    }
   ],
   "source": [
    "interfaces = gg.extract_z_values(interfaces, dem)\n",
    "interfaces.head()"
   ]
  },
  {
   "cell_type": "markdown",
   "metadata": {},
   "source": [
    "# Save as GemPy df"
   ]
  },
  {
   "cell_type": "code",
   "execution_count": 37,
   "metadata": {
    "ExecuteTime": {
     "end_time": "2020-06-30T07:41:06.621159Z",
     "start_time": "2020-06-30T07:41:06.611158Z"
    }
   },
   "outputs": [
    {
     "data": {
      "text/html": [
       "<div>\n",
       "<style scoped>\n",
       "    .dataframe tbody tr th:only-of-type {\n",
       "        vertical-align: middle;\n",
       "    }\n",
       "\n",
       "    .dataframe tbody tr th {\n",
       "        vertical-align: top;\n",
       "    }\n",
       "\n",
       "    .dataframe thead th {\n",
       "        text-align: right;\n",
       "    }\n",
       "</style>\n",
       "<table border=\"1\" class=\"dataframe\">\n",
       "  <thead>\n",
       "    <tr style=\"text-align: right;\">\n",
       "      <th></th>\n",
       "      <th>X</th>\n",
       "      <th>Y</th>\n",
       "      <th>Z</th>\n",
       "      <th>formation</th>\n",
       "    </tr>\n",
       "  </thead>\n",
       "  <tbody>\n",
       "    <tr>\n",
       "      <th>0</th>\n",
       "      <td>19.150128</td>\n",
       "      <td>293.313485</td>\n",
       "      <td>115</td>\n",
       "      <td>Ton</td>\n",
       "    </tr>\n",
       "    <tr>\n",
       "      <th>1</th>\n",
       "      <td>61.934367</td>\n",
       "      <td>381.459326</td>\n",
       "      <td>254</td>\n",
       "      <td>Ton</td>\n",
       "    </tr>\n",
       "    <tr>\n",
       "      <th>2</th>\n",
       "      <td>109.357860</td>\n",
       "      <td>480.945568</td>\n",
       "      <td>61</td>\n",
       "      <td>Ton</td>\n",
       "    </tr>\n",
       "    <tr>\n",
       "      <th>3</th>\n",
       "      <td>157.812299</td>\n",
       "      <td>615.999430</td>\n",
       "      <td>24</td>\n",
       "      <td>Ton</td>\n",
       "    </tr>\n",
       "    <tr>\n",
       "      <th>4</th>\n",
       "      <td>191.318028</td>\n",
       "      <td>719.093981</td>\n",
       "      <td>0</td>\n",
       "      <td>Ton</td>\n",
       "    </tr>\n",
       "  </tbody>\n",
       "</table>\n",
       "</div>"
      ],
      "text/plain": [
       "            X           Y    Z formation\n",
       "0   19.150128  293.313485  115       Ton\n",
       "1   61.934367  381.459326  254       Ton\n",
       "2  109.357860  480.945568   61       Ton\n",
       "3  157.812299  615.999430   24       Ton\n",
       "4  191.318028  719.093981    0       Ton"
      ]
     },
     "execution_count": 37,
     "metadata": {},
     "output_type": "execute_result"
    }
   ],
   "source": [
    "interfaces = gg.convert_to_gempy_df(interfaces)\n",
    "interfaces.head()"
   ]
  },
  {
   "cell_type": "code",
   "execution_count": 40,
   "metadata": {
    "ExecuteTime": {
     "end_time": "2020-06-30T07:41:39.117873Z",
     "start_time": "2020-06-30T07:41:39.113872Z"
    }
   },
   "outputs": [],
   "source": [
    "interfaces['dip'] = 50\n",
    "interfaces['azimuth'] = 100"
   ]
  },
  {
   "cell_type": "code",
   "execution_count": 41,
   "metadata": {
    "ExecuteTime": {
     "end_time": "2020-06-30T07:41:39.249873Z",
     "start_time": "2020-06-30T07:41:39.238872Z"
    }
   },
   "outputs": [
    {
     "data": {
      "text/html": [
       "<div>\n",
       "<style scoped>\n",
       "    .dataframe tbody tr th:only-of-type {\n",
       "        vertical-align: middle;\n",
       "    }\n",
       "\n",
       "    .dataframe tbody tr th {\n",
       "        vertical-align: top;\n",
       "    }\n",
       "\n",
       "    .dataframe thead th {\n",
       "        text-align: right;\n",
       "    }\n",
       "</style>\n",
       "<table border=\"1\" class=\"dataframe\">\n",
       "  <thead>\n",
       "    <tr style=\"text-align: right;\">\n",
       "      <th></th>\n",
       "      <th>X</th>\n",
       "      <th>Y</th>\n",
       "      <th>Z</th>\n",
       "      <th>formation</th>\n",
       "      <th>dip</th>\n",
       "      <th>azimuth</th>\n",
       "      <th>polarity</th>\n",
       "    </tr>\n",
       "  </thead>\n",
       "  <tbody>\n",
       "    <tr>\n",
       "      <th>0</th>\n",
       "      <td>19.150128</td>\n",
       "      <td>293.313485</td>\n",
       "      <td>115</td>\n",
       "      <td>Ton</td>\n",
       "      <td>50</td>\n",
       "      <td>100</td>\n",
       "      <td>1</td>\n",
       "    </tr>\n",
       "    <tr>\n",
       "      <th>1</th>\n",
       "      <td>61.934367</td>\n",
       "      <td>381.459326</td>\n",
       "      <td>254</td>\n",
       "      <td>Ton</td>\n",
       "      <td>50</td>\n",
       "      <td>100</td>\n",
       "      <td>1</td>\n",
       "    </tr>\n",
       "    <tr>\n",
       "      <th>2</th>\n",
       "      <td>109.357860</td>\n",
       "      <td>480.945568</td>\n",
       "      <td>61</td>\n",
       "      <td>Ton</td>\n",
       "      <td>50</td>\n",
       "      <td>100</td>\n",
       "      <td>1</td>\n",
       "    </tr>\n",
       "    <tr>\n",
       "      <th>3</th>\n",
       "      <td>157.812299</td>\n",
       "      <td>615.999430</td>\n",
       "      <td>24</td>\n",
       "      <td>Ton</td>\n",
       "      <td>50</td>\n",
       "      <td>100</td>\n",
       "      <td>1</td>\n",
       "    </tr>\n",
       "    <tr>\n",
       "      <th>4</th>\n",
       "      <td>191.318028</td>\n",
       "      <td>719.093981</td>\n",
       "      <td>0</td>\n",
       "      <td>Ton</td>\n",
       "      <td>50</td>\n",
       "      <td>100</td>\n",
       "      <td>1</td>\n",
       "    </tr>\n",
       "  </tbody>\n",
       "</table>\n",
       "</div>"
      ],
      "text/plain": [
       "            X           Y    Z formation  dip  azimuth  polarity\n",
       "0   19.150128  293.313485  115       Ton   50      100         1\n",
       "1   61.934367  381.459326  254       Ton   50      100         1\n",
       "2  109.357860  480.945568   61       Ton   50      100         1\n",
       "3  157.812299  615.999430   24       Ton   50      100         1\n",
       "4  191.318028  719.093981    0       Ton   50      100         1"
      ]
     },
     "execution_count": 41,
     "metadata": {},
     "output_type": "execute_result"
    }
   ],
   "source": [
    "orientations= gg.convert_to_gempy_df(interfaces)\n",
    "orientations.head()"
   ]
  },
  {
   "cell_type": "markdown",
   "metadata": {
    "ExecuteTime": {
     "end_time": "2020-06-30T07:39:22.676055Z",
     "start_time": "2020-06-30T07:39:21.726Z"
    }
   },
   "source": [
    "# Define Custom Sections"
   ]
  },
  {
   "cell_type": "code",
   "execution_count": 50,
   "metadata": {
    "ExecuteTime": {
     "end_time": "2020-06-30T07:43:34.372016Z",
     "start_time": "2020-06-30T07:43:34.355016Z"
    }
   },
   "outputs": [],
   "source": [
    "custom_sections = gpd.read_file('C:/Users/user_abuser/Desktop/Kartenkunde/Custom_Section_1.shp')"
   ]
  },
  {
   "cell_type": "code",
   "execution_count": 51,
   "metadata": {
    "ExecuteTime": {
     "end_time": "2020-06-30T07:43:34.647145Z",
     "start_time": "2020-06-30T07:43:34.640145Z"
    }
   },
   "outputs": [
    {
     "data": {
      "text/html": [
       "<div>\n",
       "<style scoped>\n",
       "    .dataframe tbody tr th:only-of-type {\n",
       "        vertical-align: middle;\n",
       "    }\n",
       "\n",
       "    .dataframe tbody tr th {\n",
       "        vertical-align: top;\n",
       "    }\n",
       "\n",
       "    .dataframe thead th {\n",
       "        text-align: right;\n",
       "    }\n",
       "</style>\n",
       "<table border=\"1\" class=\"dataframe\">\n",
       "  <thead>\n",
       "    <tr style=\"text-align: right;\">\n",
       "      <th></th>\n",
       "      <th>id</th>\n",
       "      <th>geometry</th>\n",
       "    </tr>\n",
       "  </thead>\n",
       "  <tbody>\n",
       "    <tr>\n",
       "      <th>0</th>\n",
       "      <td>None</td>\n",
       "      <td>POINT (695.467 3.226)</td>\n",
       "    </tr>\n",
       "    <tr>\n",
       "      <th>1</th>\n",
       "      <td>None</td>\n",
       "      <td>POINT (669.284 1060.822)</td>\n",
       "    </tr>\n",
       "  </tbody>\n",
       "</table>\n",
       "</div>"
      ],
      "text/plain": [
       "     id                  geometry\n",
       "0  None     POINT (695.467 3.226)\n",
       "1  None  POINT (669.284 1060.822)"
      ]
     },
     "execution_count": 51,
     "metadata": {},
     "output_type": "execute_result"
    }
   ],
   "source": [
    "custom_sections"
   ]
  },
  {
   "cell_type": "code",
   "execution_count": 55,
   "metadata": {
    "ExecuteTime": {
     "end_time": "2020-06-30T07:43:57.050066Z",
     "start_time": "2020-06-30T07:43:57.041066Z"
    }
   },
   "outputs": [
    {
     "data": {
      "text/html": [
       "<div>\n",
       "<style scoped>\n",
       "    .dataframe tbody tr th:only-of-type {\n",
       "        vertical-align: middle;\n",
       "    }\n",
       "\n",
       "    .dataframe tbody tr th {\n",
       "        vertical-align: top;\n",
       "    }\n",
       "\n",
       "    .dataframe thead th {\n",
       "        text-align: right;\n",
       "    }\n",
       "</style>\n",
       "<table border=\"1\" class=\"dataframe\">\n",
       "  <thead>\n",
       "    <tr style=\"text-align: right;\">\n",
       "      <th></th>\n",
       "      <th>id</th>\n",
       "      <th>geometry</th>\n",
       "      <th>section_name</th>\n",
       "      <th>X</th>\n",
       "      <th>Y</th>\n",
       "    </tr>\n",
       "  </thead>\n",
       "  <tbody>\n",
       "    <tr>\n",
       "      <th>0</th>\n",
       "      <td>None</td>\n",
       "      <td>POINT (695.467 3.226)</td>\n",
       "      <td>Section1</td>\n",
       "      <td>695.466746</td>\n",
       "      <td>3.226225</td>\n",
       "    </tr>\n",
       "    <tr>\n",
       "      <th>1</th>\n",
       "      <td>None</td>\n",
       "      <td>POINT (669.284 1060.822)</td>\n",
       "      <td>Section1</td>\n",
       "      <td>669.284003</td>\n",
       "      <td>1060.822026</td>\n",
       "    </tr>\n",
       "  </tbody>\n",
       "</table>\n",
       "</div>"
      ],
      "text/plain": [
       "     id                  geometry section_name           X            Y\n",
       "0  None     POINT (695.467 3.226)     Section1  695.466746     3.226225\n",
       "1  None  POINT (669.284 1060.822)     Section1  669.284003  1060.822026"
      ]
     },
     "execution_count": 55,
     "metadata": {},
     "output_type": "execute_result"
    }
   ],
   "source": [
    "custom_sections['section_name'] = 'Section1'\n",
    "custom_sections"
   ]
  },
  {
   "cell_type": "code",
   "execution_count": 56,
   "metadata": {
    "ExecuteTime": {
     "end_time": "2020-06-30T07:43:57.185064Z",
     "start_time": "2020-06-30T07:43:57.177063Z"
    }
   },
   "outputs": [
    {
     "data": {
      "text/plain": [
       "{'Section1': ([695.4667461080886, 3.2262250771374283],\n",
       "  [[669.2840030245482, 1060.822026058724]],\n",
       "  [100, 80])}"
      ]
     },
     "execution_count": 56,
     "metadata": {},
     "output_type": "execute_result"
    }
   ],
   "source": [
    "section_dict = gg.to_section_dict(custom_sections, 'section_name')\n",
    "section_dict"
   ]
  },
  {
   "cell_type": "code",
   "execution_count": 57,
   "metadata": {
    "ExecuteTime": {
     "end_time": "2020-06-30T07:44:04.656892Z",
     "start_time": "2020-06-30T07:44:04.640729Z"
    }
   },
   "outputs": [
    {
     "name": "stderr",
     "output_type": "stream",
     "text": [
      "C:\\Users\\user_abuser\\Anaconda3\\lib\\site-packages\\pandas\\core\\indexing.py:671: SettingWithCopyWarning: \n",
      "A value is trying to be set on a copy of a slice from a DataFrame\n",
      "\n",
      "See the caveats in the documentation: https://pandas.pydata.org/pandas-docs/stable/user_guide/indexing.html#returning-a-view-versus-a-copy\n",
      "  self._setitem_with_indexer(indexer, value)\n"
     ]
    },
    {
     "data": {
      "text/html": [
       "<div>\n",
       "<style scoped>\n",
       "    .dataframe tbody tr th:only-of-type {\n",
       "        vertical-align: middle;\n",
       "    }\n",
       "\n",
       "    .dataframe tbody tr th {\n",
       "        vertical-align: top;\n",
       "    }\n",
       "\n",
       "    .dataframe thead th {\n",
       "        text-align: right;\n",
       "    }\n",
       "</style>\n",
       "<table border=\"1\" class=\"dataframe\">\n",
       "  <thead>\n",
       "    <tr style=\"text-align: right;\">\n",
       "      <th></th>\n",
       "      <th>id</th>\n",
       "      <th>geometry</th>\n",
       "      <th>section_name</th>\n",
       "      <th>X</th>\n",
       "      <th>Y</th>\n",
       "    </tr>\n",
       "  </thead>\n",
       "  <tbody>\n",
       "    <tr>\n",
       "      <th>0</th>\n",
       "      <td>None</td>\n",
       "      <td>POINT (695.467 3.226)</td>\n",
       "      <td>Section1</td>\n",
       "      <td>695.466746</td>\n",
       "      <td>3.226225</td>\n",
       "    </tr>\n",
       "    <tr>\n",
       "      <th>1</th>\n",
       "      <td>None</td>\n",
       "      <td>POINT (669.284 1060.822)</td>\n",
       "      <td>Section1</td>\n",
       "      <td>669.284003</td>\n",
       "      <td>1060.822026</td>\n",
       "    </tr>\n",
       "    <tr>\n",
       "      <th>0</th>\n",
       "      <td>None</td>\n",
       "      <td>POINT (695.467 3.226)</td>\n",
       "      <td>Section2</td>\n",
       "      <td>695.466746</td>\n",
       "      <td>3.226225</td>\n",
       "    </tr>\n",
       "    <tr>\n",
       "      <th>1</th>\n",
       "      <td>None</td>\n",
       "      <td>POINT (669.284 1060.822)</td>\n",
       "      <td>Section2</td>\n",
       "      <td>669.284003</td>\n",
       "      <td>1060.822026</td>\n",
       "    </tr>\n",
       "    <tr>\n",
       "      <th>0</th>\n",
       "      <td>None</td>\n",
       "      <td>POINT (695.467 3.226)</td>\n",
       "      <td>Section3</td>\n",
       "      <td>695.466746</td>\n",
       "      <td>3.226225</td>\n",
       "    </tr>\n",
       "    <tr>\n",
       "      <th>1</th>\n",
       "      <td>None</td>\n",
       "      <td>POINT (669.284 1060.822)</td>\n",
       "      <td>Section3</td>\n",
       "      <td>669.284003</td>\n",
       "      <td>1060.822026</td>\n",
       "    </tr>\n",
       "  </tbody>\n",
       "</table>\n",
       "</div>"
      ],
      "text/plain": [
       "     id                  geometry section_name           X            Y\n",
       "0  None     POINT (695.467 3.226)     Section1  695.466746     3.226225\n",
       "1  None  POINT (669.284 1060.822)     Section1  669.284003  1060.822026\n",
       "0  None     POINT (695.467 3.226)     Section2  695.466746     3.226225\n",
       "1  None  POINT (669.284 1060.822)     Section2  669.284003  1060.822026\n",
       "0  None     POINT (695.467 3.226)     Section3  695.466746     3.226225\n",
       "1  None  POINT (669.284 1060.822)     Section3  669.284003  1060.822026"
      ]
     },
     "execution_count": 57,
     "metadata": {},
     "output_type": "execute_result"
    }
   ],
   "source": [
    "import pandas as pd\n",
    "sections = pd.concat([custom_sections,custom_sections,custom_sections])\n",
    "sections['section_name'].iloc[2] ='Section2'\n",
    "sections['section_name'].iloc[3] ='Section2'\n",
    "sections['section_name'].iloc[4] ='Section3'\n",
    "sections['section_name'].iloc[5] ='Section3'\n",
    "sections"
   ]
  },
  {
   "cell_type": "code",
   "execution_count": 58,
   "metadata": {
    "ExecuteTime": {
     "end_time": "2020-06-30T07:44:04.847891Z",
     "start_time": "2020-06-30T07:44:04.833894Z"
    }
   },
   "outputs": [
    {
     "data": {
      "text/plain": [
       "{'Section1': ([695.4667461080886, 3.2262250771374283],\n",
       "  [[669.2840030245482, 1060.822026058724]],\n",
       "  [100, 80]),\n",
       " 'Section2': ([695.4667461080886, 3.2262250771374283],\n",
       "  [[669.2840030245482, 1060.822026058724]],\n",
       "  [100, 80]),\n",
       " 'Section3': ([695.4667461080886, 3.2262250771374283],\n",
       "  [[669.2840030245482, 1060.822026058724]],\n",
       "  [100, 80])}"
      ]
     },
     "execution_count": 58,
     "metadata": {},
     "output_type": "execute_result"
    }
   ],
   "source": [
    "section_dict = gg.to_section_dict(sections, 'section_name')\n",
    "section_dict"
   ]
  },
  {
   "cell_type": "markdown",
   "metadata": {},
   "source": [
    "# Create GemPyData Object"
   ]
  },
  {
   "cell_type": "code",
   "execution_count": 42,
   "metadata": {
    "ExecuteTime": {
     "end_time": "2020-06-30T07:41:43.469290Z",
     "start_time": "2020-06-30T07:41:43.465292Z"
    }
   },
   "outputs": [
    {
     "name": "stdout",
     "output_type": "stream",
     "text": [
      "None\n"
     ]
    }
   ],
   "source": [
    "data = gg.GemPyData()\n",
    "print(data.crs)"
   ]
  },
  {
   "cell_type": "code",
   "execution_count": 43,
   "metadata": {
    "ExecuteTime": {
     "end_time": "2020-06-30T07:41:44.206662Z",
     "start_time": "2020-06-30T07:41:44.202663Z"
    }
   },
   "outputs": [
    {
     "data": {
      "text/plain": [
       "'EPSG:4326'"
      ]
     },
     "execution_count": 43,
     "metadata": {},
     "output_type": "execute_result"
    }
   ],
   "source": [
    "data.crs = 'EPSG:4326'\n",
    "data.crs"
   ]
  },
  {
   "cell_type": "code",
   "execution_count": 44,
   "metadata": {
    "ExecuteTime": {
     "end_time": "2020-06-30T07:41:46.701114Z",
     "start_time": "2020-06-30T07:41:46.697112Z"
    }
   },
   "outputs": [
    {
     "name": "stdout",
     "output_type": "stream",
     "text": [
      "EPSG:4326\n"
     ]
    }
   ],
   "source": [
    "data = gg.GemPyData(crs = 'EPSG:4326')\n",
    "print(data.crs)"
   ]
  },
  {
   "cell_type": "code",
   "execution_count": 48,
   "metadata": {
    "ExecuteTime": {
     "end_time": "2020-06-30T07:42:18.947713Z",
     "start_time": "2020-06-30T07:42:18.938715Z"
    }
   },
   "outputs": [
    {
     "data": {
      "text/html": [
       "<div>\n",
       "<style scoped>\n",
       "    .dataframe tbody tr th:only-of-type {\n",
       "        vertical-align: middle;\n",
       "    }\n",
       "\n",
       "    .dataframe tbody tr th {\n",
       "        vertical-align: top;\n",
       "    }\n",
       "\n",
       "    .dataframe thead th {\n",
       "        text-align: right;\n",
       "    }\n",
       "</style>\n",
       "<table border=\"1\" class=\"dataframe\">\n",
       "  <thead>\n",
       "    <tr style=\"text-align: right;\">\n",
       "      <th></th>\n",
       "      <th>X</th>\n",
       "      <th>Y</th>\n",
       "      <th>Z</th>\n",
       "      <th>formation</th>\n",
       "      <th>dip</th>\n",
       "      <th>azimuth</th>\n",
       "    </tr>\n",
       "  </thead>\n",
       "  <tbody>\n",
       "    <tr>\n",
       "      <th>0</th>\n",
       "      <td>19.150128</td>\n",
       "      <td>293.313485</td>\n",
       "      <td>115</td>\n",
       "      <td>Ton</td>\n",
       "      <td>50</td>\n",
       "      <td>100</td>\n",
       "    </tr>\n",
       "    <tr>\n",
       "      <th>1</th>\n",
       "      <td>61.934367</td>\n",
       "      <td>381.459326</td>\n",
       "      <td>254</td>\n",
       "      <td>Ton</td>\n",
       "      <td>50</td>\n",
       "      <td>100</td>\n",
       "    </tr>\n",
       "    <tr>\n",
       "      <th>2</th>\n",
       "      <td>109.357860</td>\n",
       "      <td>480.945568</td>\n",
       "      <td>61</td>\n",
       "      <td>Ton</td>\n",
       "      <td>50</td>\n",
       "      <td>100</td>\n",
       "    </tr>\n",
       "    <tr>\n",
       "      <th>3</th>\n",
       "      <td>157.812299</td>\n",
       "      <td>615.999430</td>\n",
       "      <td>24</td>\n",
       "      <td>Ton</td>\n",
       "      <td>50</td>\n",
       "      <td>100</td>\n",
       "    </tr>\n",
       "    <tr>\n",
       "      <th>4</th>\n",
       "      <td>191.318028</td>\n",
       "      <td>719.093981</td>\n",
       "      <td>0</td>\n",
       "      <td>Ton</td>\n",
       "      <td>50</td>\n",
       "      <td>100</td>\n",
       "    </tr>\n",
       "  </tbody>\n",
       "</table>\n",
       "</div>"
      ],
      "text/plain": [
       "            X           Y    Z formation  dip  azimuth\n",
       "0   19.150128  293.313485  115       Ton   50      100\n",
       "1   61.934367  381.459326  254       Ton   50      100\n",
       "2  109.357860  480.945568   61       Ton   50      100\n",
       "3  157.812299  615.999430   24       Ton   50      100\n",
       "4  191.318028  719.093981    0       Ton   50      100"
      ]
     },
     "execution_count": 48,
     "metadata": {},
     "output_type": "execute_result"
    }
   ],
   "source": [
    "data.interfaces = interfaces\n",
    "data.interfaces.head()"
   ]
  },
  {
   "cell_type": "code",
   "execution_count": 49,
   "metadata": {
    "ExecuteTime": {
     "end_time": "2020-06-30T07:42:31.795097Z",
     "start_time": "2020-06-30T07:42:31.786097Z"
    }
   },
   "outputs": [
    {
     "data": {
      "text/html": [
       "<div>\n",
       "<style scoped>\n",
       "    .dataframe tbody tr th:only-of-type {\n",
       "        vertical-align: middle;\n",
       "    }\n",
       "\n",
       "    .dataframe tbody tr th {\n",
       "        vertical-align: top;\n",
       "    }\n",
       "\n",
       "    .dataframe thead th {\n",
       "        text-align: right;\n",
       "    }\n",
       "</style>\n",
       "<table border=\"1\" class=\"dataframe\">\n",
       "  <thead>\n",
       "    <tr style=\"text-align: right;\">\n",
       "      <th></th>\n",
       "      <th>X</th>\n",
       "      <th>Y</th>\n",
       "      <th>Z</th>\n",
       "      <th>formation</th>\n",
       "      <th>dip</th>\n",
       "      <th>azimuth</th>\n",
       "      <th>polarity</th>\n",
       "    </tr>\n",
       "  </thead>\n",
       "  <tbody>\n",
       "    <tr>\n",
       "      <th>0</th>\n",
       "      <td>19.150128</td>\n",
       "      <td>293.313485</td>\n",
       "      <td>115</td>\n",
       "      <td>Ton</td>\n",
       "      <td>50</td>\n",
       "      <td>100</td>\n",
       "      <td>1</td>\n",
       "    </tr>\n",
       "    <tr>\n",
       "      <th>1</th>\n",
       "      <td>61.934367</td>\n",
       "      <td>381.459326</td>\n",
       "      <td>254</td>\n",
       "      <td>Ton</td>\n",
       "      <td>50</td>\n",
       "      <td>100</td>\n",
       "      <td>1</td>\n",
       "    </tr>\n",
       "    <tr>\n",
       "      <th>2</th>\n",
       "      <td>109.357860</td>\n",
       "      <td>480.945568</td>\n",
       "      <td>61</td>\n",
       "      <td>Ton</td>\n",
       "      <td>50</td>\n",
       "      <td>100</td>\n",
       "      <td>1</td>\n",
       "    </tr>\n",
       "    <tr>\n",
       "      <th>3</th>\n",
       "      <td>157.812299</td>\n",
       "      <td>615.999430</td>\n",
       "      <td>24</td>\n",
       "      <td>Ton</td>\n",
       "      <td>50</td>\n",
       "      <td>100</td>\n",
       "      <td>1</td>\n",
       "    </tr>\n",
       "    <tr>\n",
       "      <th>4</th>\n",
       "      <td>191.318028</td>\n",
       "      <td>719.093981</td>\n",
       "      <td>0</td>\n",
       "      <td>Ton</td>\n",
       "      <td>50</td>\n",
       "      <td>100</td>\n",
       "      <td>1</td>\n",
       "    </tr>\n",
       "  </tbody>\n",
       "</table>\n",
       "</div>"
      ],
      "text/plain": [
       "            X           Y    Z formation  dip  azimuth  polarity\n",
       "0   19.150128  293.313485  115       Ton   50      100         1\n",
       "1   61.934367  381.459326  254       Ton   50      100         1\n",
       "2  109.357860  480.945568   61       Ton   50      100         1\n",
       "3  157.812299  615.999430   24       Ton   50      100         1\n",
       "4  191.318028  719.093981    0       Ton   50      100         1"
      ]
     },
     "execution_count": 49,
     "metadata": {},
     "output_type": "execute_result"
    }
   ],
   "source": [
    "data.orientations = orientations\n",
    "data.orientations.head()"
   ]
  },
  {
   "cell_type": "code",
   "execution_count": 59,
   "metadata": {
    "ExecuteTime": {
     "end_time": "2020-06-30T07:45:30.707161Z",
     "start_time": "2020-06-30T07:45:30.703160Z"
    }
   },
   "outputs": [
    {
     "data": {
      "text/plain": [
       "{'Section1': ([695.4667461080886, 3.2262250771374283],\n",
       "  [[669.2840030245482, 1060.822026058724]],\n",
       "  [100, 80]),\n",
       " 'Section2': ([695.4667461080886, 3.2262250771374283],\n",
       "  [[669.2840030245482, 1060.822026058724]],\n",
       "  [100, 80]),\n",
       " 'Section3': ([695.4667461080886, 3.2262250771374283],\n",
       "  [[669.2840030245482, 1060.822026058724]],\n",
       "  [100, 80])}"
      ]
     },
     "execution_count": 59,
     "metadata": {},
     "output_type": "execute_result"
    }
   ],
   "source": [
    "data.section_dict = section_dict\n",
    "data.section_dict"
   ]
  }
 ],
 "metadata": {
  "hide_input": false,
  "kernelspec": {
   "display_name": "Python 3",
   "language": "python",
   "name": "python3"
  },
  "language_info": {
   "codemirror_mode": {
    "name": "ipython",
    "version": 3
   },
   "file_extension": ".py",
   "mimetype": "text/x-python",
   "name": "python",
   "nbconvert_exporter": "python",
   "pygments_lexer": "ipython3",
   "version": "3.7.7"
  },
  "toc": {
   "base_numbering": 1,
   "nav_menu": {},
   "number_sections": true,
   "sideBar": true,
   "skip_h1_title": false,
   "title_cell": "Table of Contents",
   "title_sidebar": "Contents",
   "toc_cell": false,
   "toc_position": {},
   "toc_section_display": true,
   "toc_window_display": false
  }
 },
 "nbformat": 4,
 "nbformat_minor": 4
}
