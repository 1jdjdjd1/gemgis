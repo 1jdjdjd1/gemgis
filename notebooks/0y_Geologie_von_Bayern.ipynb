{
 "cells": [
  {
   "cell_type": "markdown",
   "metadata": {},
   "source": [
    "# Geological Map of Bavaria\n",
    "\n",
    "Available as wms from the \"Landesamt Geologie\"\n",
    "\n",
    "https://www.lfu.bayern.de/umweltdaten/geodatendienste/index_detail.htm?id=11ffe982-2913-4d67-b688-b1747fb94789&profil=WMS\n",
    "\n"
   ]
  },
  {
   "cell_type": "code",
   "execution_count": 20,
   "metadata": {},
   "outputs": [],
   "source": [
    "# 1:25000 detail maps\n",
    "url = 'https://www.lfu.bayern.de/gdi/wms/geologie/dgk25?'\n",
    "# 1:500,000 overview map\n",
    "url = 'https://www.lfu.bayern.de/gdi/wms/geologie/gk500?'"
   ]
  },
  {
   "cell_type": "code",
   "execution_count": 12,
   "metadata": {},
   "outputs": [
    {
     "name": "stdout",
     "output_type": "stream",
     "text": [
      "<module 'gemgis' from '../../gemgis/gemgis/__init__.py'>\n"
     ]
    }
   ],
   "source": [
    "import sys\n",
    "sys.path.append('../../gemgis/')\n",
    "\n",
    "import gemgis as gg\n",
    "\n",
    "print(gg)"
   ]
  },
  {
   "cell_type": "code",
   "execution_count": 13,
   "metadata": {},
   "outputs": [],
   "source": [
    "wms = gg.data.WMS(url = url)"
   ]
  },
  {
   "cell_type": "code",
   "execution_count": 16,
   "metadata": {},
   "outputs": [
    {
     "data": {
      "text/plain": [
       "['rastergk500', 'haupteinheitgk500', 'strukturgk500', 'liniengk500']"
      ]
     },
     "execution_count": 16,
     "metadata": {},
     "output_type": "execute_result"
    }
   ],
   "source": [
    "wms.contents"
   ]
  },
  {
   "cell_type": "code",
   "execution_count": 17,
   "metadata": {},
   "outputs": [],
   "source": [
    "loc_blaichach = (47.506009, 10.139353)"
   ]
  },
  {
   "cell_type": "code",
   "execution_count": 18,
   "metadata": {},
   "outputs": [
    {
     "data": {
      "application/vnd.jupyter.widget-view+json": {
       "model_id": "54e003d845e34a6893796f39bb247998",
       "version_major": 2,
       "version_minor": 0
      },
      "text/plain": [
       "Map(center=[47.506009, 10.139353], controls=(ZoomControl(options=['position', 'zoom_in_text', 'zoom_in_title',…"
      ]
     },
     "metadata": {},
     "output_type": "display_data"
    }
   ],
   "source": [
    "from ipyleaflet import Map, Marker, WMSLayer\n",
    "\n",
    "# center = (52.204793, 360.121558)\n",
    "\n",
    "# center = (50.802471, 6.053411)\n",
    "\n",
    "m = Map(center=loc_blaichach, zoom=12)\n",
    "\n",
    "marker = Marker(location=loc_blaichach, draggable=True)\n",
    "m.add_layer(marker);\n",
    "\n",
    "display(m)"
   ]
  },
  {
   "cell_type": "code",
   "execution_count": 19,
   "metadata": {},
   "outputs": [
    {
     "data": {
      "application/vnd.jupyter.widget-view+json": {
       "model_id": "54e003d845e34a6893796f39bb247998",
       "version_major": 2,
       "version_minor": 0
      },
      "text/plain": [
       "Map(center=[47.506009, 10.139353], controls=(ZoomControl(options=['position', 'zoom_in_text', 'zoom_in_title',…"
      ]
     },
     "metadata": {},
     "output_type": "display_data"
    }
   ],
   "source": [
    "from ipyleaflet import Map, WMSLayer, basemaps\n",
    "\n",
    "wms = WMSLayer(\n",
    "    url=url,\n",
    "    layers='rastergk500',\n",
    "    format='image/png',\n",
    "    transparent=True,\n",
    "    attribution='Geo Bayern'\n",
    ")\n",
    "\n",
    "m.add_layer(wms)\n",
    "\n",
    "m"
   ]
  },
  {
   "cell_type": "code",
   "execution_count": null,
   "metadata": {},
   "outputs": [],
   "source": []
  }
 ],
 "metadata": {
  "kernelspec": {
   "display_name": "Python [conda env:gempy] *",
   "language": "python",
   "name": "conda-env-gempy-py"
  },
  "language_info": {
   "codemirror_mode": {
    "name": "ipython",
    "version": 3
   },
   "file_extension": ".py",
   "mimetype": "text/x-python",
   "name": "python",
   "nbconvert_exporter": "python",
   "pygments_lexer": "ipython3",
   "version": "3.7.0"
  }
 },
 "nbformat": 4,
 "nbformat_minor": 4
}
