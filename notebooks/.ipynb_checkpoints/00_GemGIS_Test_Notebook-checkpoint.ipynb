{
 "cells": [
  {
   "cell_type": "markdown",
   "metadata": {},
   "source": [
    "# Notebook 1 - Basic Functions of GemGIS\n",
    "\n",
    "<img src=\"../data/Test1/task1.png\" width=\"500\">"
   ]
  },
  {
   "cell_type": "markdown",
   "metadata": {},
   "source": [
    "# Import Libraries"
   ]
  },
  {
   "cell_type": "code",
   "execution_count": 1,
   "metadata": {
    "ExecuteTime": {
     "end_time": "2020-07-01T07:14:42.403862Z",
     "start_time": "2020-07-01T07:14:41.444860Z"
    }
   },
   "outputs": [
    {
     "name": "stdout",
     "output_type": "stream",
     "text": [
      "<module 'gemgis' from '../../gemgis\\\\gemgis.py'>\n"
     ]
    }
   ],
   "source": [
    "import sys\n",
    "sys.path.append('../../gemgis')\n",
    "import geopandas as gpd\n",
    "import rasterio\n",
    "import matplotlib.pyplot as plt\n",
    "import gemgis as gg\n",
    "\n",
    "print(gg)"
   ]
  },
  {
   "cell_type": "markdown",
   "metadata": {},
   "source": [
    "# Read Vector Files - Polygons"
   ]
  },
  {
   "cell_type": "raw",
   "metadata": {
    "ExecuteTime": {
     "end_time": "2020-06-30T11:08:10.386812Z",
     "start_time": "2020-06-30T11:08:10.324813Z"
    }
   },
   "source": [
    "gdf = gpd.read_file('data/vector_data/GeologicalMapAachen.shp')"
   ]
  },
  {
   "cell_type": "raw",
   "metadata": {
    "ExecuteTime": {
     "end_time": "2020-06-30T11:08:10.387813Z",
     "start_time": "2020-06-30T11:08:09.649Z"
    }
   },
   "source": [
    "gdf.crs"
   ]
  },
  {
   "cell_type": "raw",
   "metadata": {
    "ExecuteTime": {
     "end_time": "2020-06-30T11:08:10.388812Z",
     "start_time": "2020-06-30T11:08:09.651Z"
    }
   },
   "source": [
    "gdf.geom_type"
   ]
  },
  {
   "cell_type": "markdown",
   "metadata": {},
   "source": [
    "# Read Vector Files - Points"
   ]
  },
  {
   "cell_type": "code",
   "execution_count": 2,
   "metadata": {
    "ExecuteTime": {
     "end_time": "2020-07-01T07:14:42.435861Z",
     "start_time": "2020-07-01T07:14:42.405862Z"
    }
   },
   "outputs": [],
   "source": [
    "interfaces = gpd.read_file('../../gemgis/data/Test1/interfaces1.shp')"
   ]
  },
  {
   "cell_type": "code",
   "execution_count": 3,
   "metadata": {
    "ExecuteTime": {
     "end_time": "2020-07-01T07:14:42.541861Z",
     "start_time": "2020-07-01T07:14:42.436860Z"
    }
   },
   "outputs": [
    {
     "data": {
      "text/plain": [
       "Text(67.07213566869567, 0.5, 'Y')"
      ]
     },
     "execution_count": 3,
     "metadata": {},
     "output_type": "execute_result"
    },
    {
     "data": {
      "image/png": "[encoded data removed]",
      "text/plain": [
       "<Figure size 432x288 with 1 Axes>"
      ]
     },
     "metadata": {
      "needs_background": "light"
     },
     "output_type": "display_data"
    }
   ],
   "source": [
    "interfaces.plot()\n",
    "plt.grid()\n",
    "plt.xlabel('X')\n",
    "plt.ylabel('Y')"
   ]
  },
  {
   "cell_type": "code",
   "execution_count": 4,
   "metadata": {
    "ExecuteTime": {
     "end_time": "2020-07-01T07:14:42.545861Z",
     "start_time": "2020-07-01T07:14:42.542860Z"
    }
   },
   "outputs": [
    {
     "data": {
      "text/plain": [
       "{'init': 'epsg:4326'}"
      ]
     },
     "execution_count": 4,
     "metadata": {},
     "output_type": "execute_result"
    }
   ],
   "source": [
    "interfaces.crs"
   ]
  },
  {
   "cell_type": "code",
   "execution_count": 5,
   "metadata": {
    "ExecuteTime": {
     "end_time": "2020-07-01T07:14:42.550861Z",
     "start_time": "2020-07-01T07:14:42.546861Z"
    }
   },
   "outputs": [
    {
     "data": {
      "text/plain": [
       "0    Point\n",
       "1    Point\n",
       "2    Point\n",
       "3    Point\n",
       "4    Point\n",
       "dtype: object"
      ]
     },
     "execution_count": 5,
     "metadata": {},
     "output_type": "execute_result"
    }
   ],
   "source": [
    "interfaces.geom_type.head()"
   ]
  },
  {
   "cell_type": "code",
   "execution_count": 6,
   "metadata": {
    "ExecuteTime": {
     "end_time": "2020-07-01T07:14:42.560860Z",
     "start_time": "2020-07-01T07:14:42.552860Z"
    },
    "scrolled": true
   },
   "outputs": [
    {
     "data": {
      "text/html": [
       "<div>\n",
       "<style scoped>\n",
       "    .dataframe tbody tr th:only-of-type {\n",
       "        vertical-align: middle;\n",
       "    }\n",
       "\n",
       "    .dataframe tbody tr th {\n",
       "        vertical-align: top;\n",
       "    }\n",
       "\n",
       "    .dataframe thead th {\n",
       "        text-align: right;\n",
       "    }\n",
       "</style>\n",
       "<table border=\"1\" class=\"dataframe\">\n",
       "  <thead>\n",
       "    <tr style=\"text-align: right;\">\n",
       "      <th></th>\n",
       "      <th>id</th>\n",
       "      <th>formation</th>\n",
       "      <th>geometry</th>\n",
       "    </tr>\n",
       "  </thead>\n",
       "  <tbody>\n",
       "    <tr>\n",
       "      <th>0</th>\n",
       "      <td>None</td>\n",
       "      <td>Ton</td>\n",
       "      <td>POINT (19.150 293.313)</td>\n",
       "    </tr>\n",
       "    <tr>\n",
       "      <th>1</th>\n",
       "      <td>None</td>\n",
       "      <td>Ton</td>\n",
       "      <td>POINT (61.934 381.459)</td>\n",
       "    </tr>\n",
       "    <tr>\n",
       "      <th>2</th>\n",
       "      <td>None</td>\n",
       "      <td>Ton</td>\n",
       "      <td>POINT (109.358 480.946)</td>\n",
       "    </tr>\n",
       "    <tr>\n",
       "      <th>3</th>\n",
       "      <td>None</td>\n",
       "      <td>Ton</td>\n",
       "      <td>POINT (157.812 615.999)</td>\n",
       "    </tr>\n",
       "    <tr>\n",
       "      <th>4</th>\n",
       "      <td>None</td>\n",
       "      <td>Ton</td>\n",
       "      <td>POINT (191.318 719.094)</td>\n",
       "    </tr>\n",
       "  </tbody>\n",
       "</table>\n",
       "</div>"
      ],
      "text/plain": [
       "     id formation                 geometry\n",
       "0  None       Ton   POINT (19.150 293.313)\n",
       "1  None       Ton   POINT (61.934 381.459)\n",
       "2  None       Ton  POINT (109.358 480.946)\n",
       "3  None       Ton  POINT (157.812 615.999)\n",
       "4  None       Ton  POINT (191.318 719.094)"
      ]
     },
     "execution_count": 6,
     "metadata": {},
     "output_type": "execute_result"
    }
   ],
   "source": [
    "interfaces.head()"
   ]
  },
  {
   "cell_type": "markdown",
   "metadata": {},
   "source": [
    "## Extract X,Y coordinates"
   ]
  },
  {
   "cell_type": "code",
   "execution_count": 7,
   "metadata": {
    "ExecuteTime": {
     "end_time": "2020-07-01T07:14:42.571861Z",
     "start_time": "2020-07-01T07:14:42.561860Z"
    }
   },
   "outputs": [
    {
     "data": {
      "text/html": [
       "<div>\n",
       "<style scoped>\n",
       "    .dataframe tbody tr th:only-of-type {\n",
       "        vertical-align: middle;\n",
       "    }\n",
       "\n",
       "    .dataframe tbody tr th {\n",
       "        vertical-align: top;\n",
       "    }\n",
       "\n",
       "    .dataframe thead th {\n",
       "        text-align: right;\n",
       "    }\n",
       "</style>\n",
       "<table border=\"1\" class=\"dataframe\">\n",
       "  <thead>\n",
       "    <tr style=\"text-align: right;\">\n",
       "      <th></th>\n",
       "      <th>id</th>\n",
       "      <th>formation</th>\n",
       "      <th>geometry</th>\n",
       "      <th>X</th>\n",
       "      <th>Y</th>\n",
       "    </tr>\n",
       "  </thead>\n",
       "  <tbody>\n",
       "    <tr>\n",
       "      <th>0</th>\n",
       "      <td>None</td>\n",
       "      <td>Ton</td>\n",
       "      <td>POINT (19.150 293.313)</td>\n",
       "      <td>19.150128</td>\n",
       "      <td>293.313485</td>\n",
       "    </tr>\n",
       "    <tr>\n",
       "      <th>1</th>\n",
       "      <td>None</td>\n",
       "      <td>Ton</td>\n",
       "      <td>POINT (61.934 381.459)</td>\n",
       "      <td>61.934367</td>\n",
       "      <td>381.459326</td>\n",
       "    </tr>\n",
       "    <tr>\n",
       "      <th>2</th>\n",
       "      <td>None</td>\n",
       "      <td>Ton</td>\n",
       "      <td>POINT (109.358 480.946)</td>\n",
       "      <td>109.357860</td>\n",
       "      <td>480.945568</td>\n",
       "    </tr>\n",
       "    <tr>\n",
       "      <th>3</th>\n",
       "      <td>None</td>\n",
       "      <td>Ton</td>\n",
       "      <td>POINT (157.812 615.999)</td>\n",
       "      <td>157.812299</td>\n",
       "      <td>615.999430</td>\n",
       "    </tr>\n",
       "    <tr>\n",
       "      <th>4</th>\n",
       "      <td>None</td>\n",
       "      <td>Ton</td>\n",
       "      <td>POINT (191.318 719.094)</td>\n",
       "      <td>191.318028</td>\n",
       "      <td>719.093981</td>\n",
       "    </tr>\n",
       "  </tbody>\n",
       "</table>\n",
       "</div>"
      ],
      "text/plain": [
       "     id formation                 geometry           X           Y\n",
       "0  None       Ton   POINT (19.150 293.313)   19.150128  293.313485\n",
       "1  None       Ton   POINT (61.934 381.459)   61.934367  381.459326\n",
       "2  None       Ton  POINT (109.358 480.946)  109.357860  480.945568\n",
       "3  None       Ton  POINT (157.812 615.999)  157.812299  615.999430\n",
       "4  None       Ton  POINT (191.318 719.094)  191.318028  719.093981"
      ]
     },
     "execution_count": 7,
     "metadata": {},
     "output_type": "execute_result"
    }
   ],
   "source": [
    "interfaces = gg.extract_xy_values(interfaces)\n",
    "interfaces.head()"
   ]
  },
  {
   "cell_type": "markdown",
   "metadata": {},
   "source": [
    "# Load Vector Data - LineString"
   ]
  },
  {
   "cell_type": "code",
   "execution_count": 8,
   "metadata": {
    "ExecuteTime": {
     "end_time": "2020-07-01T07:14:42.580860Z",
     "start_time": "2020-07-01T07:14:42.572860Z"
    }
   },
   "outputs": [],
   "source": [
    "topo = gpd.read_file('../../gemgis/data/Test1/topo1.shp')"
   ]
  },
  {
   "cell_type": "code",
   "execution_count": 9,
   "metadata": {
    "ExecuteTime": {
     "end_time": "2020-07-01T07:14:42.679860Z",
     "start_time": "2020-07-01T07:14:42.581861Z"
    }
   },
   "outputs": [
    {
     "data": {
      "text/plain": [
       "Text(86.43459798221053, 0.5, 'Y')"
      ]
     },
     "execution_count": 9,
     "metadata": {},
     "output_type": "execute_result"
    },
    {
     "data": {
      "image/png": "[encoded data removed]",
      "text/plain": [
       "<Figure size 432x288 with 1 Axes>"
      ]
     },
     "metadata": {
      "needs_background": "light"
     },
     "output_type": "display_data"
    }
   ],
   "source": [
    "topo.plot()\n",
    "plt.grid()\n",
    "plt.xlabel('X')\n",
    "plt.ylabel('Y')"
   ]
  },
  {
   "cell_type": "code",
   "execution_count": 10,
   "metadata": {
    "ExecuteTime": {
     "end_time": "2020-07-01T07:14:42.683861Z",
     "start_time": "2020-07-01T07:14:42.680860Z"
    }
   },
   "outputs": [
    {
     "data": {
      "text/plain": [
       "{'init': 'epsg:4326'}"
      ]
     },
     "execution_count": 10,
     "metadata": {},
     "output_type": "execute_result"
    }
   ],
   "source": [
    "topo.crs"
   ]
  },
  {
   "cell_type": "code",
   "execution_count": 11,
   "metadata": {
    "ExecuteTime": {
     "end_time": "2020-07-01T07:14:42.688861Z",
     "start_time": "2020-07-01T07:14:42.684861Z"
    }
   },
   "outputs": [
    {
     "data": {
      "text/plain": [
       "0    LineString\n",
       "1    LineString\n",
       "2    LineString\n",
       "3    LineString\n",
       "4    LineString\n",
       "dtype: object"
      ]
     },
     "execution_count": 11,
     "metadata": {},
     "output_type": "execute_result"
    }
   ],
   "source": [
    "topo.geom_type.head()"
   ]
  },
  {
   "cell_type": "code",
   "execution_count": 12,
   "metadata": {
    "ExecuteTime": {
     "end_time": "2020-07-01T07:14:42.697861Z",
     "start_time": "2020-07-01T07:14:42.689861Z"
    }
   },
   "outputs": [
    {
     "data": {
      "text/html": [
       "<div>\n",
       "<style scoped>\n",
       "    .dataframe tbody tr th:only-of-type {\n",
       "        vertical-align: middle;\n",
       "    }\n",
       "\n",
       "    .dataframe tbody tr th {\n",
       "        vertical-align: top;\n",
       "    }\n",
       "\n",
       "    .dataframe thead th {\n",
       "        text-align: right;\n",
       "    }\n",
       "</style>\n",
       "<table border=\"1\" class=\"dataframe\">\n",
       "  <thead>\n",
       "    <tr style=\"text-align: right;\">\n",
       "      <th></th>\n",
       "      <th>id</th>\n",
       "      <th>Z</th>\n",
       "      <th>geometry</th>\n",
       "    </tr>\n",
       "  </thead>\n",
       "  <tbody>\n",
       "    <tr>\n",
       "      <th>0</th>\n",
       "      <td>None</td>\n",
       "      <td>400</td>\n",
       "      <td>LINESTRING (0.741 475.441, 35.629 429.247, 77....</td>\n",
       "    </tr>\n",
       "    <tr>\n",
       "      <th>1</th>\n",
       "      <td>None</td>\n",
       "      <td>300</td>\n",
       "      <td>LINESTRING (645.965 0.525, 685.141 61.866, 724...</td>\n",
       "    </tr>\n",
       "    <tr>\n",
       "      <th>2</th>\n",
       "      <td>None</td>\n",
       "      <td>400</td>\n",
       "      <td>LINESTRING (490.292 0.525, 505.756 40.732, 519...</td>\n",
       "    </tr>\n",
       "    <tr>\n",
       "      <th>3</th>\n",
       "      <td>None</td>\n",
       "      <td>600</td>\n",
       "      <td>LINESTRING (911.433 1068.585, 908.856 1026.831...</td>\n",
       "    </tr>\n",
       "    <tr>\n",
       "      <th>4</th>\n",
       "      <td>None</td>\n",
       "      <td>700</td>\n",
       "      <td>LINESTRING (228.432 1068.585, 239.772 1017.037...</td>\n",
       "    </tr>\n",
       "  </tbody>\n",
       "</table>\n",
       "</div>"
      ],
      "text/plain": [
       "     id    Z                                           geometry\n",
       "0  None  400  LINESTRING (0.741 475.441, 35.629 429.247, 77....\n",
       "1  None  300  LINESTRING (645.965 0.525, 685.141 61.866, 724...\n",
       "2  None  400  LINESTRING (490.292 0.525, 505.756 40.732, 519...\n",
       "3  None  600  LINESTRING (911.433 1068.585, 908.856 1026.831...\n",
       "4  None  700  LINESTRING (228.432 1068.585, 239.772 1017.037..."
      ]
     },
     "execution_count": 12,
     "metadata": {},
     "output_type": "execute_result"
    }
   ],
   "source": [
    "topo.head()"
   ]
  },
  {
   "cell_type": "markdown",
   "metadata": {},
   "source": [
    "## Extract X,Y coordinates"
   ]
  },
  {
   "cell_type": "code",
   "execution_count": 13,
   "metadata": {
    "ExecuteTime": {
     "end_time": "2020-07-01T07:14:42.715861Z",
     "start_time": "2020-07-01T07:14:42.698861Z"
    }
   },
   "outputs": [
    {
     "data": {
      "text/html": [
       "<div>\n",
       "<style scoped>\n",
       "    .dataframe tbody tr th:only-of-type {\n",
       "        vertical-align: middle;\n",
       "    }\n",
       "\n",
       "    .dataframe tbody tr th {\n",
       "        vertical-align: top;\n",
       "    }\n",
       "\n",
       "    .dataframe thead th {\n",
       "        text-align: right;\n",
       "    }\n",
       "</style>\n",
       "<table border=\"1\" class=\"dataframe\">\n",
       "  <thead>\n",
       "    <tr style=\"text-align: right;\">\n",
       "      <th></th>\n",
       "      <th>id</th>\n",
       "      <th>Z</th>\n",
       "      <th>geometry</th>\n",
       "      <th>points</th>\n",
       "      <th>X</th>\n",
       "      <th>Y</th>\n",
       "    </tr>\n",
       "  </thead>\n",
       "  <tbody>\n",
       "    <tr>\n",
       "      <th>0</th>\n",
       "      <td>None</td>\n",
       "      <td>400</td>\n",
       "      <td>LINESTRING (0.741 475.441, 35.629 429.247, 77....</td>\n",
       "      <td>(0.7408806771479846, 475.44101474698454)</td>\n",
       "      <td>0.740881</td>\n",
       "      <td>475.441015</td>\n",
       "    </tr>\n",
       "    <tr>\n",
       "      <th>0</th>\n",
       "      <td>None</td>\n",
       "      <td>400</td>\n",
       "      <td>LINESTRING (0.741 475.441, 35.629 429.247, 77....</td>\n",
       "      <td>(35.62873136073459, 429.2469161566801)</td>\n",
       "      <td>35.628731</td>\n",
       "      <td>429.246916</td>\n",
       "    </tr>\n",
       "    <tr>\n",
       "      <th>0</th>\n",
       "      <td>None</td>\n",
       "      <td>400</td>\n",
       "      <td>LINESTRING (0.741 475.441, 35.629 429.247, 77....</td>\n",
       "      <td>(77.30033078835194, 340.0890755208477)</td>\n",
       "      <td>77.300331</td>\n",
       "      <td>340.089076</td>\n",
       "    </tr>\n",
       "    <tr>\n",
       "      <th>0</th>\n",
       "      <td>None</td>\n",
       "      <td>400</td>\n",
       "      <td>LINESTRING (0.741 475.441, 35.629 429.247, 77....</td>\n",
       "      <td>(104.75836141895252, 269.34426719024157)</td>\n",
       "      <td>104.758361</td>\n",
       "      <td>269.344267</td>\n",
       "    </tr>\n",
       "    <tr>\n",
       "      <th>0</th>\n",
       "      <td>None</td>\n",
       "      <td>400</td>\n",
       "      <td>LINESTRING (0.741 475.441, 35.629 429.247, 77....</td>\n",
       "      <td>(127.04782157791061, 207.64445718500974)</td>\n",
       "      <td>127.047822</td>\n",
       "      <td>207.644457</td>\n",
       "    </tr>\n",
       "  </tbody>\n",
       "</table>\n",
       "</div>"
      ],
      "text/plain": [
       "     id    Z                                           geometry  \\\n",
       "0  None  400  LINESTRING (0.741 475.441, 35.629 429.247, 77....   \n",
       "0  None  400  LINESTRING (0.741 475.441, 35.629 429.247, 77....   \n",
       "0  None  400  LINESTRING (0.741 475.441, 35.629 429.247, 77....   \n",
       "0  None  400  LINESTRING (0.741 475.441, 35.629 429.247, 77....   \n",
       "0  None  400  LINESTRING (0.741 475.441, 35.629 429.247, 77....   \n",
       "\n",
       "                                     points           X           Y  \n",
       "0  (0.7408806771479846, 475.44101474698454)    0.740881  475.441015  \n",
       "0    (35.62873136073459, 429.2469161566801)   35.628731  429.246916  \n",
       "0    (77.30033078835194, 340.0890755208477)   77.300331  340.089076  \n",
       "0  (104.75836141895252, 269.34426719024157)  104.758361  269.344267  \n",
       "0  (127.04782157791061, 207.64445718500974)  127.047822  207.644457  "
      ]
     },
     "execution_count": 13,
     "metadata": {},
     "output_type": "execute_result"
    }
   ],
   "source": [
    "topo = gg.extract_xy_values(topo)\n",
    "topo.head()"
   ]
  },
  {
   "cell_type": "markdown",
   "metadata": {},
   "source": [
    "# Read Digital Elevation Model"
   ]
  },
  {
   "cell_type": "code",
   "execution_count": 14,
   "metadata": {
    "ExecuteTime": {
     "end_time": "2020-07-01T07:14:42.730861Z",
     "start_time": "2020-07-01T07:14:42.715861Z"
    }
   },
   "outputs": [
    {
     "data": {
      "text/plain": [
       "<open DatasetReader name='../../gemgis/data/Test1/raster1.tif' mode='r'>"
      ]
     },
     "execution_count": 14,
     "metadata": {},
     "output_type": "execute_result"
    }
   ],
   "source": [
    "dem = rasterio.open('../../gemgis/data/Test1/raster1.tif')\n",
    "dem"
   ]
  },
  {
   "cell_type": "code",
   "execution_count": 15,
   "metadata": {
    "ExecuteTime": {
     "end_time": "2020-07-01T07:14:42.883861Z",
     "start_time": "2020-07-01T07:14:42.731861Z"
    }
   },
   "outputs": [
    {
     "data": {
      "image/png": "[encoded data removed]",
      "text/plain": [
       "<Figure size 432x288 with 2 Axes>"
      ]
     },
     "metadata": {
      "needs_background": "light"
     },
     "output_type": "display_data"
    }
   ],
   "source": [
    "plt.imshow(dem.read(1))\n",
    "plt.grid()\n",
    "plt.xlabel('X')\n",
    "plt.ylabel('Y')\n",
    "cbar = plt.colorbar()\n",
    "cbar.set_label('m')"
   ]
  },
  {
   "cell_type": "code",
   "execution_count": 16,
   "metadata": {
    "ExecuteTime": {
     "end_time": "2020-07-01T07:14:42.888861Z",
     "start_time": "2020-07-01T07:14:42.884861Z"
    }
   },
   "outputs": [
    {
     "data": {
      "text/plain": [
       "CRS.from_dict(init='epsg:4326')"
      ]
     },
     "execution_count": 16,
     "metadata": {},
     "output_type": "execute_result"
    }
   ],
   "source": [
    "dem.crs"
   ]
  },
  {
   "cell_type": "code",
   "execution_count": 17,
   "metadata": {
    "ExecuteTime": {
     "end_time": "2020-07-01T07:14:42.895862Z",
     "start_time": "2020-07-01T07:14:42.889861Z"
    }
   },
   "outputs": [],
   "source": [
    "interfaces = gpd.read_file('../../gemgis/data/Test1/interfaces1.shp')"
   ]
  },
  {
   "cell_type": "code",
   "execution_count": 18,
   "metadata": {
    "ExecuteTime": {
     "end_time": "2020-07-01T07:14:42.913861Z",
     "start_time": "2020-07-01T07:14:42.898861Z"
    }
   },
   "outputs": [
    {
     "data": {
      "text/html": [
       "<div>\n",
       "<style scoped>\n",
       "    .dataframe tbody tr th:only-of-type {\n",
       "        vertical-align: middle;\n",
       "    }\n",
       "\n",
       "    .dataframe tbody tr th {\n",
       "        vertical-align: top;\n",
       "    }\n",
       "\n",
       "    .dataframe thead th {\n",
       "        text-align: right;\n",
       "    }\n",
       "</style>\n",
       "<table border=\"1\" class=\"dataframe\">\n",
       "  <thead>\n",
       "    <tr style=\"text-align: right;\">\n",
       "      <th></th>\n",
       "      <th>id</th>\n",
       "      <th>formation</th>\n",
       "      <th>geometry</th>\n",
       "      <th>X</th>\n",
       "      <th>Y</th>\n",
       "      <th>Z</th>\n",
       "    </tr>\n",
       "  </thead>\n",
       "  <tbody>\n",
       "    <tr>\n",
       "      <th>0</th>\n",
       "      <td>None</td>\n",
       "      <td>Ton</td>\n",
       "      <td>POINT (19.150 293.313)</td>\n",
       "      <td>19.150128</td>\n",
       "      <td>293.313485</td>\n",
       "      <td>364.994873</td>\n",
       "    </tr>\n",
       "    <tr>\n",
       "      <th>1</th>\n",
       "      <td>None</td>\n",
       "      <td>Ton</td>\n",
       "      <td>POINT (61.934 381.459)</td>\n",
       "      <td>61.934367</td>\n",
       "      <td>381.459326</td>\n",
       "      <td>400.343597</td>\n",
       "    </tr>\n",
       "    <tr>\n",
       "      <th>2</th>\n",
       "      <td>None</td>\n",
       "      <td>Ton</td>\n",
       "      <td>POINT (109.358 480.946)</td>\n",
       "      <td>109.357860</td>\n",
       "      <td>480.945568</td>\n",
       "      <td>459.549316</td>\n",
       "    </tr>\n",
       "    <tr>\n",
       "      <th>3</th>\n",
       "      <td>None</td>\n",
       "      <td>Ton</td>\n",
       "      <td>POINT (157.812 615.999)</td>\n",
       "      <td>157.812299</td>\n",
       "      <td>615.999430</td>\n",
       "      <td>525.691040</td>\n",
       "    </tr>\n",
       "    <tr>\n",
       "      <th>4</th>\n",
       "      <td>None</td>\n",
       "      <td>Ton</td>\n",
       "      <td>POINT (191.318 719.094)</td>\n",
       "      <td>191.318028</td>\n",
       "      <td>719.093981</td>\n",
       "      <td>597.632507</td>\n",
       "    </tr>\n",
       "  </tbody>\n",
       "</table>\n",
       "</div>"
      ],
      "text/plain": [
       "     id formation                 geometry           X           Y           Z\n",
       "0  None       Ton   POINT (19.150 293.313)   19.150128  293.313485  364.994873\n",
       "1  None       Ton   POINT (61.934 381.459)   61.934367  381.459326  400.343597\n",
       "2  None       Ton  POINT (109.358 480.946)  109.357860  480.945568  459.549316\n",
       "3  None       Ton  POINT (157.812 615.999)  157.812299  615.999430  525.691040\n",
       "4  None       Ton  POINT (191.318 719.094)  191.318028  719.093981  597.632507"
      ]
     },
     "execution_count": 18,
     "metadata": {},
     "output_type": "execute_result"
    }
   ],
   "source": [
    "interfaces = gg.extract_z_values(interfaces, dem)\n",
    "interfaces.head()"
   ]
  },
  {
   "cell_type": "code",
   "execution_count": 19,
   "metadata": {
    "ExecuteTime": {
     "end_time": "2020-07-01T07:14:43.015861Z",
     "start_time": "2020-07-01T07:14:42.914861Z"
    }
   },
   "outputs": [
    {
     "data": {
      "text/plain": [
       "Text(67.07213566869567, 0.5, 'Y')"
      ]
     },
     "execution_count": 19,
     "metadata": {},
     "output_type": "execute_result"
    },
    {
     "data": {
      "image/png": "[encoded data removed]",
      "text/plain": [
       "<Figure size 432x288 with 1 Axes>"
      ]
     },
     "metadata": {
      "needs_background": "light"
     },
     "output_type": "display_data"
    }
   ],
   "source": [
    "interfaces = gpd.read_file('../../gemgis/data/Test1/interfaces1.shp')\n",
    "interfaces.plot()\n",
    "plt.grid()\n",
    "plt.xlabel('X')\n",
    "plt.ylabel('Y')"
   ]
  },
  {
   "cell_type": "code",
   "execution_count": 20,
   "metadata": {
    "ExecuteTime": {
     "end_time": "2020-07-01T07:14:43.031861Z",
     "start_time": "2020-07-01T07:14:43.016861Z"
    }
   },
   "outputs": [
    {
     "data": {
      "text/html": [
       "<div>\n",
       "<style scoped>\n",
       "    .dataframe tbody tr th:only-of-type {\n",
       "        vertical-align: middle;\n",
       "    }\n",
       "\n",
       "    .dataframe tbody tr th {\n",
       "        vertical-align: top;\n",
       "    }\n",
       "\n",
       "    .dataframe thead th {\n",
       "        text-align: right;\n",
       "    }\n",
       "</style>\n",
       "<table border=\"1\" class=\"dataframe\">\n",
       "  <thead>\n",
       "    <tr style=\"text-align: right;\">\n",
       "      <th></th>\n",
       "      <th>id</th>\n",
       "      <th>formation</th>\n",
       "      <th>geometry</th>\n",
       "      <th>X</th>\n",
       "      <th>Y</th>\n",
       "      <th>Z</th>\n",
       "    </tr>\n",
       "  </thead>\n",
       "  <tbody>\n",
       "    <tr>\n",
       "      <th>0</th>\n",
       "      <td>None</td>\n",
       "      <td>Ton</td>\n",
       "      <td>POINT (19.150 293.313)</td>\n",
       "      <td>19.150128</td>\n",
       "      <td>293.313485</td>\n",
       "      <td>364.994873</td>\n",
       "    </tr>\n",
       "    <tr>\n",
       "      <th>1</th>\n",
       "      <td>None</td>\n",
       "      <td>Ton</td>\n",
       "      <td>POINT (61.934 381.459)</td>\n",
       "      <td>61.934367</td>\n",
       "      <td>381.459326</td>\n",
       "      <td>400.343597</td>\n",
       "    </tr>\n",
       "    <tr>\n",
       "      <th>2</th>\n",
       "      <td>None</td>\n",
       "      <td>Ton</td>\n",
       "      <td>POINT (109.358 480.946)</td>\n",
       "      <td>109.357860</td>\n",
       "      <td>480.945568</td>\n",
       "      <td>459.549316</td>\n",
       "    </tr>\n",
       "    <tr>\n",
       "      <th>3</th>\n",
       "      <td>None</td>\n",
       "      <td>Ton</td>\n",
       "      <td>POINT (157.812 615.999)</td>\n",
       "      <td>157.812299</td>\n",
       "      <td>615.999430</td>\n",
       "      <td>525.691040</td>\n",
       "    </tr>\n",
       "    <tr>\n",
       "      <th>4</th>\n",
       "      <td>None</td>\n",
       "      <td>Ton</td>\n",
       "      <td>POINT (191.318 719.094)</td>\n",
       "      <td>191.318028</td>\n",
       "      <td>719.093981</td>\n",
       "      <td>597.632507</td>\n",
       "    </tr>\n",
       "  </tbody>\n",
       "</table>\n",
       "</div>"
      ],
      "text/plain": [
       "     id formation                 geometry           X           Y           Z\n",
       "0  None       Ton   POINT (19.150 293.313)   19.150128  293.313485  364.994873\n",
       "1  None       Ton   POINT (61.934 381.459)   61.934367  381.459326  400.343597\n",
       "2  None       Ton  POINT (109.358 480.946)  109.357860  480.945568  459.549316\n",
       "3  None       Ton  POINT (157.812 615.999)  157.812299  615.999430  525.691040\n",
       "4  None       Ton  POINT (191.318 719.094)  191.318028  719.093981  597.632507"
      ]
     },
     "execution_count": 20,
     "metadata": {},
     "output_type": "execute_result"
    }
   ],
   "source": [
    "interfaces = gg.extract_coordinates(interfaces, dem)\n",
    "interfaces.head()"
   ]
  },
  {
   "cell_type": "code",
   "execution_count": 21,
   "metadata": {
    "ExecuteTime": {
     "end_time": "2020-07-01T07:14:43.037861Z",
     "start_time": "2020-07-01T07:14:43.032861Z"
    }
   },
   "outputs": [
    {
     "data": {
      "text/plain": [
       "<open DatasetReader name='../../gemgis/data/Test1/raster1.tif' mode='r'>"
      ]
     },
     "execution_count": 21,
     "metadata": {},
     "output_type": "execute_result"
    }
   ],
   "source": [
    "dem = rasterio.open('../../gemgis/data/Test1/raster1.tif')\n",
    "dem"
   ]
  },
  {
   "cell_type": "code",
   "execution_count": 22,
   "metadata": {
    "ExecuteTime": {
     "end_time": "2020-07-01T07:14:43.181862Z",
     "start_time": "2020-07-01T07:14:43.038861Z"
    }
   },
   "outputs": [
    {
     "data": {
      "image/png": "[encoded data removed]",
      "text/plain": [
       "<Figure size 432x288 with 2 Axes>"
      ]
     },
     "metadata": {
      "needs_background": "light"
     },
     "output_type": "display_data"
    }
   ],
   "source": [
    "plt.imshow(dem.read(1))\n",
    "plt.grid()\n",
    "plt.xlabel('X')\n",
    "plt.ylabel('Y')\n",
    "cbar = plt.colorbar()\n",
    "cbar.set_label('m')"
   ]
  },
  {
   "cell_type": "code",
   "execution_count": 23,
   "metadata": {
    "ExecuteTime": {
     "end_time": "2020-07-01T07:14:43.187862Z",
     "start_time": "2020-07-01T07:14:43.182862Z"
    }
   },
   "outputs": [
    {
     "data": {
      "text/plain": [
       "CRS.from_dict(init='epsg:4326')"
      ]
     },
     "execution_count": 23,
     "metadata": {},
     "output_type": "execute_result"
    }
   ],
   "source": [
    "dem.crs"
   ]
  },
  {
   "cell_type": "code",
   "execution_count": 24,
   "metadata": {
    "ExecuteTime": {
     "end_time": "2020-07-01T07:14:43.200861Z",
     "start_time": "2020-07-01T07:14:43.188863Z"
    }
   },
   "outputs": [
    {
     "data": {
      "text/html": [
       "<div>\n",
       "<style scoped>\n",
       "    .dataframe tbody tr th:only-of-type {\n",
       "        vertical-align: middle;\n",
       "    }\n",
       "\n",
       "    .dataframe tbody tr th {\n",
       "        vertical-align: top;\n",
       "    }\n",
       "\n",
       "    .dataframe thead th {\n",
       "        text-align: right;\n",
       "    }\n",
       "</style>\n",
       "<table border=\"1\" class=\"dataframe\">\n",
       "  <thead>\n",
       "    <tr style=\"text-align: right;\">\n",
       "      <th></th>\n",
       "      <th>id</th>\n",
       "      <th>geometry</th>\n",
       "    </tr>\n",
       "  </thead>\n",
       "  <tbody>\n",
       "    <tr>\n",
       "      <th>0</th>\n",
       "      <td>None</td>\n",
       "      <td>LINESTRING (0.741 475.441, 35.629 429.247, 77....</td>\n",
       "    </tr>\n",
       "    <tr>\n",
       "      <th>1</th>\n",
       "      <td>None</td>\n",
       "      <td>LINESTRING (645.965 0.525, 685.141 61.866, 724...</td>\n",
       "    </tr>\n",
       "    <tr>\n",
       "      <th>2</th>\n",
       "      <td>None</td>\n",
       "      <td>LINESTRING (490.292 0.525, 505.756 40.732, 519...</td>\n",
       "    </tr>\n",
       "    <tr>\n",
       "      <th>3</th>\n",
       "      <td>None</td>\n",
       "      <td>LINESTRING (911.433 1068.585, 908.856 1026.831...</td>\n",
       "    </tr>\n",
       "    <tr>\n",
       "      <th>4</th>\n",
       "      <td>None</td>\n",
       "      <td>LINESTRING (228.432 1068.585, 239.772 1017.037...</td>\n",
       "    </tr>\n",
       "  </tbody>\n",
       "</table>\n",
       "</div>"
      ],
      "text/plain": [
       "     id                                           geometry\n",
       "0  None  LINESTRING (0.741 475.441, 35.629 429.247, 77....\n",
       "1  None  LINESTRING (645.965 0.525, 685.141 61.866, 724...\n",
       "2  None  LINESTRING (490.292 0.525, 505.756 40.732, 519...\n",
       "3  None  LINESTRING (911.433 1068.585, 908.856 1026.831...\n",
       "4  None  LINESTRING (228.432 1068.585, 239.772 1017.037..."
      ]
     },
     "execution_count": 24,
     "metadata": {},
     "output_type": "execute_result"
    }
   ],
   "source": [
    "topo = gpd.read_file('../../gemgis/data/Test1/topo1.shp')\n",
    "del topo['Z']\n",
    "topo.head()"
   ]
  },
  {
   "cell_type": "code",
   "execution_count": 25,
   "metadata": {
    "ExecuteTime": {
     "end_time": "2020-07-01T07:14:43.307861Z",
     "start_time": "2020-07-01T07:14:43.201861Z"
    }
   },
   "outputs": [
    {
     "data": {
      "text/plain": [
       "Text(86.43459798221053, 0.5, 'Y')"
      ]
     },
     "execution_count": 25,
     "metadata": {},
     "output_type": "execute_result"
    },
    {
     "data": {
      "image/png": "[encoded data removed]",
      "text/plain": [
       "<Figure size 432x288 with 1 Axes>"
      ]
     },
     "metadata": {
      "needs_background": "light"
     },
     "output_type": "display_data"
    }
   ],
   "source": [
    "topo.plot()\n",
    "plt.grid()\n",
    "plt.xlabel('X')\n",
    "plt.ylabel('Y')"
   ]
  },
  {
   "cell_type": "code",
   "execution_count": 26,
   "metadata": {
    "ExecuteTime": {
     "end_time": "2020-07-01T07:14:43.311862Z",
     "start_time": "2020-07-01T07:14:43.308861Z"
    }
   },
   "outputs": [
    {
     "data": {
      "text/plain": [
       "{'init': 'epsg:4326'}"
      ]
     },
     "execution_count": 26,
     "metadata": {},
     "output_type": "execute_result"
    }
   ],
   "source": [
    "topo.crs"
   ]
  },
  {
   "cell_type": "code",
   "execution_count": 27,
   "metadata": {
    "ExecuteTime": {
     "end_time": "2020-07-01T07:14:43.317861Z",
     "start_time": "2020-07-01T07:14:43.312861Z"
    }
   },
   "outputs": [
    {
     "data": {
      "text/plain": [
       "CRS.from_dict(init='epsg:4326')"
      ]
     },
     "execution_count": 27,
     "metadata": {},
     "output_type": "execute_result"
    }
   ],
   "source": [
    "dem.crs"
   ]
  },
  {
   "cell_type": "code",
   "execution_count": 28,
   "metadata": {
    "ExecuteTime": {
     "end_time": "2020-07-01T07:14:43.322861Z",
     "start_time": "2020-07-01T07:14:43.318861Z"
    }
   },
   "outputs": [
    {
     "data": {
      "text/plain": [
       "True"
      ]
     },
     "execution_count": 28,
     "metadata": {},
     "output_type": "execute_result"
    }
   ],
   "source": [
    "topo.crs == dem.crs"
   ]
  },
  {
   "cell_type": "code",
   "execution_count": 29,
   "metadata": {
    "ExecuteTime": {
     "end_time": "2020-07-01T07:14:43.394861Z",
     "start_time": "2020-07-01T07:14:43.323861Z"
    }
   },
   "outputs": [
    {
     "ename": "CRSError",
     "evalue": "CRS is invalid: None",
     "output_type": "error",
     "traceback": [
      "\u001b[1;31m---------------------------------------------------------------------------\u001b[0m",
      "\u001b[1;31mCRSError\u001b[0m                                  Traceback (most recent call last)",
      "\u001b[1;32m<ipython-input-29-8377a3e04649>\u001b[0m in \u001b[0;36m<module>\u001b[1;34m\u001b[0m\n\u001b[1;32m----> 1\u001b[1;33m \u001b[0mtopo\u001b[0m \u001b[1;33m=\u001b[0m \u001b[0mgg\u001b[0m\u001b[1;33m.\u001b[0m\u001b[0mextract_coordinates\u001b[0m\u001b[1;33m(\u001b[0m\u001b[0mtopo\u001b[0m\u001b[1;33m,\u001b[0m \u001b[0mdem\u001b[0m\u001b[1;33m)\u001b[0m\u001b[1;33m\u001b[0m\u001b[1;33m\u001b[0m\u001b[0m\n\u001b[0m\u001b[0;32m      2\u001b[0m \u001b[0mtopo\u001b[0m\u001b[1;33m\u001b[0m\u001b[1;33m\u001b[0m\u001b[0m\n",
      "\u001b[1;32m~\\Documents\\gemgis\\gemgis.py\u001b[0m in \u001b[0;36mextract_coordinates\u001b[1;34m(gdf, dem)\u001b[0m\n\u001b[0;32m     92\u001b[0m \u001b[1;33m\u001b[0m\u001b[0m\n\u001b[0;32m     93\u001b[0m     \u001b[1;32mif\u001b[0m \u001b[1;34m'Z'\u001b[0m \u001b[1;32mnot\u001b[0m \u001b[1;32min\u001b[0m \u001b[0mgdf\u001b[0m\u001b[1;33m.\u001b[0m\u001b[0mcolumns\u001b[0m\u001b[1;33m:\u001b[0m\u001b[1;33m\u001b[0m\u001b[1;33m\u001b[0m\u001b[0m\n\u001b[1;32m---> 94\u001b[1;33m         \u001b[0mgdf\u001b[0m \u001b[1;33m=\u001b[0m \u001b[0mextract_z_values\u001b[0m\u001b[1;33m(\u001b[0m\u001b[0mextract_xy_values\u001b[0m\u001b[1;33m(\u001b[0m\u001b[0mgdf\u001b[0m\u001b[1;33m)\u001b[0m\u001b[1;33m,\u001b[0m\u001b[0mdem\u001b[0m\u001b[1;33m)\u001b[0m\u001b[1;33m\u001b[0m\u001b[1;33m\u001b[0m\u001b[0m\n\u001b[0m\u001b[0;32m     95\u001b[0m     \u001b[1;32melse\u001b[0m\u001b[1;33m:\u001b[0m\u001b[1;33m\u001b[0m\u001b[1;33m\u001b[0m\u001b[0m\n\u001b[0;32m     96\u001b[0m         \u001b[0mgdf\u001b[0m \u001b[1;33m=\u001b[0m \u001b[0mextract_xy_values\u001b[0m\u001b[1;33m(\u001b[0m\u001b[0mgdf\u001b[0m\u001b[1;33m)\u001b[0m\u001b[1;33m\u001b[0m\u001b[1;33m\u001b[0m\u001b[0m\n",
      "\u001b[1;32m~\\Documents\\gemgis\\gemgis.py\u001b[0m in \u001b[0;36mextract_z_values\u001b[1;34m(gdf, dem)\u001b[0m\n\u001b[0;32m     70\u001b[0m     \u001b[1;32mif\u001b[0m \u001b[1;33m(\u001b[0m\u001b[1;34m'X'\u001b[0m \u001b[1;32mnot\u001b[0m \u001b[1;32min\u001b[0m \u001b[0mgdf\u001b[0m\u001b[1;33m.\u001b[0m\u001b[0mcolumns\u001b[0m \u001b[1;32mand\u001b[0m \u001b[1;34m'Y'\u001b[0m \u001b[1;32mnot\u001b[0m \u001b[1;32min\u001b[0m \u001b[0mgdf\u001b[0m\u001b[1;33m.\u001b[0m\u001b[0mcolumns\u001b[0m\u001b[1;33m)\u001b[0m\u001b[1;33m:\u001b[0m\u001b[1;33m\u001b[0m\u001b[1;33m\u001b[0m\u001b[0m\n\u001b[0;32m     71\u001b[0m         \u001b[0mgdf\u001b[0m \u001b[1;33m=\u001b[0m \u001b[0mextract_xy_values\u001b[0m\u001b[1;33m(\u001b[0m\u001b[0mgdf\u001b[0m\u001b[1;33m)\u001b[0m\u001b[1;33m\u001b[0m\u001b[1;33m\u001b[0m\u001b[0m\n\u001b[1;32m---> 72\u001b[1;33m     \u001b[1;32mif\u001b[0m \u001b[0mgdf\u001b[0m\u001b[1;33m.\u001b[0m\u001b[0mcrs\u001b[0m \u001b[1;33m==\u001b[0m \u001b[0mdem\u001b[0m\u001b[1;33m.\u001b[0m\u001b[0mcrs\u001b[0m\u001b[1;33m:\u001b[0m\u001b[1;33m\u001b[0m\u001b[1;33m\u001b[0m\u001b[0m\n\u001b[0m\u001b[0;32m     73\u001b[0m         \u001b[0mgdf\u001b[0m\u001b[1;33m[\u001b[0m\u001b[1;34m'Z'\u001b[0m\u001b[1;33m]\u001b[0m \u001b[1;33m=\u001b[0m \u001b[1;33m[\u001b[0m\u001b[0mz\u001b[0m\u001b[1;33m[\u001b[0m\u001b[1;36m0\u001b[0m\u001b[1;33m]\u001b[0m \u001b[1;32mfor\u001b[0m \u001b[0mz\u001b[0m \u001b[1;32min\u001b[0m \u001b[0mdem\u001b[0m\u001b[1;33m.\u001b[0m\u001b[0msample\u001b[0m\u001b[1;33m(\u001b[0m\u001b[0mgdf\u001b[0m\u001b[1;33m[\u001b[0m\u001b[1;33m[\u001b[0m\u001b[1;34m'X'\u001b[0m\u001b[1;33m,\u001b[0m \u001b[1;34m'Y'\u001b[0m\u001b[1;33m]\u001b[0m\u001b[1;33m]\u001b[0m\u001b[1;33m.\u001b[0m\u001b[0mto_numpy\u001b[0m\u001b[1;33m(\u001b[0m\u001b[1;33m)\u001b[0m\u001b[1;33m)\u001b[0m\u001b[1;33m]\u001b[0m\u001b[1;33m\u001b[0m\u001b[1;33m\u001b[0m\u001b[0m\n\u001b[0;32m     74\u001b[0m     \u001b[1;32melse\u001b[0m\u001b[1;33m:\u001b[0m\u001b[1;33m\u001b[0m\u001b[1;33m\u001b[0m\u001b[0m\n",
      "\u001b[1;32m~\\Anaconda3\\lib\\site-packages\\rasterio\\crs.py\u001b[0m in \u001b[0;36m__eq__\u001b[1;34m(self, other)\u001b[0m\n\u001b[0;32m     88\u001b[0m \u001b[1;33m\u001b[0m\u001b[0m\n\u001b[0;32m     89\u001b[0m     \u001b[1;32mdef\u001b[0m \u001b[0m__eq__\u001b[0m\u001b[1;33m(\u001b[0m\u001b[0mself\u001b[0m\u001b[1;33m,\u001b[0m \u001b[0mother\u001b[0m\u001b[1;33m)\u001b[0m\u001b[1;33m:\u001b[0m\u001b[1;33m\u001b[0m\u001b[1;33m\u001b[0m\u001b[0m\n\u001b[1;32m---> 90\u001b[1;33m         \u001b[0mother\u001b[0m \u001b[1;33m=\u001b[0m \u001b[0mCRS\u001b[0m\u001b[1;33m.\u001b[0m\u001b[0mfrom_user_input\u001b[0m\u001b[1;33m(\u001b[0m\u001b[0mother\u001b[0m\u001b[1;33m)\u001b[0m\u001b[1;33m\u001b[0m\u001b[1;33m\u001b[0m\u001b[0m\n\u001b[0m\u001b[0;32m     91\u001b[0m         \u001b[1;32mreturn\u001b[0m \u001b[1;33m(\u001b[0m\u001b[0mself\u001b[0m\u001b[1;33m.\u001b[0m\u001b[0m_crs\u001b[0m \u001b[1;33m==\u001b[0m \u001b[0mother\u001b[0m\u001b[1;33m.\u001b[0m\u001b[0m_crs\u001b[0m\u001b[1;33m)\u001b[0m\u001b[1;33m\u001b[0m\u001b[1;33m\u001b[0m\u001b[0m\n\u001b[0;32m     92\u001b[0m \u001b[1;33m\u001b[0m\u001b[0m\n",
      "\u001b[1;32m~\\Anaconda3\\lib\\site-packages\\rasterio\\crs.py\u001b[0m in \u001b[0;36mfrom_user_input\u001b[1;34m(cls, value, morph_from_esri_dialect)\u001b[0m\n\u001b[0;32m    435\u001b[0m             \u001b[1;32mreturn\u001b[0m \u001b[0mobj\u001b[0m\u001b[1;33m\u001b[0m\u001b[1;33m\u001b[0m\u001b[0m\n\u001b[0;32m    436\u001b[0m         \u001b[1;32melse\u001b[0m\u001b[1;33m:\u001b[0m\u001b[1;33m\u001b[0m\u001b[1;33m\u001b[0m\u001b[0m\n\u001b[1;32m--> 437\u001b[1;33m             \u001b[1;32mraise\u001b[0m \u001b[0mCRSError\u001b[0m\u001b[1;33m(\u001b[0m\u001b[1;34m\"CRS is invalid: {!r}\"\u001b[0m\u001b[1;33m.\u001b[0m\u001b[0mformat\u001b[0m\u001b[1;33m(\u001b[0m\u001b[0mvalue\u001b[0m\u001b[1;33m)\u001b[0m\u001b[1;33m)\u001b[0m\u001b[1;33m\u001b[0m\u001b[1;33m\u001b[0m\u001b[0m\n\u001b[0m",
      "\u001b[1;31mCRSError\u001b[0m: CRS is invalid: None"
     ]
    }
   ],
   "source": [
    "topo = gg.extract_coordinates(topo, dem)\n",
    "topo"
   ]
  },
  {
   "cell_type": "markdown",
   "metadata": {},
   "source": [
    "# Save as GemPy df"
   ]
  },
  {
   "cell_type": "code",
   "execution_count": 35,
   "metadata": {
    "ExecuteTime": {
     "end_time": "2020-07-01T07:14:50.901860Z",
     "start_time": "2020-07-01T07:14:50.892860Z"
    }
   },
   "outputs": [
    {
     "data": {
      "text/html": [
       "<div>\n",
       "<style scoped>\n",
       "    .dataframe tbody tr th:only-of-type {\n",
       "        vertical-align: middle;\n",
       "    }\n",
       "\n",
       "    .dataframe tbody tr th {\n",
       "        vertical-align: top;\n",
       "    }\n",
       "\n",
       "    .dataframe thead th {\n",
       "        text-align: right;\n",
       "    }\n",
       "</style>\n",
       "<table border=\"1\" class=\"dataframe\">\n",
       "  <thead>\n",
       "    <tr style=\"text-align: right;\">\n",
       "      <th></th>\n",
       "      <th>X</th>\n",
       "      <th>Y</th>\n",
       "      <th>Z</th>\n",
       "      <th>formation</th>\n",
       "    </tr>\n",
       "  </thead>\n",
       "  <tbody>\n",
       "    <tr>\n",
       "      <th>0</th>\n",
       "      <td>19.150128</td>\n",
       "      <td>293.313485</td>\n",
       "      <td>364.994873</td>\n",
       "      <td>Ton</td>\n",
       "    </tr>\n",
       "    <tr>\n",
       "      <th>1</th>\n",
       "      <td>61.934367</td>\n",
       "      <td>381.459326</td>\n",
       "      <td>400.343597</td>\n",
       "      <td>Ton</td>\n",
       "    </tr>\n",
       "    <tr>\n",
       "      <th>2</th>\n",
       "      <td>109.357860</td>\n",
       "      <td>480.945568</td>\n",
       "      <td>459.549316</td>\n",
       "      <td>Ton</td>\n",
       "    </tr>\n",
       "    <tr>\n",
       "      <th>3</th>\n",
       "      <td>157.812299</td>\n",
       "      <td>615.999430</td>\n",
       "      <td>525.691040</td>\n",
       "      <td>Ton</td>\n",
       "    </tr>\n",
       "    <tr>\n",
       "      <th>4</th>\n",
       "      <td>191.318028</td>\n",
       "      <td>719.093981</td>\n",
       "      <td>597.632507</td>\n",
       "      <td>Ton</td>\n",
       "    </tr>\n",
       "  </tbody>\n",
       "</table>\n",
       "</div>"
      ],
      "text/plain": [
       "            X           Y           Z formation\n",
       "0   19.150128  293.313485  364.994873       Ton\n",
       "1   61.934367  381.459326  400.343597       Ton\n",
       "2  109.357860  480.945568  459.549316       Ton\n",
       "3  157.812299  615.999430  525.691040       Ton\n",
       "4  191.318028  719.093981  597.632507       Ton"
      ]
     },
     "execution_count": 35,
     "metadata": {},
     "output_type": "execute_result"
    }
   ],
   "source": [
    "interfaces = gg.convert_to_gempy_df(interfaces)\n",
    "interfaces.head()"
   ]
  },
  {
   "cell_type": "code",
   "execution_count": 36,
   "metadata": {
    "ExecuteTime": {
     "end_time": "2020-07-01T07:14:51.046861Z",
     "start_time": "2020-07-01T07:14:51.043860Z"
    }
   },
   "outputs": [],
   "source": [
    "interfaces['dip'] = 50\n",
    "interfaces['azimuth'] = 100"
   ]
  },
  {
   "cell_type": "code",
   "execution_count": 37,
   "metadata": {
    "ExecuteTime": {
     "end_time": "2020-07-01T07:14:51.213861Z",
     "start_time": "2020-07-01T07:14:51.203861Z"
    }
   },
   "outputs": [
    {
     "data": {
      "text/html": [
       "<div>\n",
       "<style scoped>\n",
       "    .dataframe tbody tr th:only-of-type {\n",
       "        vertical-align: middle;\n",
       "    }\n",
       "\n",
       "    .dataframe tbody tr th {\n",
       "        vertical-align: top;\n",
       "    }\n",
       "\n",
       "    .dataframe thead th {\n",
       "        text-align: right;\n",
       "    }\n",
       "</style>\n",
       "<table border=\"1\" class=\"dataframe\">\n",
       "  <thead>\n",
       "    <tr style=\"text-align: right;\">\n",
       "      <th></th>\n",
       "      <th>X</th>\n",
       "      <th>Y</th>\n",
       "      <th>Z</th>\n",
       "      <th>formation</th>\n",
       "      <th>dip</th>\n",
       "      <th>azimuth</th>\n",
       "      <th>polarity</th>\n",
       "    </tr>\n",
       "  </thead>\n",
       "  <tbody>\n",
       "    <tr>\n",
       "      <th>0</th>\n",
       "      <td>19.150128</td>\n",
       "      <td>293.313485</td>\n",
       "      <td>364.994873</td>\n",
       "      <td>Ton</td>\n",
       "      <td>50</td>\n",
       "      <td>100</td>\n",
       "      <td>1</td>\n",
       "    </tr>\n",
       "    <tr>\n",
       "      <th>1</th>\n",
       "      <td>61.934367</td>\n",
       "      <td>381.459326</td>\n",
       "      <td>400.343597</td>\n",
       "      <td>Ton</td>\n",
       "      <td>50</td>\n",
       "      <td>100</td>\n",
       "      <td>1</td>\n",
       "    </tr>\n",
       "    <tr>\n",
       "      <th>2</th>\n",
       "      <td>109.357860</td>\n",
       "      <td>480.945568</td>\n",
       "      <td>459.549316</td>\n",
       "      <td>Ton</td>\n",
       "      <td>50</td>\n",
       "      <td>100</td>\n",
       "      <td>1</td>\n",
       "    </tr>\n",
       "    <tr>\n",
       "      <th>3</th>\n",
       "      <td>157.812299</td>\n",
       "      <td>615.999430</td>\n",
       "      <td>525.691040</td>\n",
       "      <td>Ton</td>\n",
       "      <td>50</td>\n",
       "      <td>100</td>\n",
       "      <td>1</td>\n",
       "    </tr>\n",
       "    <tr>\n",
       "      <th>4</th>\n",
       "      <td>191.318028</td>\n",
       "      <td>719.093981</td>\n",
       "      <td>597.632507</td>\n",
       "      <td>Ton</td>\n",
       "      <td>50</td>\n",
       "      <td>100</td>\n",
       "      <td>1</td>\n",
       "    </tr>\n",
       "  </tbody>\n",
       "</table>\n",
       "</div>"
      ],
      "text/plain": [
       "            X           Y           Z formation  dip  azimuth  polarity\n",
       "0   19.150128  293.313485  364.994873       Ton   50      100         1\n",
       "1   61.934367  381.459326  400.343597       Ton   50      100         1\n",
       "2  109.357860  480.945568  459.549316       Ton   50      100         1\n",
       "3  157.812299  615.999430  525.691040       Ton   50      100         1\n",
       "4  191.318028  719.093981  597.632507       Ton   50      100         1"
      ]
     },
     "execution_count": 37,
     "metadata": {},
     "output_type": "execute_result"
    }
   ],
   "source": [
    "orientations= gg.convert_to_gempy_df(interfaces)\n",
    "orientations.head()"
   ]
  },
  {
   "cell_type": "markdown",
   "metadata": {
    "ExecuteTime": {
     "end_time": "2020-06-30T07:39:22.676055Z",
     "start_time": "2020-06-30T07:39:21.726Z"
    }
   },
   "source": [
    "# Define Custom Sections"
   ]
  },
  {
   "cell_type": "code",
   "execution_count": 38,
   "metadata": {
    "ExecuteTime": {
     "end_time": "2020-07-01T07:14:51.550861Z",
     "start_time": "2020-07-01T07:14:51.538861Z"
    }
   },
   "outputs": [],
   "source": [
    "custom_sections = gpd.read_file('../../gemgis/data/Test1/customsections1.shp')"
   ]
  },
  {
   "cell_type": "code",
   "execution_count": 39,
   "metadata": {
    "ExecuteTime": {
     "end_time": "2020-07-01T07:14:51.800861Z",
     "start_time": "2020-07-01T07:14:51.700860Z"
    }
   },
   "outputs": [
    {
     "data": {
      "text/plain": [
       "(-100, 1250)"
      ]
     },
     "execution_count": 39,
     "metadata": {},
     "output_type": "execute_result"
    },
    {
     "data": {
      "image/png": "[encoded data removed]",
      "text/plain": [
       "<Figure size 432x288 with 1 Axes>"
      ]
     },
     "metadata": {
      "needs_background": "light"
     },
     "output_type": "display_data"
    }
   ],
   "source": [
    "custom_sections.plot()\n",
    "plt.grid()\n",
    "plt.xlabel('X')\n",
    "plt.ylabel('Y')\n",
    "plt.ylim(-100,1250)\n",
    "plt.xlim(-100,1250)"
   ]
  },
  {
   "cell_type": "code",
   "execution_count": 40,
   "metadata": {
    "ExecuteTime": {
     "end_time": "2020-07-01T07:14:51.873861Z",
     "start_time": "2020-07-01T07:14:51.870860Z"
    }
   },
   "outputs": [
    {
     "data": {
      "text/plain": [
       "{'init': 'epsg:4326'}"
      ]
     },
     "execution_count": 40,
     "metadata": {},
     "output_type": "execute_result"
    }
   ],
   "source": [
    "custom_sections.crs"
   ]
  },
  {
   "cell_type": "code",
   "execution_count": 41,
   "metadata": {
    "ExecuteTime": {
     "end_time": "2020-07-01T07:14:52.049250Z",
     "start_time": "2020-07-01T07:14:52.042861Z"
    }
   },
   "outputs": [
    {
     "data": {
      "text/plain": [
       "0    Point\n",
       "1    Point\n",
       "dtype: object"
      ]
     },
     "execution_count": 41,
     "metadata": {},
     "output_type": "execute_result"
    }
   ],
   "source": [
    "custom_sections.geom_type.head()"
   ]
  },
  {
   "cell_type": "code",
   "execution_count": 42,
   "metadata": {
    "ExecuteTime": {
     "end_time": "2020-07-01T07:14:52.226862Z",
     "start_time": "2020-07-01T07:14:52.219862Z"
    }
   },
   "outputs": [
    {
     "data": {
      "text/html": [
       "<div>\n",
       "<style scoped>\n",
       "    .dataframe tbody tr th:only-of-type {\n",
       "        vertical-align: middle;\n",
       "    }\n",
       "\n",
       "    .dataframe tbody tr th {\n",
       "        vertical-align: top;\n",
       "    }\n",
       "\n",
       "    .dataframe thead th {\n",
       "        text-align: right;\n",
       "    }\n",
       "</style>\n",
       "<table border=\"1\" class=\"dataframe\">\n",
       "  <thead>\n",
       "    <tr style=\"text-align: right;\">\n",
       "      <th></th>\n",
       "      <th>id</th>\n",
       "      <th>geometry</th>\n",
       "    </tr>\n",
       "  </thead>\n",
       "  <tbody>\n",
       "    <tr>\n",
       "      <th>0</th>\n",
       "      <td>None</td>\n",
       "      <td>POINT (695.467 3.226)</td>\n",
       "    </tr>\n",
       "    <tr>\n",
       "      <th>1</th>\n",
       "      <td>None</td>\n",
       "      <td>POINT (669.284 1060.822)</td>\n",
       "    </tr>\n",
       "  </tbody>\n",
       "</table>\n",
       "</div>"
      ],
      "text/plain": [
       "     id                  geometry\n",
       "0  None     POINT (695.467 3.226)\n",
       "1  None  POINT (669.284 1060.822)"
      ]
     },
     "execution_count": 42,
     "metadata": {},
     "output_type": "execute_result"
    }
   ],
   "source": [
    "custom_sections"
   ]
  },
  {
   "cell_type": "code",
   "execution_count": 43,
   "metadata": {
    "ExecuteTime": {
     "end_time": "2020-07-01T07:14:52.405394Z",
     "start_time": "2020-07-01T07:14:52.396395Z"
    }
   },
   "outputs": [
    {
     "data": {
      "text/html": [
       "<div>\n",
       "<style scoped>\n",
       "    .dataframe tbody tr th:only-of-type {\n",
       "        vertical-align: middle;\n",
       "    }\n",
       "\n",
       "    .dataframe tbody tr th {\n",
       "        vertical-align: top;\n",
       "    }\n",
       "\n",
       "    .dataframe thead th {\n",
       "        text-align: right;\n",
       "    }\n",
       "</style>\n",
       "<table border=\"1\" class=\"dataframe\">\n",
       "  <thead>\n",
       "    <tr style=\"text-align: right;\">\n",
       "      <th></th>\n",
       "      <th>id</th>\n",
       "      <th>geometry</th>\n",
       "      <th>section_name</th>\n",
       "    </tr>\n",
       "  </thead>\n",
       "  <tbody>\n",
       "    <tr>\n",
       "      <th>0</th>\n",
       "      <td>None</td>\n",
       "      <td>POINT (695.467 3.226)</td>\n",
       "      <td>Section1</td>\n",
       "    </tr>\n",
       "    <tr>\n",
       "      <th>1</th>\n",
       "      <td>None</td>\n",
       "      <td>POINT (669.284 1060.822)</td>\n",
       "      <td>Section1</td>\n",
       "    </tr>\n",
       "  </tbody>\n",
       "</table>\n",
       "</div>"
      ],
      "text/plain": [
       "     id                  geometry section_name\n",
       "0  None     POINT (695.467 3.226)     Section1\n",
       "1  None  POINT (669.284 1060.822)     Section1"
      ]
     },
     "execution_count": 43,
     "metadata": {},
     "output_type": "execute_result"
    }
   ],
   "source": [
    "custom_sections['section_name'] = 'Section1'\n",
    "custom_sections"
   ]
  },
  {
   "cell_type": "code",
   "execution_count": 44,
   "metadata": {
    "ExecuteTime": {
     "end_time": "2020-07-01T07:14:52.572392Z",
     "start_time": "2020-07-01T07:14:52.562393Z"
    }
   },
   "outputs": [
    {
     "data": {
      "text/plain": [
       "{'Section1': ([695.4667461080886, 3.2262250771374283],\n",
       "  [[669.2840030245482, 1060.822026058724]],\n",
       "  [100, 80])}"
      ]
     },
     "execution_count": 44,
     "metadata": {},
     "output_type": "execute_result"
    }
   ],
   "source": [
    "section_dict = gg.to_section_dict(custom_sections, 'section_name')\n",
    "section_dict"
   ]
  },
  {
   "cell_type": "code",
   "execution_count": 45,
   "metadata": {
    "ExecuteTime": {
     "end_time": "2020-07-01T07:14:52.748393Z",
     "start_time": "2020-07-01T07:14:52.732392Z"
    }
   },
   "outputs": [
    {
     "name": "stderr",
     "output_type": "stream",
     "text": [
      "C:\\Users\\user_abuser\\Anaconda3\\lib\\site-packages\\pandas\\core\\indexing.py:671: SettingWithCopyWarning: \n",
      "A value is trying to be set on a copy of a slice from a DataFrame\n",
      "\n",
      "See the caveats in the documentation: https://pandas.pydata.org/pandas-docs/stable/user_guide/indexing.html#returning-a-view-versus-a-copy\n",
      "  self._setitem_with_indexer(indexer, value)\n"
     ]
    },
    {
     "data": {
      "text/html": [
       "<div>\n",
       "<style scoped>\n",
       "    .dataframe tbody tr th:only-of-type {\n",
       "        vertical-align: middle;\n",
       "    }\n",
       "\n",
       "    .dataframe tbody tr th {\n",
       "        vertical-align: top;\n",
       "    }\n",
       "\n",
       "    .dataframe thead th {\n",
       "        text-align: right;\n",
       "    }\n",
       "</style>\n",
       "<table border=\"1\" class=\"dataframe\">\n",
       "  <thead>\n",
       "    <tr style=\"text-align: right;\">\n",
       "      <th></th>\n",
       "      <th>id</th>\n",
       "      <th>geometry</th>\n",
       "      <th>section_name</th>\n",
       "      <th>X</th>\n",
       "      <th>Y</th>\n",
       "    </tr>\n",
       "  </thead>\n",
       "  <tbody>\n",
       "    <tr>\n",
       "      <th>0</th>\n",
       "      <td>None</td>\n",
       "      <td>POINT (695.467 3.226)</td>\n",
       "      <td>Section1</td>\n",
       "      <td>695.466746</td>\n",
       "      <td>3.226225</td>\n",
       "    </tr>\n",
       "    <tr>\n",
       "      <th>1</th>\n",
       "      <td>None</td>\n",
       "      <td>POINT (669.284 1060.822)</td>\n",
       "      <td>Section1</td>\n",
       "      <td>669.284003</td>\n",
       "      <td>1060.822026</td>\n",
       "    </tr>\n",
       "    <tr>\n",
       "      <th>0</th>\n",
       "      <td>None</td>\n",
       "      <td>POINT (695.467 3.226)</td>\n",
       "      <td>Section2</td>\n",
       "      <td>695.466746</td>\n",
       "      <td>3.226225</td>\n",
       "    </tr>\n",
       "    <tr>\n",
       "      <th>1</th>\n",
       "      <td>None</td>\n",
       "      <td>POINT (669.284 1060.822)</td>\n",
       "      <td>Section2</td>\n",
       "      <td>669.284003</td>\n",
       "      <td>1060.822026</td>\n",
       "    </tr>\n",
       "    <tr>\n",
       "      <th>0</th>\n",
       "      <td>None</td>\n",
       "      <td>POINT (695.467 3.226)</td>\n",
       "      <td>Section3</td>\n",
       "      <td>695.466746</td>\n",
       "      <td>3.226225</td>\n",
       "    </tr>\n",
       "    <tr>\n",
       "      <th>1</th>\n",
       "      <td>None</td>\n",
       "      <td>POINT (669.284 1060.822)</td>\n",
       "      <td>Section3</td>\n",
       "      <td>669.284003</td>\n",
       "      <td>1060.822026</td>\n",
       "    </tr>\n",
       "  </tbody>\n",
       "</table>\n",
       "</div>"
      ],
      "text/plain": [
       "     id                  geometry section_name           X            Y\n",
       "0  None     POINT (695.467 3.226)     Section1  695.466746     3.226225\n",
       "1  None  POINT (669.284 1060.822)     Section1  669.284003  1060.822026\n",
       "0  None     POINT (695.467 3.226)     Section2  695.466746     3.226225\n",
       "1  None  POINT (669.284 1060.822)     Section2  669.284003  1060.822026\n",
       "0  None     POINT (695.467 3.226)     Section3  695.466746     3.226225\n",
       "1  None  POINT (669.284 1060.822)     Section3  669.284003  1060.822026"
      ]
     },
     "execution_count": 45,
     "metadata": {},
     "output_type": "execute_result"
    }
   ],
   "source": [
    "import pandas as pd\n",
    "sections = pd.concat([custom_sections,custom_sections,custom_sections])\n",
    "sections['section_name'].iloc[2] ='Section2'\n",
    "sections['section_name'].iloc[3] ='Section2'\n",
    "sections['section_name'].iloc[4] ='Section3'\n",
    "sections['section_name'].iloc[5] ='Section3'\n",
    "sections"
   ]
  },
  {
   "cell_type": "code",
   "execution_count": 46,
   "metadata": {
    "ExecuteTime": {
     "end_time": "2020-07-01T07:14:52.914392Z",
     "start_time": "2020-07-01T07:14:52.899392Z"
    }
   },
   "outputs": [
    {
     "data": {
      "text/plain": [
       "{'Section1': ([695.4667461080886, 3.2262250771374283],\n",
       "  [[669.2840030245482, 1060.822026058724]],\n",
       "  [100, 80]),\n",
       " 'Section2': ([695.4667461080886, 3.2262250771374283],\n",
       "  [[669.2840030245482, 1060.822026058724]],\n",
       "  [100, 80]),\n",
       " 'Section3': ([695.4667461080886, 3.2262250771374283],\n",
       "  [[669.2840030245482, 1060.822026058724]],\n",
       "  [100, 80])}"
      ]
     },
     "execution_count": 46,
     "metadata": {},
     "output_type": "execute_result"
    }
   ],
   "source": [
    "section_dict = gg.to_section_dict(sections, 'section_name')\n",
    "section_dict"
   ]
  },
  {
   "cell_type": "markdown",
   "metadata": {},
   "source": [
    "# Interpolate Raster"
   ]
  },
  {
   "cell_type": "code",
   "execution_count": 47,
   "metadata": {
    "ExecuteTime": {
     "end_time": "2020-07-01T07:14:53.608393Z",
     "start_time": "2020-07-01T07:14:53.595392Z"
    }
   },
   "outputs": [
    {
     "data": {
      "text/html": [
       "<div>\n",
       "<style scoped>\n",
       "    .dataframe tbody tr th:only-of-type {\n",
       "        vertical-align: middle;\n",
       "    }\n",
       "\n",
       "    .dataframe tbody tr th {\n",
       "        vertical-align: top;\n",
       "    }\n",
       "\n",
       "    .dataframe thead th {\n",
       "        text-align: right;\n",
       "    }\n",
       "</style>\n",
       "<table border=\"1\" class=\"dataframe\">\n",
       "  <thead>\n",
       "    <tr style=\"text-align: right;\">\n",
       "      <th></th>\n",
       "      <th>id</th>\n",
       "      <th>Z</th>\n",
       "      <th>geometry</th>\n",
       "    </tr>\n",
       "  </thead>\n",
       "  <tbody>\n",
       "    <tr>\n",
       "      <th>0</th>\n",
       "      <td>None</td>\n",
       "      <td>400</td>\n",
       "      <td>LINESTRING (0.741 475.441, 35.629 429.247, 77....</td>\n",
       "    </tr>\n",
       "    <tr>\n",
       "      <th>1</th>\n",
       "      <td>None</td>\n",
       "      <td>300</td>\n",
       "      <td>LINESTRING (645.965 0.525, 685.141 61.866, 724...</td>\n",
       "    </tr>\n",
       "    <tr>\n",
       "      <th>2</th>\n",
       "      <td>None</td>\n",
       "      <td>400</td>\n",
       "      <td>LINESTRING (490.292 0.525, 505.756 40.732, 519...</td>\n",
       "    </tr>\n",
       "    <tr>\n",
       "      <th>3</th>\n",
       "      <td>None</td>\n",
       "      <td>600</td>\n",
       "      <td>LINESTRING (911.433 1068.585, 908.856 1026.831...</td>\n",
       "    </tr>\n",
       "    <tr>\n",
       "      <th>4</th>\n",
       "      <td>None</td>\n",
       "      <td>700</td>\n",
       "      <td>LINESTRING (228.432 1068.585, 239.772 1017.037...</td>\n",
       "    </tr>\n",
       "  </tbody>\n",
       "</table>\n",
       "</div>"
      ],
      "text/plain": [
       "     id    Z                                           geometry\n",
       "0  None  400  LINESTRING (0.741 475.441, 35.629 429.247, 77....\n",
       "1  None  300  LINESTRING (645.965 0.525, 685.141 61.866, 724...\n",
       "2  None  400  LINESTRING (490.292 0.525, 505.756 40.732, 519...\n",
       "3  None  600  LINESTRING (911.433 1068.585, 908.856 1026.831...\n",
       "4  None  700  LINESTRING (228.432 1068.585, 239.772 1017.037..."
      ]
     },
     "execution_count": 47,
     "metadata": {},
     "output_type": "execute_result"
    }
   ],
   "source": [
    "topo = gpd.read_file('../../gemgis/data/Test1/topo1.shp')\n",
    "topo.head()"
   ]
  },
  {
   "cell_type": "code",
   "execution_count": 48,
   "metadata": {
    "ExecuteTime": {
     "end_time": "2020-07-01T07:14:53.899392Z",
     "start_time": "2020-07-01T07:14:53.802394Z"
    }
   },
   "outputs": [
    {
     "data": {
      "text/plain": [
       "Text(86.43459798221053, 0.5, 'Y')"
      ]
     },
     "execution_count": 48,
     "metadata": {},
     "output_type": "execute_result"
    },
    {
     "data": {
      "image/png": "[encoded data removed]",
      "text/plain": [
       "<Figure size 432x288 with 1 Axes>"
      ]
     },
     "metadata": {
      "needs_background": "light"
     },
     "output_type": "display_data"
    }
   ],
   "source": [
    "topo.plot()\n",
    "plt.grid()\n",
    "plt.xlabel('X')\n",
    "plt.ylabel('Y')"
   ]
  },
  {
   "cell_type": "code",
   "execution_count": 49,
   "metadata": {
    "ExecuteTime": {
     "end_time": "2020-07-01T07:14:54.802920Z",
     "start_time": "2020-07-01T07:14:53.994920Z"
    }
   },
   "outputs": [
    {
     "data": {
      "text/plain": [
       "Text(232.61818181818177, 0.5, 'Y')"
      ]
     },
     "execution_count": 49,
     "metadata": {},
     "output_type": "execute_result"
    },
    {
     "data": {
      "image/png": "[encoded data removed]",
      "text/plain": [
       "<Figure size 432x288 with 2 Axes>"
      ]
     },
     "metadata": {
      "needs_background": "light"
     },
     "output_type": "display_data"
    }
   ],
   "source": [
    "array = gg.interpolate_raster(topo)\n",
    "\n",
    "fig, (ax1, ax2) = plt.subplots(ncols=2, sharex=True, sharey=True)\n",
    "topo.plot(ax=ax1)\n",
    "ax1.set_xlabel('X')\n",
    "ax1.set_ylabel('Y')\n",
    "ax2.imshow(array, origin='lower')\n",
    "plt.grid()\n",
    "ax2.set_xlabel('X')\n",
    "ax2.set_ylabel('Y')"
   ]
  },
  {
   "cell_type": "code",
   "execution_count": 50,
   "metadata": {
    "ExecuteTime": {
     "end_time": "2020-07-01T07:14:55.221920Z",
     "start_time": "2020-07-01T07:14:54.804920Z"
    }
   },
   "outputs": [
    {
     "data": {
      "text/plain": [
       "Text(232.61818181818177, 0.5, 'Y')"
      ]
     },
     "execution_count": 50,
     "metadata": {},
     "output_type": "execute_result"
    },
    {
     "data": {
      "image/png": "[encoded data removed]",
      "text/plain": [
       "<Figure size 432x288 with 2 Axes>"
      ]
     },
     "metadata": {
      "needs_background": "light"
     },
     "output_type": "display_data"
    }
   ],
   "source": [
    "array = gg.interpolate_raster(topo, method = 'linear')\n",
    "fig, (ax1, ax2) = plt.subplots(ncols=2, sharex=True, sharey=True)\n",
    "topo.plot(ax=ax1)\n",
    "ax1.set_xlabel('X')\n",
    "ax1.set_ylabel('Y')\n",
    "ax2.imshow(array, origin='lower')\n",
    "plt.grid()\n",
    "ax2.set_xlabel('X')\n",
    "ax2.set_ylabel('Y')"
   ]
  },
  {
   "cell_type": "code",
   "execution_count": 51,
   "metadata": {
    "ExecuteTime": {
     "end_time": "2020-07-01T07:14:55.840920Z",
     "start_time": "2020-07-01T07:14:55.222920Z"
    }
   },
   "outputs": [
    {
     "data": {
      "text/plain": [
       "Text(232.61818181818177, 0.5, 'Y')"
      ]
     },
     "execution_count": 51,
     "metadata": {},
     "output_type": "execute_result"
    },
    {
     "data": {
      "image/png": "[encoded data removed]",
      "text/plain": [
       "<Figure size 432x288 with 2 Axes>"
      ]
     },
     "metadata": {
      "needs_background": "light"
     },
     "output_type": "display_data"
    }
   ],
   "source": [
    "array = gg.interpolate_raster(topo, method = 'cubic')\n",
    "fig, (ax1, ax2) = plt.subplots(ncols=2, sharex=True, sharey=True)\n",
    "topo.plot(ax=ax1)\n",
    "ax1.set_xlabel('X')\n",
    "ax1.set_ylabel('Y')\n",
    "ax2.imshow(array, origin='lower')\n",
    "plt.grid()\n",
    "ax2.set_xlabel('X')\n",
    "ax2.set_ylabel('Y')"
   ]
  },
  {
   "cell_type": "code",
   "execution_count": 52,
   "metadata": {
    "ExecuteTime": {
     "end_time": "2020-07-01T07:14:58.839920Z",
     "start_time": "2020-07-01T07:14:55.841920Z"
    }
   },
   "outputs": [
    {
     "data": {
      "text/plain": [
       "Text(232.61818181818177, 0.5, 'Y')"
      ]
     },
     "execution_count": 52,
     "metadata": {},
     "output_type": "execute_result"
    },
    {
     "data": {
      "image/png": "[encoded data removed]",
      "text/plain": [
       "<Figure size 432x288 with 2 Axes>"
      ]
     },
     "metadata": {
      "needs_background": "light"
     },
     "output_type": "display_data"
    }
   ],
   "source": [
    "array = gg.interpolate_raster(topo, method = 'rbf')\n",
    "fig, (ax1, ax2) = plt.subplots(ncols=2, sharex=True, sharey=True)\n",
    "topo.plot(ax=ax1)\n",
    "ax1.set_xlabel('X')\n",
    "ax1.set_ylabel('Y')\n",
    "ax2.imshow(array, origin='lower')\n",
    "plt.grid()\n",
    "ax2.set_xlabel('X')\n",
    "ax2.set_ylabel('Y')"
   ]
  },
  {
   "cell_type": "code",
   "execution_count": 53,
   "metadata": {
    "ExecuteTime": {
     "end_time": "2020-07-01T07:15:00.131920Z",
     "start_time": "2020-07-01T07:14:58.840920Z"
    }
   },
   "outputs": [
    {
     "data": {
      "text/plain": [
       "Text(232.61818181818177, 0.5, 'Y')"
      ]
     },
     "execution_count": 53,
     "metadata": {},
     "output_type": "execute_result"
    },
    {
     "data": {
      "image/png": "[encoded data removed]",
      "text/plain": [
       "<Figure size 432x288 with 2 Axes>"
      ]
     },
     "metadata": {
      "needs_background": "light"
     },
     "output_type": "display_data"
    }
   ],
   "source": [
    "array = gg.interpolate_raster(topo, method = 'rbf', function = 'linear')\n",
    "fig, (ax1, ax2) = plt.subplots(ncols=2, sharex=True, sharey=True)\n",
    "topo.plot(ax=ax1)\n",
    "ax1.set_xlabel('X')\n",
    "ax1.set_ylabel('Y')\n",
    "ax2.imshow(array, origin='lower')\n",
    "plt.grid()\n",
    "ax2.set_xlabel('X')\n",
    "ax2.set_ylabel('Y')"
   ]
  },
  {
   "cell_type": "markdown",
   "metadata": {},
   "source": [
    "# Create GemPyData Object"
   ]
  },
  {
   "cell_type": "code",
   "execution_count": 54,
   "metadata": {
    "ExecuteTime": {
     "end_time": "2020-07-01T07:15:00.137921Z",
     "start_time": "2020-07-01T07:15:00.133920Z"
    }
   },
   "outputs": [
    {
     "name": "stdout",
     "output_type": "stream",
     "text": [
      "None\n"
     ]
    }
   ],
   "source": [
    "data = gg.GemPyData()\n",
    "print(data.crs)"
   ]
  },
  {
   "cell_type": "code",
   "execution_count": 55,
   "metadata": {
    "ExecuteTime": {
     "end_time": "2020-07-01T07:15:00.142920Z",
     "start_time": "2020-07-01T07:15:00.139920Z"
    }
   },
   "outputs": [
    {
     "data": {
      "text/plain": [
       "'Model1'"
      ]
     },
     "execution_count": 55,
     "metadata": {},
     "output_type": "execute_result"
    }
   ],
   "source": [
    "data.model_name = 'Model1'\n",
    "data.model_name"
   ]
  },
  {
   "cell_type": "code",
   "execution_count": 56,
   "metadata": {
    "ExecuteTime": {
     "end_time": "2020-07-01T07:15:00.147921Z",
     "start_time": "2020-07-01T07:15:00.143920Z"
    }
   },
   "outputs": [
    {
     "data": {
      "text/plain": [
       "'EPSG:4326'"
      ]
     },
     "execution_count": 56,
     "metadata": {},
     "output_type": "execute_result"
    }
   ],
   "source": [
    "data.crs = 'EPSG:4326'\n",
    "data.crs"
   ]
  },
  {
   "cell_type": "code",
   "execution_count": 57,
   "metadata": {
    "ExecuteTime": {
     "end_time": "2020-07-01T07:15:00.151920Z",
     "start_time": "2020-07-01T07:15:00.148920Z"
    }
   },
   "outputs": [
    {
     "name": "stdout",
     "output_type": "stream",
     "text": [
      "EPSG:4326\n"
     ]
    }
   ],
   "source": [
    "data = gg.GemPyData(crs = 'EPSG:4326')\n",
    "print(data.crs)"
   ]
  },
  {
   "cell_type": "code",
   "execution_count": 58,
   "metadata": {
    "ExecuteTime": {
     "end_time": "2020-07-01T07:15:00.161920Z",
     "start_time": "2020-07-01T07:15:00.152920Z"
    }
   },
   "outputs": [
    {
     "data": {
      "text/html": [
       "<div>\n",
       "<style scoped>\n",
       "    .dataframe tbody tr th:only-of-type {\n",
       "        vertical-align: middle;\n",
       "    }\n",
       "\n",
       "    .dataframe tbody tr th {\n",
       "        vertical-align: top;\n",
       "    }\n",
       "\n",
       "    .dataframe thead th {\n",
       "        text-align: right;\n",
       "    }\n",
       "</style>\n",
       "<table border=\"1\" class=\"dataframe\">\n",
       "  <thead>\n",
       "    <tr style=\"text-align: right;\">\n",
       "      <th></th>\n",
       "      <th>X</th>\n",
       "      <th>Y</th>\n",
       "      <th>Z</th>\n",
       "      <th>formation</th>\n",
       "      <th>dip</th>\n",
       "      <th>azimuth</th>\n",
       "    </tr>\n",
       "  </thead>\n",
       "  <tbody>\n",
       "    <tr>\n",
       "      <th>0</th>\n",
       "      <td>19.150128</td>\n",
       "      <td>293.313485</td>\n",
       "      <td>364.994873</td>\n",
       "      <td>Ton</td>\n",
       "      <td>50</td>\n",
       "      <td>100</td>\n",
       "    </tr>\n",
       "    <tr>\n",
       "      <th>1</th>\n",
       "      <td>61.934367</td>\n",
       "      <td>381.459326</td>\n",
       "      <td>400.343597</td>\n",
       "      <td>Ton</td>\n",
       "      <td>50</td>\n",
       "      <td>100</td>\n",
       "    </tr>\n",
       "    <tr>\n",
       "      <th>2</th>\n",
       "      <td>109.357860</td>\n",
       "      <td>480.945568</td>\n",
       "      <td>459.549316</td>\n",
       "      <td>Ton</td>\n",
       "      <td>50</td>\n",
       "      <td>100</td>\n",
       "    </tr>\n",
       "    <tr>\n",
       "      <th>3</th>\n",
       "      <td>157.812299</td>\n",
       "      <td>615.999430</td>\n",
       "      <td>525.691040</td>\n",
       "      <td>Ton</td>\n",
       "      <td>50</td>\n",
       "      <td>100</td>\n",
       "    </tr>\n",
       "    <tr>\n",
       "      <th>4</th>\n",
       "      <td>191.318028</td>\n",
       "      <td>719.093981</td>\n",
       "      <td>597.632507</td>\n",
       "      <td>Ton</td>\n",
       "      <td>50</td>\n",
       "      <td>100</td>\n",
       "    </tr>\n",
       "  </tbody>\n",
       "</table>\n",
       "</div>"
      ],
      "text/plain": [
       "            X           Y           Z formation  dip  azimuth\n",
       "0   19.150128  293.313485  364.994873       Ton   50      100\n",
       "1   61.934367  381.459326  400.343597       Ton   50      100\n",
       "2  109.357860  480.945568  459.549316       Ton   50      100\n",
       "3  157.812299  615.999430  525.691040       Ton   50      100\n",
       "4  191.318028  719.093981  597.632507       Ton   50      100"
      ]
     },
     "execution_count": 58,
     "metadata": {},
     "output_type": "execute_result"
    }
   ],
   "source": [
    "data.interfaces = interfaces\n",
    "data.interfaces.head()"
   ]
  },
  {
   "cell_type": "code",
   "execution_count": 59,
   "metadata": {
    "ExecuteTime": {
     "end_time": "2020-07-01T07:15:00.170920Z",
     "start_time": "2020-07-01T07:15:00.162920Z"
    }
   },
   "outputs": [
    {
     "data": {
      "text/html": [
       "<div>\n",
       "<style scoped>\n",
       "    .dataframe tbody tr th:only-of-type {\n",
       "        vertical-align: middle;\n",
       "    }\n",
       "\n",
       "    .dataframe tbody tr th {\n",
       "        vertical-align: top;\n",
       "    }\n",
       "\n",
       "    .dataframe thead th {\n",
       "        text-align: right;\n",
       "    }\n",
       "</style>\n",
       "<table border=\"1\" class=\"dataframe\">\n",
       "  <thead>\n",
       "    <tr style=\"text-align: right;\">\n",
       "      <th></th>\n",
       "      <th>X</th>\n",
       "      <th>Y</th>\n",
       "      <th>Z</th>\n",
       "      <th>formation</th>\n",
       "      <th>dip</th>\n",
       "      <th>azimuth</th>\n",
       "      <th>polarity</th>\n",
       "    </tr>\n",
       "  </thead>\n",
       "  <tbody>\n",
       "    <tr>\n",
       "      <th>0</th>\n",
       "      <td>19.150128</td>\n",
       "      <td>293.313485</td>\n",
       "      <td>364.994873</td>\n",
       "      <td>Ton</td>\n",
       "      <td>50</td>\n",
       "      <td>100</td>\n",
       "      <td>1</td>\n",
       "    </tr>\n",
       "    <tr>\n",
       "      <th>1</th>\n",
       "      <td>61.934367</td>\n",
       "      <td>381.459326</td>\n",
       "      <td>400.343597</td>\n",
       "      <td>Ton</td>\n",
       "      <td>50</td>\n",
       "      <td>100</td>\n",
       "      <td>1</td>\n",
       "    </tr>\n",
       "    <tr>\n",
       "      <th>2</th>\n",
       "      <td>109.357860</td>\n",
       "      <td>480.945568</td>\n",
       "      <td>459.549316</td>\n",
       "      <td>Ton</td>\n",
       "      <td>50</td>\n",
       "      <td>100</td>\n",
       "      <td>1</td>\n",
       "    </tr>\n",
       "    <tr>\n",
       "      <th>3</th>\n",
       "      <td>157.812299</td>\n",
       "      <td>615.999430</td>\n",
       "      <td>525.691040</td>\n",
       "      <td>Ton</td>\n",
       "      <td>50</td>\n",
       "      <td>100</td>\n",
       "      <td>1</td>\n",
       "    </tr>\n",
       "    <tr>\n",
       "      <th>4</th>\n",
       "      <td>191.318028</td>\n",
       "      <td>719.093981</td>\n",
       "      <td>597.632507</td>\n",
       "      <td>Ton</td>\n",
       "      <td>50</td>\n",
       "      <td>100</td>\n",
       "      <td>1</td>\n",
       "    </tr>\n",
       "  </tbody>\n",
       "</table>\n",
       "</div>"
      ],
      "text/plain": [
       "            X           Y           Z formation  dip  azimuth  polarity\n",
       "0   19.150128  293.313485  364.994873       Ton   50      100         1\n",
       "1   61.934367  381.459326  400.343597       Ton   50      100         1\n",
       "2  109.357860  480.945568  459.549316       Ton   50      100         1\n",
       "3  157.812299  615.999430  525.691040       Ton   50      100         1\n",
       "4  191.318028  719.093981  597.632507       Ton   50      100         1"
      ]
     },
     "execution_count": 59,
     "metadata": {},
     "output_type": "execute_result"
    }
   ],
   "source": [
    "data.orientations = orientations\n",
    "data.orientations.head()"
   ]
  },
  {
   "cell_type": "code",
   "execution_count": 60,
   "metadata": {
    "ExecuteTime": {
     "end_time": "2020-07-01T07:15:00.175920Z",
     "start_time": "2020-07-01T07:15:00.171920Z"
    }
   },
   "outputs": [
    {
     "data": {
      "text/plain": [
       "{'Section1': ([695.4667461080886, 3.2262250771374283],\n",
       "  [[669.2840030245482, 1060.822026058724]],\n",
       "  [100, 80]),\n",
       " 'Section2': ([695.4667461080886, 3.2262250771374283],\n",
       "  [[669.2840030245482, 1060.822026058724]],\n",
       "  [100, 80]),\n",
       " 'Section3': ([695.4667461080886, 3.2262250771374283],\n",
       "  [[669.2840030245482, 1060.822026058724]],\n",
       "  [100, 80])}"
      ]
     },
     "execution_count": 60,
     "metadata": {},
     "output_type": "execute_result"
    }
   ],
   "source": [
    "data.section_dict = section_dict\n",
    "data.section_dict"
   ]
  },
  {
   "cell_type": "code",
   "execution_count": 61,
   "metadata": {
    "ExecuteTime": {
     "end_time": "2020-07-01T07:15:00.181923Z",
     "start_time": "2020-07-01T07:15:00.176920Z"
    }
   },
   "outputs": [
    {
     "data": {
      "text/plain": [
       "[50, 50, 50]"
      ]
     },
     "execution_count": 61,
     "metadata": {},
     "output_type": "execute_result"
    }
   ],
   "source": [
    "data.resolution = [50,50,50]\n",
    "data.resolution"
   ]
  },
  {
   "cell_type": "code",
   "execution_count": 62,
   "metadata": {
    "ExecuteTime": {
     "end_time": "2020-07-01T07:15:00.187921Z",
     "start_time": "2020-07-01T07:15:00.182921Z"
    }
   },
   "outputs": [
    {
     "data": {
      "text/plain": [
       "[0, 100, 0, 100, 0, 100]"
      ]
     },
     "execution_count": 62,
     "metadata": {},
     "output_type": "execute_result"
    }
   ],
   "source": [
    "data.extent = [0,100,0,100,0,100]\n",
    "data.extent"
   ]
  },
  {
   "cell_type": "code",
   "execution_count": null,
   "metadata": {
    "ExecuteTime": {
     "end_time": "2020-07-01T07:14:43.416861Z",
     "start_time": "2020-07-01T07:14:41.613Z"
    }
   },
   "outputs": [],
   "source": [
    "data."
   ]
  }
 ],
 "metadata": {
  "hide_input": false,
  "kernelspec": {
   "display_name": "Python 3",
   "language": "python",
   "name": "python3"
  },
  "language_info": {
   "codemirror_mode": {
    "name": "ipython",
    "version": 3
   },
   "file_extension": ".py",
   "mimetype": "text/x-python",
   "name": "python",
   "nbconvert_exporter": "python",
   "pygments_lexer": "ipython3",
   "version": "3.7.7"
  },
  "toc": {
   "base_numbering": 1,
   "nav_menu": {},
   "number_sections": true,
   "sideBar": true,
   "skip_h1_title": false,
   "title_cell": "Table of Contents",
   "title_sidebar": "Contents",
   "toc_cell": false,
   "toc_position": {},
   "toc_section_display": true,
   "toc_window_display": false
  }
 },
 "nbformat": 4,
 "nbformat_minor": 4
}
