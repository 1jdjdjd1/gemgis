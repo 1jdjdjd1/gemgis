{
 "cells": [
  {
   "cell_type": "markdown",
   "metadata": {},
   "source": [
    "# GemGIS Project Overview"
   ]
  },
  {
   "cell_type": "markdown",
   "metadata": {},
   "source": [
    "This Notebook provides an Overview of the Project Details of GemGIS, developed at the Department for Computational Geosciences and Reservoir Engineering at RWTH Aachen University, Germany. "
   ]
  },
  {
   "cell_type": "markdown",
   "metadata": {},
   "source": [
    "# Installing Dependencies\n",
    "\n",
    "Several dependencies need to be installed in order to use GemGIS. This can either be done through the Anaconda distribution via the Anaconda Environments or the Anaconda Prompt. "
   ]
  },
  {
   "cell_type": "code",
   "execution_count": 1,
   "metadata": {
    "ExecuteTime": {
     "end_time": "2020-05-26T08:36:28.747851Z",
     "start_time": "2020-05-26T08:36:10.094683Z"
    }
   },
   "outputs": [],
   "source": [
    "%%capture\n",
    "!pip install numpy "
   ]
  },
  {
   "cell_type": "code",
   "execution_count": 2,
   "metadata": {
    "ExecuteTime": {
     "end_time": "2020-05-26T08:36:31.732977Z",
     "start_time": "2020-05-26T08:36:28.750845Z"
    }
   },
   "outputs": [],
   "source": [
    "%%capture\n",
    "!pip install matplotlib"
   ]
  },
  {
   "cell_type": "code",
   "execution_count": 3,
   "metadata": {
    "ExecuteTime": {
     "end_time": "2020-05-26T08:36:34.750293Z",
     "start_time": "2020-05-26T08:36:31.734944Z"
    }
   },
   "outputs": [],
   "source": [
    "%%capture\n",
    "!pip install ipyleaflet"
   ]
  },
  {
   "cell_type": "code",
   "execution_count": 4,
   "metadata": {
    "ExecuteTime": {
     "end_time": "2020-05-26T08:36:37.097111Z",
     "start_time": "2020-05-26T08:36:34.751303Z"
    }
   },
   "outputs": [],
   "source": [
    "%%capture\n",
    "!pip install owslib"
   ]
  },
  {
   "cell_type": "code",
   "execution_count": 5,
   "metadata": {
    "ExecuteTime": {
     "end_time": "2020-05-26T08:36:39.878434Z",
     "start_time": "2020-05-26T08:36:37.098039Z"
    }
   },
   "outputs": [],
   "source": [
    "%%capture\n",
    "!pip install pyproj"
   ]
  },
  {
   "cell_type": "code",
   "execution_count": 6,
   "metadata": {
    "ExecuteTime": {
     "end_time": "2020-05-26T08:36:42.444752Z",
     "start_time": "2020-05-26T08:36:39.880318Z"
    }
   },
   "outputs": [],
   "source": [
    "%%capture\n",
    "!pip install ipywidgets"
   ]
  },
  {
   "cell_type": "code",
   "execution_count": 7,
   "metadata": {
    "ExecuteTime": {
     "end_time": "2020-05-26T08:36:45.362593Z",
     "start_time": "2020-05-26T08:36:42.447653Z"
    }
   },
   "outputs": [],
   "source": [
    "%%capture\n",
    "!pip install IPython"
   ]
  },
  {
   "cell_type": "markdown",
   "metadata": {},
   "source": [
    "# Importing GemGIS"
   ]
  },
  {
   "cell_type": "code",
   "execution_count": 8,
   "metadata": {
    "ExecuteTime": {
     "end_time": "2020-05-26T08:36:56.226755Z",
     "start_time": "2020-05-26T08:36:45.364587Z"
    }
   },
   "outputs": [
    {
     "name": "stdout",
     "output_type": "stream",
     "text": [
      "<module 'gemgis' from 'C:/Users/alexa/Documents/gemgis\\\\gemgis\\\\__init__.py'>\n"
     ]
    }
   ],
   "source": [
    "import sys\n",
    "sys.path.append('C:/Users/alexa/Documents/gemgis')\n",
    "\n",
    "import gemgis as gg\n",
    "\n",
    "print(gg)"
   ]
  },
  {
   "cell_type": "markdown",
   "metadata": {},
   "source": [
    "# Project Details\n",
    "\n",
    "In the following, the project details of GemGIS are being introduced. "
   ]
  },
  {
   "cell_type": "code",
   "execution_count": 9,
   "metadata": {
    "ExecuteTime": {
     "end_time": "2020-05-26T08:36:56.239687Z",
     "start_time": "2020-05-26T08:36:56.230711Z"
    }
   },
   "outputs": [
    {
     "data": {
      "text/plain": [
       "'GeoPyGeographic - GemGIS: Geographic information processing for geomodeling'"
      ]
     },
     "execution_count": 9,
     "metadata": {},
     "output_type": "execute_result"
    }
   ],
   "source": [
    "gg.__title__"
   ]
  },
  {
   "cell_type": "code",
   "execution_count": 10,
   "metadata": {
    "ExecuteTime": {
     "end_time": "2020-05-26T08:36:56.820262Z",
     "start_time": "2020-05-26T08:36:56.241682Z"
    }
   },
   "outputs": [
    {
     "data": {
      "text/plain": [
       "'GemGIS is providing joint methods for processing of GIS data sets for use in geological modeling packages such as GemPy. This includes inspection of data, visualization and manipulation such as adding or removing points. Further analysis such as dip calculation will also be available.'"
      ]
     },
     "execution_count": 10,
     "metadata": {},
     "output_type": "execute_result"
    }
   ],
   "source": [
    "gg.__abstract__"
   ]
  },
  {
   "cell_type": "code",
   "execution_count": 11,
   "metadata": {
    "ExecuteTime": {
     "end_time": "2020-05-26T08:36:57.425125Z",
     "start_time": "2020-05-26T08:36:56.825282Z"
    }
   },
   "outputs": [
    {
     "data": {
      "text/plain": [
       "'Florian Wellmann, Alexander Juestel'"
      ]
     },
     "execution_count": 11,
     "metadata": {},
     "output_type": "execute_result"
    }
   ],
   "source": [
    "gg.__authors__"
   ]
  },
  {
   "cell_type": "code",
   "execution_count": 12,
   "metadata": {
    "ExecuteTime": {
     "end_time": "2020-05-26T08:36:57.917589Z",
     "start_time": "2020-05-26T08:36:57.429080Z"
    }
   },
   "outputs": [
    {
     "data": {
      "text/plain": [
       "'alexander.juestel@rwth-aachen.de'"
      ]
     },
     "execution_count": 12,
     "metadata": {},
     "output_type": "execute_result"
    }
   ],
   "source": [
    "gg.__correspondence_email__"
   ]
  },
  {
   "cell_type": "code",
   "execution_count": 13,
   "metadata": {
    "ExecuteTime": {
     "end_time": "2020-05-26T08:36:58.438934Z",
     "start_time": "2020-05-26T08:36:57.924608Z"
    }
   },
   "outputs": [
    {
     "data": {
      "text/plain": [
       "'CGRE - RWTH Aachen University'"
      ]
     },
     "execution_count": 13,
     "metadata": {},
     "output_type": "execute_result"
    }
   ],
   "source": [
    "gg.__affiliations__"
   ]
  },
  {
   "cell_type": "code",
   "execution_count": 14,
   "metadata": {
    "ExecuteTime": {
     "end_time": "2020-05-26T08:36:58.982938Z",
     "start_time": "2020-05-26T08:36:58.442917Z"
    }
   },
   "outputs": [
    {
     "data": {
      "text/plain": [
       "'25.05.2020'"
      ]
     },
     "execution_count": 14,
     "metadata": {},
     "output_type": "execute_result"
    }
   ],
   "source": [
    "gg.__version_date__"
   ]
  },
  {
   "cell_type": "code",
   "execution_count": 15,
   "metadata": {
    "ExecuteTime": {
     "end_time": "2020-05-26T08:36:59.449133Z",
     "start_time": "2020-05-26T08:36:58.986929Z"
    }
   },
   "outputs": [
    {
     "data": {
      "text/plain": [
       "'0.0.1'"
      ]
     },
     "execution_count": 15,
     "metadata": {},
     "output_type": "execute_result"
    }
   ],
   "source": [
    "gg.__version__"
   ]
  },
  {
   "cell_type": "code",
   "execution_count": 16,
   "metadata": {
    "ExecuteTime": {
     "end_time": "2020-05-26T08:37:00.096664Z",
     "start_time": "2020-05-26T08:36:59.453095Z"
    }
   },
   "outputs": [
    {
     "name": "stdout",
     "output_type": "stream",
     "text": [
      "What is new in version 0.0.1: \n",
      "- Added a class Map() to display spatial data \n",
      "- Added a class WMS() to manipulate WMS data \n",
      "- Added a class Raster() to manipulate Raster data \n",
      "- Added a function WMSLayer() to load WMS Layers \n",
      "- Added a function getmap() class to extract and display a WMS extent in the map \n",
      "- Added a function getmap_object() to request a map from a WMS Service \n",
      "- Added a function convert_map_to_array() to convert an obtained map to an array for future use\n",
      "- Added a function convert_array_to_image_overlay() to convert array to an image overlay which can be displayed on the map \n",
      "- Added a function save_as_raster() to save an array obtained from an WMS Service as raster file \n",
      "- Added a function load_raster() to load a raster either from an array or a tiff file\n",
      "- Added a function plot_raster() to plot a loaded raster \n",
      "- Outlook for next Versions: More Raster Data Manipulation functionality, Vector Data Manipulation functionality, bug fixes, code improvements\n"
     ]
    }
   ],
   "source": [
    "print(gg.__changelog__)"
   ]
  },
  {
   "cell_type": "code",
   "execution_count": 17,
   "metadata": {
    "ExecuteTime": {
     "end_time": "2020-05-26T08:37:00.727917Z",
     "start_time": "2020-05-26T08:37:00.097623Z"
    }
   },
   "outputs": [
    {
     "data": {
      "text/plain": [
       "'0.0.1'"
      ]
     },
     "execution_count": 17,
     "metadata": {},
     "output_type": "execute_result"
    }
   ],
   "source": [
    "gg.__previous_versions__"
   ]
  },
  {
   "cell_type": "code",
   "execution_count": null,
   "metadata": {},
   "outputs": [],
   "source": []
  }
 ],
 "metadata": {
  "hide_input": false,
  "kernelspec": {
   "display_name": "Python 3",
   "language": "python",
   "name": "python3"
  },
  "language_info": {
   "codemirror_mode": {
    "name": "ipython",
    "version": 3
   },
   "file_extension": ".py",
   "mimetype": "text/x-python",
   "name": "python",
   "nbconvert_exporter": "python",
   "pygments_lexer": "ipython3",
   "version": "3.7.7"
  },
  "latex_envs": {
   "LaTeX_envs_menu_present": true,
   "autoclose": false,
   "autocomplete": true,
   "bibliofile": "biblio.bib",
   "cite_by": "apalike",
   "current_citInitial": 1,
   "eqLabelWithNumbers": true,
   "eqNumInitial": 1,
   "hotkeys": {
    "equation": "Ctrl-E",
    "itemize": "Ctrl-I"
   },
   "labels_anchors": false,
   "latex_user_defs": false,
   "report_style_numbering": false,
   "user_envs_cfg": false
  },
  "toc": {
   "base_numbering": 1,
   "nav_menu": {},
   "number_sections": true,
   "sideBar": true,
   "skip_h1_title": false,
   "title_cell": "Table of Contents",
   "title_sidebar": "Contents",
   "toc_cell": false,
   "toc_position": {},
   "toc_section_display": true,
   "toc_window_display": false
  }
 },
 "nbformat": 4,
 "nbformat_minor": 4
}
