{
 "cells": [
  {
   "cell_type": "markdown",
   "metadata": {},
   "source": [
    "# Geological Map of Baden-Württemberg\n",
    "\n",
    "Available as wms from the \"LGRB\"\n",
    "\n",
    "https://lgrb-bw.de/informationssysteme/geodatendienste\n"
   ]
  },
  {
   "cell_type": "code",
   "execution_count": 1,
   "metadata": {
    "ExecuteTime": {
     "end_time": "2020-06-07T08:16:09.340299Z",
     "start_time": "2020-06-07T08:16:09.336300Z"
    }
   },
   "outputs": [],
   "source": [
    "# 1:350,000 overview map\n",
    "url = 'https://services.lgrb-bw.de/index.phtml?SERVICE_NAME=lgrb_uek350_geologie&REQUEST=GetCapabilities&VERSION=1.1.1&SERVICE=WMS'"
   ]
  },
  {
   "cell_type": "code",
   "execution_count": 2,
   "metadata": {
    "ExecuteTime": {
     "end_time": "2020-06-07T08:16:10.694299Z",
     "start_time": "2020-06-07T08:16:09.752299Z"
    }
   },
   "outputs": [
    {
     "name": "stdout",
     "output_type": "stream",
     "text": [
      "<module 'gemgis' from '../../gemgis\\\\gemgis\\\\__init__.py'>\n"
     ]
    }
   ],
   "source": [
    "import sys\n",
    "sys.path.append('../../gemgis/')\n",
    "\n",
    "import gemgis as gg\n",
    "\n",
    "print(gg)"
   ]
  },
  {
   "cell_type": "code",
   "execution_count": 3,
   "metadata": {
    "ExecuteTime": {
     "end_time": "2020-06-07T08:16:16.358555Z",
     "start_time": "2020-06-07T08:16:16.238556Z"
    }
   },
   "outputs": [],
   "source": [
    "wms = gg.data.WMS(url = url)"
   ]
  },
  {
   "cell_type": "code",
   "execution_count": 4,
   "metadata": {
    "ExecuteTime": {
     "end_time": "2020-06-07T08:16:17.055405Z",
     "start_time": "2020-06-07T08:16:17.051407Z"
    }
   },
   "outputs": [
    {
     "data": {
      "text/plain": [
       "['lgrb_uek350_geologie', 'gu300af_m', 'gu300tl_m', 'lgrb_uek350_geologie_ov']"
      ]
     },
     "execution_count": 4,
     "metadata": {},
     "output_type": "execute_result"
    }
   ],
   "source": [
    "wms.contents"
   ]
  },
  {
   "cell_type": "code",
   "execution_count": 5,
   "metadata": {
    "ExecuteTime": {
     "end_time": "2020-06-07T08:16:17.388766Z",
     "start_time": "2020-06-07T08:16:17.384766Z"
    }
   },
   "outputs": [],
   "source": [
    "loc_jettingen = (48.562707, 8.778022)"
   ]
  },
  {
   "cell_type": "code",
   "execution_count": 6,
   "metadata": {
    "ExecuteTime": {
     "end_time": "2020-06-07T08:16:17.666766Z",
     "start_time": "2020-06-07T08:16:17.650766Z"
    }
   },
   "outputs": [
    {
     "data": {
      "application/vnd.jupyter.widget-view+json": {
       "model_id": "213a1665b9d1492e98d57502ccfbe5f0",
       "version_major": 2,
       "version_minor": 0
      },
      "text/plain": [
       "Map(center=[48.562707, 8.778022], controls=(ZoomControl(options=['position', 'zoom_in_text', 'zoom_in_title', …"
      ]
     },
     "metadata": {},
     "output_type": "display_data"
    }
   ],
   "source": [
    "from ipyleaflet import Map, Marker, WMSLayer\n",
    "\n",
    "# center = (52.204793, 360.121558)\n",
    "\n",
    "# center = (50.802471, 6.053411)\n",
    "\n",
    "m = Map(center=loc_jettingen, zoom=12)\n",
    "\n",
    "marker = Marker(location=loc_jettingen, draggable=True)\n",
    "m.add_layer(marker);\n",
    "\n",
    "display(m)"
   ]
  },
  {
   "cell_type": "code",
   "execution_count": 7,
   "metadata": {
    "ExecuteTime": {
     "end_time": "2020-06-07T08:16:27.335740Z",
     "start_time": "2020-06-07T08:16:27.326736Z"
    }
   },
   "outputs": [
    {
     "data": {
      "application/vnd.jupyter.widget-view+json": {
       "model_id": "213a1665b9d1492e98d57502ccfbe5f0",
       "version_major": 2,
       "version_minor": 0
      },
      "text/plain": [
       "Map(center=[48.562707, 8.778022], controls=(ZoomControl(options=['position', 'zoom_in_text', 'zoom_in_title', …"
      ]
     },
     "metadata": {},
     "output_type": "display_data"
    }
   ],
   "source": [
    "from ipyleaflet import Map, WMSLayer, basemaps\n",
    "\n",
    "wms = WMSLayer(\n",
    "    url=url,\n",
    "    layers='lgrb_uek350_geologie',\n",
    "    format='image/png',\n",
    "    transparent=True,\n",
    "    attribution='Geo Bayern'\n",
    ")\n",
    "\n",
    "m.add_layer(wms)\n",
    "\n",
    "m"
   ]
  },
  {
   "cell_type": "code",
   "execution_count": null,
   "metadata": {},
   "outputs": [],
   "source": []
  }
 ],
 "metadata": {
  "hide_input": false,
  "kernelspec": {
   "display_name": "Python 3",
   "language": "python",
   "name": "python3"
  },
  "language_info": {
   "codemirror_mode": {
    "name": "ipython",
    "version": 3
   },
   "file_extension": ".py",
   "mimetype": "text/x-python",
   "name": "python",
   "nbconvert_exporter": "python",
   "pygments_lexer": "ipython3",
   "version": "3.7.7"
  },
  "toc": {
   "base_numbering": 1,
   "nav_menu": {},
   "number_sections": true,
   "sideBar": true,
   "skip_h1_title": false,
   "title_cell": "Table of Contents",
   "title_sidebar": "Contents",
   "toc_cell": false,
   "toc_position": {},
   "toc_section_display": true,
   "toc_window_display": false
  }
 },
 "nbformat": 4,
 "nbformat_minor": 4
}
